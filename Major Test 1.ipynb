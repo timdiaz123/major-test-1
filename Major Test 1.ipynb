{
 "cells": [
  {
   "cell_type": "markdown",
   "metadata": {},
   "source": [
    "### Major Test 1\n",
    "\n",
    "#### Coverage: Modules 2-4"
   ]
  },
  {
   "cell_type": "markdown",
   "metadata": {},
   "source": [
    "### A Intern Payroll\n",
    "\n",
    "**(75 Points)**\n",
    "\n",
    "#### Problem\n",
    "\n",
    "A tech startup hiring interns on a work-from-home basis asked you to automate the generation of a Payroll Slip Spoolfile based on a time-and-attendance log file. You are given the file named `interns-july2020.csv` for the current month for testing and immediate deployment. The first few lines of the log file look something like this:\n",
    "\n",
    "```\n",
    "id,base_monthly_pay,hours_rendered\n",
    "2020001,4500,15\n",
    "2020002,4500,20\n",
    "2020003,4500,15\n",
    "2020004,4500,20\n",
    "2020005,4500,16\n",
    "2020006,4500,18\n",
    "```\n",
    "\n",
    "There are 20 interns in total.\n",
    "\n",
    "\n",
    "To compute for Takehome Pay, first you need to compute for utilization.\n",
    "\n",
    "To get the full amount of base pay as takehome pay, the intern must have 100% utilization.  \n",
    "\n",
    "Assume that 100% Utilization for the month means 20 hours. So, 15 hours means 15/20 = .75 (or 75% Utilization).\n",
    "\n",
    "**Takehome Pay = base monthly pay x utilization. **\n",
    "\n",
    "Example:\n",
    "\n",
    "Base Monthly Pay: 5000.00\n",
    "Hours Rendered  : 15\n",
    "\n",
    "Utilization = base monthly pay x hours rendered / 20 = 5000.00 x 15 / 20 = 3750.00  \n",
    "\n",
    "### Instructions\n",
    "\n",
    "#### 1\n",
    "\n",
    "#### 1.a.\n",
    "\n",
    "Write a function `get_utilization` with an argument `hours_rendered` and returns utilization (not percentage).\n",
    "\n"
   ]
  },
  {
   "cell_type": "code",
   "execution_count": 3,
   "metadata": {},
   "outputs": [],
   "source": [
    "# write code here. add more cells as needed.\n",
    "def get_utilization(hours_rendered):\n",
    "    return hours_rendered/20\n"
   ]
  },
  {
   "cell_type": "markdown",
   "metadata": {},
   "source": [
    "#### 1.b.\n",
    "\n",
    "Write a function `get_takehome_pay` with two arguments `base_monthly_pay` and `hours_rendered` and returns the computed takehome pay as float. This function will presumably call `get_utilization`.\n",
    "\n",
    "\n"
   ]
  },
  {
   "cell_type": "code",
   "execution_count": 1,
   "metadata": {},
   "outputs": [],
   "source": [
    "# write code here. add more cells as needed.\n",
    "def get_takehome_pay(base_monthly_pay,hours_rendered):\n",
    "    utilization=get_utilization(hours_rendered)\n",
    "    return float(base_monthly_pay*utilization)\n"
   ]
  },
  {
   "cell_type": "markdown",
   "metadata": {},
   "source": [
    "#### 2\n",
    "\n",
    "#### 2.a.\n",
    "\n",
    "Create a **list** variable named `raw_log` that contains **dictionaries** (or **ordered dictionaries** if you use the DictReader method of the Python csv module) for each entry in the time-and-attendance log file `interns-july2020.csv`."
   ]
  },
  {
   "cell_type": "code",
   "execution_count": 3,
   "metadata": {},
   "outputs": [
    {
     "data": {
      "text/plain": [
       "[OrderedDict([('id', '2020001'),\n",
       "              ('base_monthly_pay', '4500'),\n",
       "              ('hours_rendered', '20')]),\n",
       " OrderedDict([('id', '2020002'),\n",
       "              ('base_monthly_pay', '4500'),\n",
       "              ('hours_rendered', '17')]),\n",
       " OrderedDict([('id', '2020003'),\n",
       "              ('base_monthly_pay', '4500'),\n",
       "              ('hours_rendered', '16')]),\n",
       " OrderedDict([('id', '2020004'),\n",
       "              ('base_monthly_pay', '4500'),\n",
       "              ('hours_rendered', '15')]),\n",
       " OrderedDict([('id', '2020005'),\n",
       "              ('base_monthly_pay', '4500'),\n",
       "              ('hours_rendered', '16')]),\n",
       " OrderedDict([('id', '2020006'),\n",
       "              ('base_monthly_pay', '4500'),\n",
       "              ('hours_rendered', '18')]),\n",
       " OrderedDict([('id', '2020007'),\n",
       "              ('base_monthly_pay', '4500'),\n",
       "              ('hours_rendered', '17')]),\n",
       " OrderedDict([('id', '2020008'),\n",
       "              ('base_monthly_pay', '5000'),\n",
       "              ('hours_rendered', '17')]),\n",
       " OrderedDict([('id', '2020009'),\n",
       "              ('base_monthly_pay', '5000'),\n",
       "              ('hours_rendered', '15')]),\n",
       " OrderedDict([('id', '2020010'),\n",
       "              ('base_monthly_pay', '5000'),\n",
       "              ('hours_rendered', '18')]),\n",
       " OrderedDict([('id', '2020011'),\n",
       "              ('base_monthly_pay', '5000'),\n",
       "              ('hours_rendered', '16')]),\n",
       " OrderedDict([('id', '2020012'),\n",
       "              ('base_monthly_pay', '5000'),\n",
       "              ('hours_rendered', '20')]),\n",
       " OrderedDict([('id', '2020013'),\n",
       "              ('base_monthly_pay', '5000'),\n",
       "              ('hours_rendered', '18')]),\n",
       " OrderedDict([('id', '2020014'),\n",
       "              ('base_monthly_pay', '6000'),\n",
       "              ('hours_rendered', '19')]),\n",
       " OrderedDict([('id', '2020015'),\n",
       "              ('base_monthly_pay', '6000'),\n",
       "              ('hours_rendered', '20')]),\n",
       " OrderedDict([('id', '2020016'),\n",
       "              ('base_monthly_pay', '6000'),\n",
       "              ('hours_rendered', '20')]),\n",
       " OrderedDict([('id', '2020017'),\n",
       "              ('base_monthly_pay', '6000'),\n",
       "              ('hours_rendered', '20')]),\n",
       " OrderedDict([('id', '2020018'),\n",
       "              ('base_monthly_pay', '6000'),\n",
       "              ('hours_rendered', '17')]),\n",
       " OrderedDict([('id', '2020019'),\n",
       "              ('base_monthly_pay', '6000'),\n",
       "              ('hours_rendered', '20')]),\n",
       " OrderedDict([('id', '2020020'),\n",
       "              ('base_monthly_pay', '6000'),\n",
       "              ('hours_rendered', '18')])]"
      ]
     },
     "execution_count": 3,
     "metadata": {},
     "output_type": "execute_result"
    }
   ],
   "source": [
    "import csv\n",
    "\n",
    "\n",
    "raw_log = []\n",
    "# write code here. add more cells as needed.\n",
    "with open('interns-july2020.csv','r') as csvfile:\n",
    "    reader=csv.DictReader(csvfile)\n",
    "    for row in reader:\n",
    "        raw_log.append(row)\n",
    "\n",
    "        \n",
    "# sample dump of raw_log in interactive mode\n",
    "raw_log"
   ]
  },
  {
   "cell_type": "code",
   "execution_count": 2,
   "metadata": {},
   "outputs": [
    {
     "data": {
      "text/plain": [
       "[OrderedDict([('id', '2020001'),\n",
       "              ('base_monthly_pay', '4500'),\n",
       "              ('hours_rendered', '20')]),\n",
       " OrderedDict([('id', '2020002'),\n",
       "              ('base_monthly_pay', '4500'),\n",
       "              ('hours_rendered', '17')]),\n",
       " OrderedDict([('id', '2020003'),\n",
       "              ('base_monthly_pay', '4500'),\n",
       "              ('hours_rendered', '16')]),\n",
       " OrderedDict([('id', '2020004'),\n",
       "              ('base_monthly_pay', '4500'),\n",
       "              ('hours_rendered', '15')]),\n",
       " OrderedDict([('id', '2020005'),\n",
       "              ('base_monthly_pay', '4500'),\n",
       "              ('hours_rendered', '16')]),\n",
       " OrderedDict([('id', '2020006'),\n",
       "              ('base_monthly_pay', '4500'),\n",
       "              ('hours_rendered', '18')]),\n",
       " OrderedDict([('id', '2020007'),\n",
       "              ('base_monthly_pay', '4500'),\n",
       "              ('hours_rendered', '17')]),\n",
       " OrderedDict([('id', '2020008'),\n",
       "              ('base_monthly_pay', '5000'),\n",
       "              ('hours_rendered', '17')]),\n",
       " OrderedDict([('id', '2020009'),\n",
       "              ('base_monthly_pay', '5000'),\n",
       "              ('hours_rendered', '15')]),\n",
       " OrderedDict([('id', '2020010'),\n",
       "              ('base_monthly_pay', '5000'),\n",
       "              ('hours_rendered', '18')]),\n",
       " OrderedDict([('id', '2020011'),\n",
       "              ('base_monthly_pay', '5000'),\n",
       "              ('hours_rendered', '16')]),\n",
       " OrderedDict([('id', '2020012'),\n",
       "              ('base_monthly_pay', '5000'),\n",
       "              ('hours_rendered', '20')]),\n",
       " OrderedDict([('id', '2020013'),\n",
       "              ('base_monthly_pay', '5000'),\n",
       "              ('hours_rendered', '18')]),\n",
       " OrderedDict([('id', '2020014'),\n",
       "              ('base_monthly_pay', '6000'),\n",
       "              ('hours_rendered', '19')]),\n",
       " OrderedDict([('id', '2020015'),\n",
       "              ('base_monthly_pay', '6000'),\n",
       "              ('hours_rendered', '20')]),\n",
       " OrderedDict([('id', '2020016'),\n",
       "              ('base_monthly_pay', '6000'),\n",
       "              ('hours_rendered', '20')]),\n",
       " OrderedDict([('id', '2020017'),\n",
       "              ('base_monthly_pay', '6000'),\n",
       "              ('hours_rendered', '20')]),\n",
       " OrderedDict([('id', '2020018'),\n",
       "              ('base_monthly_pay', '6000'),\n",
       "              ('hours_rendered', '17')]),\n",
       " OrderedDict([('id', '2020019'),\n",
       "              ('base_monthly_pay', '6000'),\n",
       "              ('hours_rendered', '20')]),\n",
       " OrderedDict([('id', '2020020'),\n",
       "              ('base_monthly_pay', '6000'),\n",
       "              ('hours_rendered', '18')])]"
      ]
     },
     "execution_count": 2,
     "metadata": {},
     "output_type": "execute_result"
    }
   ],
   "source": [
    "# Testing the code\n",
    "import csv\n",
    "raw_log=[]\n",
    "with open('interns-july2020.csv','r') as csvfile:\n",
    "    reader=csv.DictReader(csvfile)\n",
    "    for row in reader:\n",
    "        raw_log.append(row)\n",
    "raw_log"
   ]
  },
  {
   "cell_type": "markdown",
   "metadata": {},
   "source": [
    "#### 2.b.\n",
    "\n",
    "Create a new list variable `payroll` based on `raw_logs` but with an additional key `takehome_pay` for each dictionary entry."
   ]
  },
  {
   "cell_type": "code",
   "execution_count": 6,
   "metadata": {},
   "outputs": [
    {
     "data": {
      "text/plain": [
       "[OrderedDict([('id', '2020001'),\n",
       "              ('base_monthly_pay', '4500'),\n",
       "              ('hours_rendered', '20'),\n",
       "              ('takehome_pay', 4500.0)]),\n",
       " OrderedDict([('id', '2020002'),\n",
       "              ('base_monthly_pay', '4500'),\n",
       "              ('hours_rendered', '17'),\n",
       "              ('takehome_pay', 3825.0)]),\n",
       " OrderedDict([('id', '2020003'),\n",
       "              ('base_monthly_pay', '4500'),\n",
       "              ('hours_rendered', '16'),\n",
       "              ('takehome_pay', 3600.0)]),\n",
       " OrderedDict([('id', '2020004'),\n",
       "              ('base_monthly_pay', '4500'),\n",
       "              ('hours_rendered', '15'),\n",
       "              ('takehome_pay', 3375.0)]),\n",
       " OrderedDict([('id', '2020005'),\n",
       "              ('base_monthly_pay', '4500'),\n",
       "              ('hours_rendered', '16'),\n",
       "              ('takehome_pay', 3600.0)]),\n",
       " OrderedDict([('id', '2020006'),\n",
       "              ('base_monthly_pay', '4500'),\n",
       "              ('hours_rendered', '18'),\n",
       "              ('takehome_pay', 4050.0)]),\n",
       " OrderedDict([('id', '2020007'),\n",
       "              ('base_monthly_pay', '4500'),\n",
       "              ('hours_rendered', '17'),\n",
       "              ('takehome_pay', 3825.0)]),\n",
       " OrderedDict([('id', '2020008'),\n",
       "              ('base_monthly_pay', '5000'),\n",
       "              ('hours_rendered', '17'),\n",
       "              ('takehome_pay', 4250.0)]),\n",
       " OrderedDict([('id', '2020009'),\n",
       "              ('base_monthly_pay', '5000'),\n",
       "              ('hours_rendered', '15'),\n",
       "              ('takehome_pay', 3750.0)]),\n",
       " OrderedDict([('id', '2020010'),\n",
       "              ('base_monthly_pay', '5000'),\n",
       "              ('hours_rendered', '18'),\n",
       "              ('takehome_pay', 4500.0)]),\n",
       " OrderedDict([('id', '2020011'),\n",
       "              ('base_monthly_pay', '5000'),\n",
       "              ('hours_rendered', '16'),\n",
       "              ('takehome_pay', 4000.0)]),\n",
       " OrderedDict([('id', '2020012'),\n",
       "              ('base_monthly_pay', '5000'),\n",
       "              ('hours_rendered', '20'),\n",
       "              ('takehome_pay', 5000.0)]),\n",
       " OrderedDict([('id', '2020013'),\n",
       "              ('base_monthly_pay', '5000'),\n",
       "              ('hours_rendered', '18'),\n",
       "              ('takehome_pay', 4500.0)]),\n",
       " OrderedDict([('id', '2020014'),\n",
       "              ('base_monthly_pay', '6000'),\n",
       "              ('hours_rendered', '19'),\n",
       "              ('takehome_pay', 5700.0)]),\n",
       " OrderedDict([('id', '2020015'),\n",
       "              ('base_monthly_pay', '6000'),\n",
       "              ('hours_rendered', '20'),\n",
       "              ('takehome_pay', 6000.0)]),\n",
       " OrderedDict([('id', '2020016'),\n",
       "              ('base_monthly_pay', '6000'),\n",
       "              ('hours_rendered', '20'),\n",
       "              ('takehome_pay', 6000.0)]),\n",
       " OrderedDict([('id', '2020017'),\n",
       "              ('base_monthly_pay', '6000'),\n",
       "              ('hours_rendered', '20'),\n",
       "              ('takehome_pay', 6000.0)]),\n",
       " OrderedDict([('id', '2020018'),\n",
       "              ('base_monthly_pay', '6000'),\n",
       "              ('hours_rendered', '17'),\n",
       "              ('takehome_pay', 5100.0)]),\n",
       " OrderedDict([('id', '2020019'),\n",
       "              ('base_monthly_pay', '6000'),\n",
       "              ('hours_rendered', '20'),\n",
       "              ('takehome_pay', 6000.0)]),\n",
       " OrderedDict([('id', '2020020'),\n",
       "              ('base_monthly_pay', '6000'),\n",
       "              ('hours_rendered', '18'),\n",
       "              ('takehome_pay', 5400.0)])]"
      ]
     },
     "execution_count": 6,
     "metadata": {},
     "output_type": "execute_result"
    }
   ],
   "source": [
    "payroll = []\n",
    "\n",
    "# write code here. add more cells as needed.\n",
    "for entry in raw_log:\n",
    "    entry['takehome_pay']=get_takehome_pay(int(entry['base_monthly_pay']),int(entry['hours_rendered']))\n",
    "    payroll.append(entry)\n",
    "# sample dump of payroll in interactive mode\n",
    "payroll"
   ]
  },
  {
   "cell_type": "code",
   "execution_count": 4,
   "metadata": {},
   "outputs": [
    {
     "data": {
      "text/plain": [
       "[OrderedDict([('id', '2020001'),\n",
       "              ('base_monthly_pay', '4500'),\n",
       "              ('hours_rendered', '20'),\n",
       "              ('takehome_pay', 4500.0)]),\n",
       " OrderedDict([('id', '2020002'),\n",
       "              ('base_monthly_pay', '4500'),\n",
       "              ('hours_rendered', '17'),\n",
       "              ('takehome_pay', 3825.0)]),\n",
       " OrderedDict([('id', '2020003'),\n",
       "              ('base_monthly_pay', '4500'),\n",
       "              ('hours_rendered', '16'),\n",
       "              ('takehome_pay', 3600.0)]),\n",
       " OrderedDict([('id', '2020004'),\n",
       "              ('base_monthly_pay', '4500'),\n",
       "              ('hours_rendered', '15'),\n",
       "              ('takehome_pay', 3375.0)]),\n",
       " OrderedDict([('id', '2020005'),\n",
       "              ('base_monthly_pay', '4500'),\n",
       "              ('hours_rendered', '16'),\n",
       "              ('takehome_pay', 3600.0)]),\n",
       " OrderedDict([('id', '2020006'),\n",
       "              ('base_monthly_pay', '4500'),\n",
       "              ('hours_rendered', '18'),\n",
       "              ('takehome_pay', 4050.0)]),\n",
       " OrderedDict([('id', '2020007'),\n",
       "              ('base_monthly_pay', '4500'),\n",
       "              ('hours_rendered', '17'),\n",
       "              ('takehome_pay', 3825.0)]),\n",
       " OrderedDict([('id', '2020008'),\n",
       "              ('base_monthly_pay', '5000'),\n",
       "              ('hours_rendered', '17'),\n",
       "              ('takehome_pay', 4250.0)]),\n",
       " OrderedDict([('id', '2020009'),\n",
       "              ('base_monthly_pay', '5000'),\n",
       "              ('hours_rendered', '15'),\n",
       "              ('takehome_pay', 3750.0)]),\n",
       " OrderedDict([('id', '2020010'),\n",
       "              ('base_monthly_pay', '5000'),\n",
       "              ('hours_rendered', '18'),\n",
       "              ('takehome_pay', 4500.0)]),\n",
       " OrderedDict([('id', '2020011'),\n",
       "              ('base_monthly_pay', '5000'),\n",
       "              ('hours_rendered', '16'),\n",
       "              ('takehome_pay', 4000.0)]),\n",
       " OrderedDict([('id', '2020012'),\n",
       "              ('base_monthly_pay', '5000'),\n",
       "              ('hours_rendered', '20'),\n",
       "              ('takehome_pay', 5000.0)]),\n",
       " OrderedDict([('id', '2020013'),\n",
       "              ('base_monthly_pay', '5000'),\n",
       "              ('hours_rendered', '18'),\n",
       "              ('takehome_pay', 4500.0)]),\n",
       " OrderedDict([('id', '2020014'),\n",
       "              ('base_monthly_pay', '6000'),\n",
       "              ('hours_rendered', '19'),\n",
       "              ('takehome_pay', 5700.0)]),\n",
       " OrderedDict([('id', '2020015'),\n",
       "              ('base_monthly_pay', '6000'),\n",
       "              ('hours_rendered', '20'),\n",
       "              ('takehome_pay', 6000.0)]),\n",
       " OrderedDict([('id', '2020016'),\n",
       "              ('base_monthly_pay', '6000'),\n",
       "              ('hours_rendered', '20'),\n",
       "              ('takehome_pay', 6000.0)]),\n",
       " OrderedDict([('id', '2020017'),\n",
       "              ('base_monthly_pay', '6000'),\n",
       "              ('hours_rendered', '20'),\n",
       "              ('takehome_pay', 6000.0)]),\n",
       " OrderedDict([('id', '2020018'),\n",
       "              ('base_monthly_pay', '6000'),\n",
       "              ('hours_rendered', '17'),\n",
       "              ('takehome_pay', 5100.0)]),\n",
       " OrderedDict([('id', '2020019'),\n",
       "              ('base_monthly_pay', '6000'),\n",
       "              ('hours_rendered', '20'),\n",
       "              ('takehome_pay', 6000.0)]),\n",
       " OrderedDict([('id', '2020020'),\n",
       "              ('base_monthly_pay', '6000'),\n",
       "              ('hours_rendered', '18'),\n",
       "              ('takehome_pay', 5400.0)])]"
      ]
     },
     "execution_count": 4,
     "metadata": {},
     "output_type": "execute_result"
    }
   ],
   "source": [
    "# Testing the code\n",
    "payroll=[]\n",
    "for entry in raw_log:\n",
    "    entry['takehome_pay']=get_takehome_pay(int(entry['base_monthly_pay']),int(entry['hours_rendered']))\n",
    "    payroll.append(entry)\n",
    "payroll"
   ]
  },
  {
   "cell_type": "markdown",
   "metadata": {},
   "source": [
    "#### 2.c.\n",
    "\n",
    "Looping through the new list variable `payroll`, write a simple payroll spool file named `payslip-july2020.txt` containing Payslips for interns.\n",
    "\n",
    "Each record in the Payroll Spool File will look something like this:\n",
    "```\n",
    "Payroll Date   : July 25, 2020\n",
    "ID             : 2020001\n",
    "Base Pay       : 4500\n",
    "------------------------------\n",
    "Hours Rendered : 15\n",
    "Takehome Pay   : 3375.0\n",
    "\n",
    "______________________________\n",
    "\n",
    "```\n",
    "\n",
    "The first few entries of the sample spoolfile provided look something like this:\n",
    "```\n",
    "Payroll Date   : July 25, 2020\n",
    "ID             : 2020001\n",
    "Base Pay       : 4500\n",
    "------------------------------\n",
    "Hours Rendered : 15\n",
    "Takehome Pay   : 3375.0\n",
    "\n",
    "______________________________\n",
    "Payroll Date   : July 25, 2020\n",
    "ID             : 2020002\n",
    "Base Pay       : 4500\n",
    "------------------------------\n",
    "Hours Rendered : 20\n",
    "Takehome Pay   : 4500.0\n",
    "\n",
    "______________________________\n",
    "Payroll Date   : July 25, 2020\n",
    "ID             : 2020003\n",
    "Base Pay       : 4500\n",
    "------------------------------\n",
    "Hours Rendered : 15\n",
    "Takehome Pay   : 3375.0\n",
    "\n",
    "______________________________\n",
    "\n",
    "```\n",
    "\n",
    "A sample file `payslip-july2020_test_output.txt` has been provided for your reference. Use this to test your output. Note that both your `payslip-july2020.txt` AND `payslip-july2020_test_output.txt` must match character by character!\n",
    "\n",
    "To test this using operating system commands:\n",
    "\n",
    "Windows:  `fc payslip-july2020.txt payslip-july2020_test_output.txt`\n",
    "Mac:  `diff payslip-july2020.txt payslip-july2020_test_output.txt`\n"
   ]
  },
  {
   "cell_type": "code",
   "execution_count": 8,
   "metadata": {},
   "outputs": [],
   "source": [
    "import csv\n",
    "\n",
    "# write code here. add more cells as needed.\n",
    "with open('payslip-july2020.txt','w') as txtwriter:\n",
    "    for entry in payroll:\n",
    "        txtwriter.write('Payroll Date   : July 25, 2020\\n')\n",
    "        txtwriter.write('ID             : '+str(entry['id'])+'\\n')\n",
    "        txtwriter.write('Base Pay       : '+str(entry['base_monthly_pay'])+'\\n')\n",
    "        txtwriter.write('------------------------------\\n')\n",
    "        txtwriter.write('Hours Rendered : '+str(entry['hours_rendered'])+'\\n')\n",
    "        txtwriter.write('Takehome Pay   : '+str(entry['takehome_pay'])+'\\n')\n",
    "        txtwriter.write('\\n')\n",
    "        txtwriter.write('______________________________\\n')"
   ]
  },
  {
   "cell_type": "markdown",
   "metadata": {},
   "source": [
    "#### 3\n",
    "\n",
    "#### 3.a.\n",
    "\n",
    "Load the file `interns-masterlist.csv` to a dictionary variable named `intern_master`. The dictionary keys are the ids of the interns.\n"
   ]
  },
  {
   "cell_type": "code",
   "execution_count": 7,
   "metadata": {},
   "outputs": [
    {
     "name": "stdout",
     "output_type": "stream",
     "text": [
      "{'2020001': '1093 5000 5001', '2020002': '1093 5000 5002', '2020003': '1093 5000 5003', '2020004': '1093 5000 5004', '2020005': '1093 5000 5005', '2020006': '1093 5000 5006', '2020007': '1093 5000 5007', '2020008': '1093 5000 5008', '2020009': '1093 5000 5009', '2020010': '1093 5000 5010', '2020011': '1093 5000 5011', '2020012': '1093 5000 5012', '2020013': '1093 5000 5013', '2020014': '1093 5000 5014', '2020015': '1093 5000 5015', '2020016': '1093 5000 5016', '2020017': '1093 5000 5017', '2020018': '1093 5000 5018', '2020019': '1093 5000 5019', '2020020': '1093 5000 5020'}\n"
     ]
    }
   ],
   "source": [
    "intern_master = dict()\n",
    "\n",
    "# write code here. add more cells as needed.\n",
    "import csv\n",
    "with open('interns-masterlist.csv','r') as file:\n",
    "    reader=csv.DictReader(file)\n",
    "    for row in reader:\n",
    "        intern_master[row['id']]=row['account_number']\n",
    "\n",
    "# The sample output can be seen below\n",
    "print(intern_master)"
   ]
  },
  {
   "cell_type": "code",
   "execution_count": 7,
   "metadata": {},
   "outputs": [
    {
     "name": "stdout",
     "output_type": "stream",
     "text": [
      "{'2020001': '1093 5000 5001', '2020002': '1093 5000 5002', '2020003': '1093 5000 5003', '2020004': '1093 5000 5004', '2020005': '1093 5000 5005', '2020006': '1093 5000 5006', '2020007': '1093 5000 5007', '2020008': '1093 5000 5008', '2020009': '1093 5000 5009', '2020010': '1093 5000 5010', '2020011': '1093 5000 5011', '2020012': '1093 5000 5012', '2020013': '1093 5000 5013', '2020014': '1093 5000 5014', '2020015': '1093 5000 5015', '2020016': '1093 5000 5016', '2020017': '1093 5000 5017', '2020018': '1093 5000 5018', '2020019': '1093 5000 5019', '2020020': '1093 5000 5020'}\n"
     ]
    }
   ],
   "source": [
    "# Testing the code\n",
    "import csv\n",
    "intern_master=dict()\n",
    "with open('interns-masterlist.csv','r') as file:\n",
    "    reader=csv.DictReader(file)\n",
    "    for row in reader:\n",
    "        intern_master[row['id']]=row['account_number']\n",
    "print(intern_master)"
   ]
  },
  {
   "cell_type": "markdown",
   "metadata": {},
   "source": [
    "#### 3.b.\n",
    "\n",
    "As you can see from the previous question, each intern already has a bank account. All the company needs to do is to tell the bank to pay each intern via a **credit advise** file following a certain format.\n",
    "\n",
    "Generate a bank credit advise CSV file `credit-advise-july-2020.csv` for your payroll run.\n",
    "\n",
    "The credit advise file should contain the following information:\n",
    "* account number (`account_number`)\n",
    "* amount to be credited (`amount`), which is the takehome pay\n",
    "\n",
    "Account numbers **must not contain spaces**.\n",
    "\n",
    "Hint: you will need information from `intern_master` and `payroll` to make this work.\n",
    "\n",
    "The first few lines of `credit-advise-july-2020.csv` will look like this:\n",
    "\n",
    "```\n",
    "account_number,amount\n",
    "109350005001,4500.0\n",
    "109350005002,3825.0\n",
    "109350005003,3600.0\n",
    "109350005004,3375.0\n",
    "109350005005,3600.0\n",
    "109350005006,4050.0\n",
    "109350005007,3825.0\n",
    "```\n",
    "\n",
    "A sample file `credit-advise-july-2020_test_output.csv` has been provided for your reference. Use this to test your output. Note that both your `credit-advise-july-2020.csv` AND `credit-advise-july-2020_test_output.csv` must match character by character!\n",
    "\n",
    "To test this using operating system commands:\n",
    "\n",
    "Windows:  `fc credit-advise-july-2020.csv credit-advise-july-2020_test_output.csv`\n",
    "Mac:  `diff credit-advise-july-2020.csv credit-advise-july-2020_test_output.csv`"
   ]
  },
  {
   "cell_type": "code",
   "execution_count": 54,
   "metadata": {},
   "outputs": [],
   "source": [
    "# write code here. add more cells as needed.\n",
    "with open('credit-advise-july-2020.csv','w') as csvfile:\n",
    "    field_names=['account_number','amount']\n",
    "    writer=csv.DictWriter(csvfile,fieldnames=field_names)\n",
    "    writer.writeheader()\n",
    "    account_numbers=[a[:4]+a[5:9]+a[10:] for a in intern_master.values()]\n",
    "    i=0\n",
    "    for entry in intern_master:\n",
    "        writer.writerow({'account_number':account_numbers[i],'amount':payroll[i]['takehome_pay']})\n",
    "        i+=1"
   ]
  },
  {
   "cell_type": "code",
   "execution_count": 6,
   "metadata": {},
   "outputs": [
    {
     "name": "stdout",
     "output_type": "stream",
     "text": [
      "['109350005001', '109350005002', '109350005003', '109350005004', '109350005005', '109350005006', '109350005007', '109350005008', '109350005009', '109350005010', '109350005011', '109350005012', '109350005013', '109350005014', '109350005015', '109350005016', '109350005017', '109350005018', '109350005019', '109350005020']\n"
     ]
    }
   ],
   "source": [
    "# Testing part of the code\n",
    "account_numbers=[a[:4]+a[5:9]+a[10:] for a in intern_master.values()]\n",
    "print(account_numbers)"
   ]
  },
  {
   "cell_type": "markdown",
   "metadata": {},
   "source": [
    "### B Spotify and JSON\n",
    "\n",
    "**(75 Points)**\n",
    "\n",
    "Spotify has a [Developers' Portal](https://developer.spotify.com/) which allows you to write programs to access information about tracks, albums, playlists, recommendations, audio features, and others.\n",
    "\n",
    "A dump of new releases as of July 23, 2020 is found in the `spotify-new-releases.json`.\n",
    "\n"
   ]
  },
  {
   "cell_type": "markdown",
   "metadata": {},
   "source": [
    "#### 1.\n",
    "\n",
    "#### 1.a. \n",
    "\n",
    "Load the contents of `spotify-new-releases.json` into a **dictionary** variable named `new_releases` resembling the JSON structure."
   ]
  },
  {
   "cell_type": "code",
   "execution_count": 9,
   "metadata": {},
   "outputs": [
    {
     "name": "stdout",
     "output_type": "stream",
     "text": [
      "<class 'dict'>\n"
     ]
    }
   ],
   "source": [
    "import json\n",
    "\n",
    "# write code here. add more cells as needed.\n",
    "with open('spotify-new-releases.json','r') as menu_file:\n",
    "    new_releases=json.loads(menu_file.read())\n",
    "\n",
    "\n",
    "\n",
    "\n",
    "# verify that new_releases is a dictionary\n",
    "print(type(new_releases))"
   ]
  },
  {
   "cell_type": "code",
   "execution_count": 3,
   "metadata": {},
   "outputs": [
    {
     "name": "stdout",
     "output_type": "stream",
     "text": [
      "<class 'dict'>\n"
     ]
    }
   ],
   "source": [
    "# Testing the code\n",
    "import json\n",
    "with open('spotify-new-releases.json','r') as menu_file:\n",
    "    new_releases=json.loads(menu_file.read())\n",
    "print(type(new_releases))"
   ]
  },
  {
   "cell_type": "markdown",
   "metadata": {},
   "source": [
    "#### 1.b.\n",
    "\n",
    "Dump contents of new_releases (in script mode)"
   ]
  },
  {
   "cell_type": "code",
   "execution_count": 10,
   "metadata": {},
   "outputs": [
    {
     "name": "stdout",
     "output_type": "stream",
     "text": [
      "{'albums': {'href': 'https://api.spotify.com/v1/browse/new-releases?offset=0&limit=20', 'items': [{'album_type': 'single', 'artists': [{'external_urls': {'spotify': 'https://open.spotify.com/artist/0QHgL1lAIqAw0HtD7YldmP'}, 'href': 'https://api.spotify.com/v1/artists/0QHgL1lAIqAw0HtD7YldmP', 'id': '0QHgL1lAIqAw0HtD7YldmP', 'name': 'DJ Khaled', 'type': 'artist', 'uri': 'spotify:artist:0QHgL1lAIqAw0HtD7YldmP'}, {'external_urls': {'spotify': 'https://open.spotify.com/artist/3TVXtAsR1Inumwj472S9r4'}, 'href': 'https://api.spotify.com/v1/artists/3TVXtAsR1Inumwj472S9r4', 'id': '3TVXtAsR1Inumwj472S9r4', 'name': 'Drake', 'type': 'artist', 'uri': 'spotify:artist:3TVXtAsR1Inumwj472S9r4'}], 'available_markets': ['AD', 'AE', 'AL', 'AR', 'AT', 'AU', 'BA', 'BE', 'BG', 'BH', 'BO', 'BR', 'BY', 'CA', 'CH', 'CL', 'CO', 'CR', 'CY', 'CZ', 'DE', 'DK', 'DO', 'DZ', 'EC', 'EE', 'EG', 'ES', 'FI', 'FR', 'GB', 'GR', 'GT', 'HK', 'HN', 'HR', 'HU', 'ID', 'IE', 'IL', 'IN', 'IS', 'IT', 'JO', 'JP', 'KW', 'KZ', 'LB', 'LI', 'LT', 'LU', 'LV', 'MA', 'MC', 'MD', 'ME', 'MK', 'MT', 'MX', 'MY', 'NI', 'NL', 'NO', 'NZ', 'OM', 'PA', 'PE', 'PH', 'PL', 'PS', 'PT', 'PY', 'QA', 'RO', 'RS', 'RU', 'SA', 'SE', 'SG', 'SI', 'SK', 'SV', 'TH', 'TN', 'TR', 'TW', 'UA', 'US', 'UY', 'VN', 'XK', 'ZA'], 'external_urls': {'spotify': 'https://open.spotify.com/album/5nNtpPsSUgb9Hlb3dF1gXa'}, 'href': 'https://api.spotify.com/v1/albums/5nNtpPsSUgb9Hlb3dF1gXa', 'id': '5nNtpPsSUgb9Hlb3dF1gXa', 'images': [{'height': 640, 'url': 'https://i.scdn.co/image/ab67616d0000b273efaecb4b9cbae7c120d14617', 'width': 640}, {'height': 300, 'url': 'https://i.scdn.co/image/ab67616d00001e02efaecb4b9cbae7c120d14617', 'width': 300}, {'height': 64, 'url': 'https://i.scdn.co/image/ab67616d00004851efaecb4b9cbae7c120d14617', 'width': 64}], 'name': 'POPSTAR (feat. Drake)', 'release_date': '2020-07-17', 'release_date_precision': 'day', 'total_tracks': 1, 'type': 'album', 'uri': 'spotify:album:5nNtpPsSUgb9Hlb3dF1gXa'}, {'album_type': 'album', 'artists': [{'external_urls': {'spotify': 'https://open.spotify.com/artist/0X2BH1fck6amBIoJhDVmmJ'}, 'href': 'https://api.spotify.com/v1/artists/0X2BH1fck6amBIoJhDVmmJ', 'id': '0X2BH1fck6amBIoJhDVmmJ', 'name': 'Ellie Goulding', 'type': 'artist', 'uri': 'spotify:artist:0X2BH1fck6amBIoJhDVmmJ'}], 'available_markets': ['AD', 'AE', 'AL', 'AR', 'AT', 'AU', 'BA', 'BE', 'BG', 'BH', 'BO', 'BR', 'BY', 'CA', 'CH', 'CL', 'CO', 'CR', 'CY', 'CZ', 'DE', 'DK', 'DO', 'DZ', 'EC', 'EE', 'EG', 'ES', 'FI', 'FR', 'GB', 'GR', 'GT', 'HK', 'HN', 'HR', 'HU', 'ID', 'IE', 'IL', 'IN', 'IS', 'IT', 'JO', 'JP', 'KW', 'KZ', 'LB', 'LI', 'LT', 'LU', 'LV', 'MA', 'MC', 'MD', 'ME', 'MK', 'MT', 'MX', 'MY', 'NI', 'NL', 'NO', 'NZ', 'OM', 'PA', 'PE', 'PH', 'PL', 'PS', 'PT', 'PY', 'QA', 'RO', 'RS', 'RU', 'SA', 'SE', 'SG', 'SI', 'SK', 'SV', 'TH', 'TN', 'TR', 'TW', 'UA', 'US', 'UY', 'VN', 'XK', 'ZA'], 'external_urls': {'spotify': 'https://open.spotify.com/album/7hCfgsycCFH4bBjEfUwh3S'}, 'href': 'https://api.spotify.com/v1/albums/7hCfgsycCFH4bBjEfUwh3S', 'id': '7hCfgsycCFH4bBjEfUwh3S', 'images': [{'height': 640, 'url': 'https://i.scdn.co/image/ab67616d0000b2735f76dbd311a0782823550b30', 'width': 640}, {'height': 300, 'url': 'https://i.scdn.co/image/ab67616d00001e025f76dbd311a0782823550b30', 'width': 300}, {'height': 64, 'url': 'https://i.scdn.co/image/ab67616d000048515f76dbd311a0782823550b30', 'width': 64}], 'name': 'Brightest Blue', 'release_date': '2020-07-17', 'release_date_precision': 'day', 'total_tracks': 18, 'type': 'album', 'uri': 'spotify:album:7hCfgsycCFH4bBjEfUwh3S'}, {'album_type': 'single', 'artists': [{'external_urls': {'spotify': 'https://open.spotify.com/artist/6jlWj6y00bMQt8XoKuCjyZ'}, 'href': 'https://api.spotify.com/v1/artists/6jlWj6y00bMQt8XoKuCjyZ', 'id': '6jlWj6y00bMQt8XoKuCjyZ', 'name': 'Emily King', 'type': 'artist', 'uri': 'spotify:artist:6jlWj6y00bMQt8XoKuCjyZ'}], 'available_markets': ['AE', 'BH', 'CY', 'EG', 'HK', 'ID', 'IL', 'IN', 'JO', 'KW', 'KZ', 'LB', 'MY', 'OM', 'PH', 'PS', 'QA', 'SA', 'SG', 'TH', 'TR', 'TW', 'VN', 'ZA', 'DZ', 'MA', 'TN', 'AR', 'BR', 'UY', 'BO', 'CL', 'DO', 'PY', 'CO', 'EC', 'MX', 'PA', 'PE', 'CR', 'GT', 'HN', 'NI', 'SV'], 'external_urls': {'spotify': 'https://open.spotify.com/album/7jdh1K9Sl0dPElH6Ecb3Xs'}, 'href': 'https://api.spotify.com/v1/albums/7jdh1K9Sl0dPElH6Ecb3Xs', 'id': '7jdh1K9Sl0dPElH6Ecb3Xs', 'images': [{'height': 640, 'url': 'https://i.scdn.co/image/ab67616d0000b273b45a0de85b5bb6cdbcb7247e', 'width': 640}, {'height': 300, 'url': 'https://i.scdn.co/image/ab67616d00001e02b45a0de85b5bb6cdbcb7247e', 'width': 300}, {'height': 64, 'url': 'https://i.scdn.co/image/ab67616d00004851b45a0de85b5bb6cdbcb7247e', 'width': 64}], 'name': 'Spotify Singles', 'release_date': '2020-07-22', 'release_date_precision': 'day', 'total_tracks': 2, 'type': 'album', 'uri': 'spotify:album:7jdh1K9Sl0dPElH6Ecb3Xs'}, {'album_type': 'album', 'artists': [{'external_urls': {'spotify': 'https://open.spotify.com/artist/25IG9fa7cbdmCIy3OnuH57'}, 'href': 'https://api.spotify.com/v1/artists/25IG9fa7cbdmCIy3OnuH57', 'id': '25IG9fa7cbdmCIy3OnuH57', 'name': 'The Chicks', 'type': 'artist', 'uri': 'spotify:artist:25IG9fa7cbdmCIy3OnuH57'}], 'available_markets': ['AD', 'AE', 'AL', 'AR', 'AT', 'AU', 'BA', 'BE', 'BG', 'BH', 'BO', 'BR', 'BY', 'CA', 'CH', 'CL', 'CO', 'CR', 'CY', 'CZ', 'DE', 'DK', 'DO', 'DZ', 'EC', 'EE', 'EG', 'ES', 'FI', 'FR', 'GB', 'GR', 'GT', 'HK', 'HN', 'HR', 'HU', 'ID', 'IE', 'IL', 'IN', 'IS', 'IT', 'JO', 'JP', 'KW', 'KZ', 'LB', 'LI', 'LT', 'LU', 'LV', 'MA', 'MC', 'MD', 'ME', 'MK', 'MT', 'MX', 'MY', 'NI', 'NL', 'NO', 'NZ', 'OM', 'PA', 'PE', 'PH', 'PL', 'PS', 'PT', 'PY', 'QA', 'RO', 'RS', 'RU', 'SA', 'SE', 'SG', 'SI', 'SK', 'SV', 'TH', 'TN', 'TR', 'TW', 'UA', 'US', 'UY', 'VN', 'XK', 'ZA'], 'external_urls': {'spotify': 'https://open.spotify.com/album/1YV5Rh6n8dLOycCqWcUSq4'}, 'href': 'https://api.spotify.com/v1/albums/1YV5Rh6n8dLOycCqWcUSq4', 'id': '1YV5Rh6n8dLOycCqWcUSq4', 'images': [{'height': 640, 'url': 'https://i.scdn.co/image/ab67616d0000b273d3836964e3eb4ee83eaca288', 'width': 640}, {'height': 300, 'url': 'https://i.scdn.co/image/ab67616d00001e02d3836964e3eb4ee83eaca288', 'width': 300}, {'height': 64, 'url': 'https://i.scdn.co/image/ab67616d00004851d3836964e3eb4ee83eaca288', 'width': 64}], 'name': 'Gaslighter', 'release_date': '2020-07-17', 'release_date_precision': 'day', 'total_tracks': 12, 'type': 'album', 'uri': 'spotify:album:1YV5Rh6n8dLOycCqWcUSq4'}, {'album_type': 'single', 'artists': [{'external_urls': {'spotify': 'https://open.spotify.com/artist/2eqoJbzUGDwys5ENUkbT3h'}, 'href': 'https://api.spotify.com/v1/artists/2eqoJbzUGDwys5ENUkbT3h', 'id': '2eqoJbzUGDwys5ENUkbT3h', 'name': 'J.I the Prince of N.Y', 'type': 'artist', 'uri': 'spotify:artist:2eqoJbzUGDwys5ENUkbT3h'}], 'available_markets': ['AD', 'AE', 'AL', 'AR', 'AT', 'AU', 'BA', 'BE', 'BG', 'BH', 'BO', 'BR', 'BY', 'CA', 'CH', 'CL', 'CO', 'CR', 'CY', 'CZ', 'DE', 'DK', 'DO', 'DZ', 'EC', 'EE', 'EG', 'ES', 'FI', 'FR', 'GB', 'GR', 'GT', 'HK', 'HN', 'HR', 'HU', 'ID', 'IE', 'IL', 'IN', 'IS', 'IT', 'JO', 'JP', 'KW', 'KZ', 'LB', 'LI', 'LT', 'LU', 'LV', 'MA', 'MC', 'MD', 'ME', 'MK', 'MT', 'MX', 'MY', 'NI', 'NL', 'NO', 'NZ', 'OM', 'PA', 'PE', 'PH', 'PL', 'PS', 'PT', 'PY', 'QA', 'RO', 'RS', 'RU', 'SA', 'SE', 'SG', 'SI', 'SK', 'SV', 'TH', 'TN', 'TR', 'TW', 'UA', 'US', 'UY', 'VN', 'XK', 'ZA'], 'external_urls': {'spotify': 'https://open.spotify.com/album/3EImpNqOe0VteNjthjChQz'}, 'href': 'https://api.spotify.com/v1/albums/3EImpNqOe0VteNjthjChQz', 'id': '3EImpNqOe0VteNjthjChQz', 'images': [{'height': 640, 'url': 'https://i.scdn.co/image/ab67616d0000b27325f943de09d072d0408617e4', 'width': 640}, {'height': 300, 'url': 'https://i.scdn.co/image/ab67616d00001e0225f943de09d072d0408617e4', 'width': 300}, {'height': 64, 'url': 'https://i.scdn.co/image/ab67616d0000485125f943de09d072d0408617e4', 'width': 64}], 'name': 'Welcome to GStarr Vol. 1 EP', 'release_date': '2020-07-17', 'release_date_precision': 'day', 'total_tracks': 6, 'type': 'album', 'uri': 'spotify:album:3EImpNqOe0VteNjthjChQz'}, {'album_type': 'single', 'artists': [{'external_urls': {'spotify': 'https://open.spotify.com/artist/2qxJFvFYMEDqd7ui6kSAcq'}, 'href': 'https://api.spotify.com/v1/artists/2qxJFvFYMEDqd7ui6kSAcq', 'id': '2qxJFvFYMEDqd7ui6kSAcq', 'name': 'Zedd', 'type': 'artist', 'uri': 'spotify:artist:2qxJFvFYMEDqd7ui6kSAcq'}, {'external_urls': {'spotify': 'https://open.spotify.com/artist/2TL8gYTNgD6nXkyuUdDrMg'}, 'href': 'https://api.spotify.com/v1/artists/2TL8gYTNgD6nXkyuUdDrMg', 'id': '2TL8gYTNgD6nXkyuUdDrMg', 'name': 'Jasmine Thompson', 'type': 'artist', 'uri': 'spotify:artist:2TL8gYTNgD6nXkyuUdDrMg'}], 'available_markets': ['AD', 'AE', 'AL', 'AR', 'AT', 'AU', 'BA', 'BE', 'BG', 'BH', 'BO', 'BR', 'BY', 'CA', 'CH', 'CL', 'CO', 'CR', 'CY', 'CZ', 'DE', 'DK', 'DO', 'DZ', 'EC', 'EE', 'EG', 'ES', 'FI', 'FR', 'GB', 'GR', 'GT', 'HK', 'HN', 'HR', 'HU', 'ID', 'IE', 'IL', 'IN', 'IS', 'IT', 'JO', 'JP', 'KW', 'KZ', 'LB', 'LI', 'LT', 'LU', 'LV', 'MA', 'MC', 'MD', 'ME', 'MK', 'MT', 'MX', 'MY', 'NI', 'NL', 'NO', 'NZ', 'OM', 'PA', 'PE', 'PH', 'PL', 'PS', 'PT', 'PY', 'QA', 'RO', 'RS', 'RU', 'SA', 'SE', 'SG', 'SI', 'SK', 'SV', 'TH', 'TN', 'TR', 'TW', 'UA', 'US', 'UY', 'VN', 'XK', 'ZA'], 'external_urls': {'spotify': 'https://open.spotify.com/album/5Q8Uyc3KUlPhPtMQDY5SWm'}, 'href': 'https://api.spotify.com/v1/albums/5Q8Uyc3KUlPhPtMQDY5SWm', 'id': '5Q8Uyc3KUlPhPtMQDY5SWm', 'images': [{'height': 640, 'url': 'https://i.scdn.co/image/ab67616d0000b2738046020d2ba421ea91423419', 'width': 640}, {'height': 300, 'url': 'https://i.scdn.co/image/ab67616d00001e028046020d2ba421ea91423419', 'width': 300}, {'height': 64, 'url': 'https://i.scdn.co/image/ab67616d000048518046020d2ba421ea91423419', 'width': 64}], 'name': 'Funny', 'release_date': '2020-07-16', 'release_date_precision': 'day', 'total_tracks': 1, 'type': 'album', 'uri': 'spotify:album:5Q8Uyc3KUlPhPtMQDY5SWm'}, {'album_type': 'single', 'artists': [{'external_urls': {'spotify': 'https://open.spotify.com/artist/3WGpXCj9YhhfX11TToZcXP'}, 'href': 'https://api.spotify.com/v1/artists/3WGpXCj9YhhfX11TToZcXP', 'id': '3WGpXCj9YhhfX11TToZcXP', 'name': 'Troye Sivan', 'type': 'artist', 'uri': 'spotify:artist:3WGpXCj9YhhfX11TToZcXP'}], 'available_markets': ['AD', 'AE', 'AL', 'AR', 'AT', 'AU', 'BA', 'BE', 'BG', 'BH', 'BO', 'BR', 'BY', 'CA', 'CH', 'CL', 'CO', 'CR', 'CY', 'CZ', 'DE', 'DK', 'DO', 'DZ', 'EC', 'EE', 'EG', 'ES', 'FI', 'FR', 'GB', 'GR', 'GT', 'HK', 'HN', 'HR', 'HU', 'ID', 'IE', 'IL', 'IN', 'IS', 'IT', 'JO', 'JP', 'KW', 'KZ', 'LB', 'LI', 'LT', 'LU', 'LV', 'MA', 'MC', 'MD', 'ME', 'MK', 'MT', 'MX', 'MY', 'NI', 'NL', 'NO', 'NZ', 'OM', 'PA', 'PE', 'PH', 'PL', 'PS', 'PT', 'PY', 'QA', 'RO', 'RS', 'RU', 'SA', 'SE', 'SG', 'SI', 'SK', 'SV', 'TH', 'TN', 'TR', 'TW', 'UA', 'US', 'UY', 'VN', 'XK', 'ZA'], 'external_urls': {'spotify': 'https://open.spotify.com/album/25bVTJuPSWiiwdxgjJGRUi'}, 'href': 'https://api.spotify.com/v1/albums/25bVTJuPSWiiwdxgjJGRUi', 'id': '25bVTJuPSWiiwdxgjJGRUi', 'images': [{'height': 640, 'url': 'https://i.scdn.co/image/ab67616d0000b273acd22b93c9521a25e0210109', 'width': 640}, {'height': 300, 'url': 'https://i.scdn.co/image/ab67616d00001e02acd22b93c9521a25e0210109', 'width': 300}, {'height': 64, 'url': 'https://i.scdn.co/image/ab67616d00004851acd22b93c9521a25e0210109', 'width': 64}], 'name': 'Easy', 'release_date': '2020-07-15', 'release_date_precision': 'day', 'total_tracks': 2, 'type': 'album', 'uri': 'spotify:album:25bVTJuPSWiiwdxgjJGRUi'}, {'album_type': 'single', 'artists': [{'external_urls': {'spotify': 'https://open.spotify.com/artist/1Cs0zKBU1kc0i8ypK3B9ai'}, 'href': 'https://api.spotify.com/v1/artists/1Cs0zKBU1kc0i8ypK3B9ai', 'id': '1Cs0zKBU1kc0i8ypK3B9ai', 'name': 'David Guetta', 'type': 'artist', 'uri': 'spotify:artist:1Cs0zKBU1kc0i8ypK3B9ai'}, {'external_urls': {'spotify': 'https://open.spotify.com/artist/19HFRWmRCl27kTk6LeqAO8'}, 'href': 'https://api.spotify.com/v1/artists/19HFRWmRCl27kTk6LeqAO8', 'id': '19HFRWmRCl27kTk6LeqAO8', 'name': 'MORTEN', 'type': 'artist', 'uri': 'spotify:artist:19HFRWmRCl27kTk6LeqAO8'}], 'available_markets': ['AD', 'AE', 'AL', 'AR', 'AT', 'AU', 'BA', 'BE', 'BG', 'BH', 'BO', 'BR', 'BY', 'CA', 'CH', 'CL', 'CO', 'CR', 'CY', 'CZ', 'DE', 'DK', 'DO', 'DZ', 'EC', 'EE', 'EG', 'ES', 'FI', 'FR', 'GB', 'GR', 'GT', 'HK', 'HN', 'HR', 'HU', 'ID', 'IE', 'IL', 'IN', 'IS', 'IT', 'JO', 'JP', 'KW', 'KZ', 'LB', 'LI', 'LT', 'LU', 'LV', 'MA', 'MC', 'MD', 'ME', 'MK', 'MT', 'MX', 'MY', 'NI', 'NL', 'NO', 'NZ', 'OM', 'PA', 'PE', 'PH', 'PL', 'PS', 'PT', 'PY', 'QA', 'RO', 'RS', 'RU', 'SA', 'SE', 'SG', 'SI', 'SK', 'SV', 'TH', 'TN', 'TR', 'TW', 'UA', 'US', 'UY', 'VN', 'XK', 'ZA'], 'external_urls': {'spotify': 'https://open.spotify.com/album/0fKU8zzmBjXNAJp5Uo2dml'}, 'href': 'https://api.spotify.com/v1/albums/0fKU8zzmBjXNAJp5Uo2dml', 'id': '0fKU8zzmBjXNAJp5Uo2dml', 'images': [{'height': 640, 'url': 'https://i.scdn.co/image/ab67616d0000b273d036cdc7102e5fd3ac7affe5', 'width': 640}, {'height': 300, 'url': 'https://i.scdn.co/image/ab67616d00001e02d036cdc7102e5fd3ac7affe5', 'width': 300}, {'height': 64, 'url': 'https://i.scdn.co/image/ab67616d00004851d036cdc7102e5fd3ac7affe5', 'width': 64}], 'name': 'New Rave', 'release_date': '2020-07-17', 'release_date_precision': 'day', 'total_tracks': 4, 'type': 'album', 'uri': 'spotify:album:0fKU8zzmBjXNAJp5Uo2dml'}, {'album_type': 'single', 'artists': [{'external_urls': {'spotify': 'https://open.spotify.com/artist/1W7FNibLa0O0b572tB2w7t'}, 'href': 'https://api.spotify.com/v1/artists/1W7FNibLa0O0b572tB2w7t', 'id': '1W7FNibLa0O0b572tB2w7t', 'name': 'Pink Sweat$', 'type': 'artist', 'uri': 'spotify:artist:1W7FNibLa0O0b572tB2w7t'}], 'available_markets': ['AD', 'AE', 'AL', 'AR', 'AT', 'AU', 'BA', 'BE', 'BG', 'BH', 'BO', 'BR', 'BY', 'CA', 'CH', 'CL', 'CO', 'CR', 'CY', 'CZ', 'DE', 'DK', 'DO', 'DZ', 'EC', 'EE', 'EG', 'ES', 'FI', 'FR', 'GB', 'GR', 'GT', 'HK', 'HN', 'HR', 'HU', 'ID', 'IE', 'IL', 'IN', 'IS', 'IT', 'JO', 'JP', 'KW', 'KZ', 'LB', 'LI', 'LT', 'LU', 'LV', 'MA', 'MC', 'MD', 'ME', 'MK', 'MT', 'MX', 'MY', 'NI', 'NL', 'NO', 'NZ', 'OM', 'PA', 'PE', 'PH', 'PL', 'PS', 'PT', 'PY', 'QA', 'RO', 'RS', 'RU', 'SA', 'SE', 'SG', 'SI', 'SK', 'SV', 'TH', 'TN', 'TR', 'TW', 'UA', 'US', 'UY', 'VN', 'XK', 'ZA'], 'external_urls': {'spotify': 'https://open.spotify.com/album/3Qj2vsFzmaB8jcH6Q60WIG'}, 'href': 'https://api.spotify.com/v1/albums/3Qj2vsFzmaB8jcH6Q60WIG', 'id': '3Qj2vsFzmaB8jcH6Q60WIG', 'images': [{'height': 640, 'url': 'https://i.scdn.co/image/ab67616d0000b273e99f7b031daf4e3bc1c275e5', 'width': 640}, {'height': 300, 'url': 'https://i.scdn.co/image/ab67616d00001e02e99f7b031daf4e3bc1c275e5', 'width': 300}, {'height': 64, 'url': 'https://i.scdn.co/image/ab67616d00004851e99f7b031daf4e3bc1c275e5', 'width': 64}], 'name': 'The Prelude', 'release_date': '2020-07-17', 'release_date_precision': 'day', 'total_tracks': 6, 'type': 'album', 'uri': 'spotify:album:3Qj2vsFzmaB8jcH6Q60WIG'}, {'album_type': 'single', 'artists': [{'external_urls': {'spotify': 'https://open.spotify.com/artist/35l9BRT7MXmM8bv2WDQiyB'}, 'href': 'https://api.spotify.com/v1/artists/35l9BRT7MXmM8bv2WDQiyB', 'id': '35l9BRT7MXmM8bv2WDQiyB', 'name': 'beabadoobee', 'type': 'artist', 'uri': 'spotify:artist:35l9BRT7MXmM8bv2WDQiyB'}], 'available_markets': ['AD', 'AE', 'AL', 'AR', 'AT', 'AU', 'BA', 'BE', 'BG', 'BH', 'BO', 'BR', 'BY', 'CA', 'CH', 'CL', 'CO', 'CR', 'CY', 'CZ', 'DE', 'DK', 'DO', 'DZ', 'EC', 'EE', 'EG', 'ES', 'FI', 'FR', 'GB', 'GR', 'GT', 'HK', 'HN', 'HR', 'HU', 'ID', 'IE', 'IL', 'IN', 'IS', 'IT', 'JO', 'JP', 'KW', 'KZ', 'LB', 'LI', 'LT', 'LU', 'LV', 'MA', 'MC', 'MD', 'ME', 'MK', 'MT', 'MX', 'MY', 'NI', 'NL', 'NO', 'NZ', 'OM', 'PA', 'PE', 'PH', 'PL', 'PS', 'PT', 'PY', 'QA', 'RO', 'RS', 'RU', 'SA', 'SE', 'SG', 'SI', 'SK', 'SV', 'TH', 'TN', 'TR', 'TW', 'UA', 'US', 'UY', 'VN', 'XK', 'ZA'], 'external_urls': {'spotify': 'https://open.spotify.com/album/51fkPPsTPpZdFEGr3o5dCt'}, 'href': 'https://api.spotify.com/v1/albums/51fkPPsTPpZdFEGr3o5dCt', 'id': '51fkPPsTPpZdFEGr3o5dCt', 'images': [{'height': 640, 'url': 'https://i.scdn.co/image/ab67616d0000b273b694c6e4dd1f247401d758a8', 'width': 640}, {'height': 300, 'url': 'https://i.scdn.co/image/ab67616d00001e02b694c6e4dd1f247401d758a8', 'width': 300}, {'height': 64, 'url': 'https://i.scdn.co/image/ab67616d00004851b694c6e4dd1f247401d758a8', 'width': 64}], 'name': 'Care', 'release_date': '2020-07-15', 'release_date_precision': 'day', 'total_tracks': 1, 'type': 'album', 'uri': 'spotify:album:51fkPPsTPpZdFEGr3o5dCt'}, {'album_type': 'album', 'artists': [{'external_urls': {'spotify': 'https://open.spotify.com/artist/1XLWox9w1Yvbodui0SRhUQ'}, 'href': 'https://api.spotify.com/v1/artists/1XLWox9w1Yvbodui0SRhUQ', 'id': '1XLWox9w1Yvbodui0SRhUQ', 'name': 'StaySolidRocky', 'type': 'artist', 'uri': 'spotify:artist:1XLWox9w1Yvbodui0SRhUQ'}], 'available_markets': ['AD', 'AE', 'AL', 'AR', 'AT', 'AU', 'BA', 'BE', 'BG', 'BH', 'BO', 'BR', 'BY', 'CA', 'CH', 'CL', 'CO', 'CR', 'CY', 'CZ', 'DE', 'DK', 'DO', 'DZ', 'EC', 'EE', 'EG', 'ES', 'FI', 'FR', 'GB', 'GR', 'GT', 'HK', 'HN', 'HR', 'HU', 'ID', 'IE', 'IL', 'IN', 'IS', 'IT', 'JO', 'JP', 'KW', 'KZ', 'LB', 'LI', 'LT', 'LU', 'LV', 'MA', 'MC', 'MD', 'ME', 'MK', 'MT', 'MX', 'MY', 'NI', 'NL', 'NO', 'NZ', 'OM', 'PA', 'PE', 'PH', 'PL', 'PS', 'PT', 'PY', 'QA', 'RO', 'RS', 'RU', 'SA', 'SE', 'SG', 'SI', 'SK', 'SV', 'TH', 'TN', 'TR', 'TW', 'UA', 'US', 'UY', 'VN', 'XK', 'ZA'], 'external_urls': {'spotify': 'https://open.spotify.com/album/4ZZOKHnGnpvVKHkwexxhPL'}, 'href': 'https://api.spotify.com/v1/albums/4ZZOKHnGnpvVKHkwexxhPL', 'id': '4ZZOKHnGnpvVKHkwexxhPL', 'images': [{'height': 640, 'url': 'https://i.scdn.co/image/ab67616d0000b27373debb36ac6edd90c7f4c6a8', 'width': 640}, {'height': 300, 'url': 'https://i.scdn.co/image/ab67616d00001e0273debb36ac6edd90c7f4c6a8', 'width': 300}, {'height': 64, 'url': 'https://i.scdn.co/image/ab67616d0000485173debb36ac6edd90c7f4c6a8', 'width': 64}], 'name': \"Fallin'\", 'release_date': '2020-07-17', 'release_date_precision': 'day', 'total_tracks': 7, 'type': 'album', 'uri': 'spotify:album:4ZZOKHnGnpvVKHkwexxhPL'}, {'album_type': 'album', 'artists': [{'external_urls': {'spotify': 'https://open.spotify.com/artist/2wUjUUtkb5lvLKcGKsKqsR'}, 'href': 'https://api.spotify.com/v1/artists/2wUjUUtkb5lvLKcGKsKqsR', 'id': '2wUjUUtkb5lvLKcGKsKqsR', 'name': 'Alessia Cara', 'type': 'artist', 'uri': 'spotify:artist:2wUjUUtkb5lvLKcGKsKqsR'}], 'available_markets': ['AD', 'AE', 'AL', 'AR', 'AT', 'AU', 'BA', 'BE', 'BG', 'BH', 'BO', 'BR', 'BY', 'CA', 'CH', 'CL', 'CO', 'CR', 'CY', 'CZ', 'DE', 'DK', 'DO', 'DZ', 'EC', 'EE', 'EG', 'ES', 'FI', 'FR', 'GB', 'GR', 'GT', 'HK', 'HN', 'HR', 'HU', 'ID', 'IE', 'IL', 'IN', 'IS', 'IT', 'JO', 'JP', 'KW', 'KZ', 'LB', 'LI', 'LT', 'LU', 'LV', 'MA', 'MC', 'MD', 'ME', 'MK', 'MT', 'MX', 'MY', 'NI', 'NL', 'NO', 'NZ', 'OM', 'PA', 'PE', 'PH', 'PL', 'PS', 'PT', 'PY', 'QA', 'RO', 'RS', 'RU', 'SA', 'SE', 'SG', 'SI', 'SK', 'SV', 'TH', 'TN', 'TR', 'TW', 'UA', 'US', 'UY', 'VN', 'XK', 'ZA'], 'external_urls': {'spotify': 'https://open.spotify.com/album/5f4wj5QGE753r1IcZbiKS3'}, 'href': 'https://api.spotify.com/v1/albums/5f4wj5QGE753r1IcZbiKS3', 'id': '5f4wj5QGE753r1IcZbiKS3', 'images': [{'height': 640, 'url': 'https://i.scdn.co/image/ab67616d0000b27385c7af5b879dc405b14856f3', 'width': 640}, {'height': 300, 'url': 'https://i.scdn.co/image/ab67616d00001e0285c7af5b879dc405b14856f3', 'width': 300}, {'height': 64, 'url': 'https://i.scdn.co/image/ab67616d0000485185c7af5b879dc405b14856f3', 'width': 64}], 'name': 'This Summer: Live Off The Floor', 'release_date': '2020-07-17', 'release_date_precision': 'day', 'total_tracks': 10, 'type': 'album', 'uri': 'spotify:album:5f4wj5QGE753r1IcZbiKS3'}, {'album_type': 'album', 'artists': [{'external_urls': {'spotify': 'https://open.spotify.com/artist/2RP4pPHTXlQpDnO9LvR7Yt'}, 'href': 'https://api.spotify.com/v1/artists/2RP4pPHTXlQpDnO9LvR7Yt', 'id': '2RP4pPHTXlQpDnO9LvR7Yt', 'name': 'Lianne La Havas', 'type': 'artist', 'uri': 'spotify:artist:2RP4pPHTXlQpDnO9LvR7Yt'}], 'available_markets': ['AD', 'AE', 'AL', 'AR', 'AT', 'AU', 'BA', 'BE', 'BG', 'BH', 'BO', 'BR', 'BY', 'CA', 'CH', 'CL', 'CO', 'CR', 'CY', 'CZ', 'DE', 'DK', 'DO', 'DZ', 'EC', 'EE', 'EG', 'ES', 'FI', 'FR', 'GB', 'GR', 'GT', 'HK', 'HN', 'HR', 'HU', 'ID', 'IE', 'IL', 'IN', 'IS', 'IT', 'JO', 'JP', 'KW', 'KZ', 'LB', 'LI', 'LT', 'LU', 'LV', 'MA', 'MC', 'MD', 'ME', 'MK', 'MT', 'MX', 'MY', 'NI', 'NL', 'NO', 'NZ', 'OM', 'PA', 'PE', 'PH', 'PL', 'PS', 'PT', 'PY', 'QA', 'RO', 'RS', 'RU', 'SA', 'SE', 'SG', 'SI', 'SK', 'SV', 'TH', 'TN', 'TR', 'TW', 'UA', 'US', 'UY', 'VN', 'XK', 'ZA'], 'external_urls': {'spotify': 'https://open.spotify.com/album/6JwtB0zzNYy4qANDrJtrJy'}, 'href': 'https://api.spotify.com/v1/albums/6JwtB0zzNYy4qANDrJtrJy', 'id': '6JwtB0zzNYy4qANDrJtrJy', 'images': [{'height': 640, 'url': 'https://i.scdn.co/image/ab67616d0000b273e4e22468cc1f1e4b9b9a9acc', 'width': 640}, {'height': 300, 'url': 'https://i.scdn.co/image/ab67616d00001e02e4e22468cc1f1e4b9b9a9acc', 'width': 300}, {'height': 64, 'url': 'https://i.scdn.co/image/ab67616d00004851e4e22468cc1f1e4b9b9a9acc', 'width': 64}], 'name': 'Lianne La Havas', 'release_date': '2020-07-17', 'release_date_precision': 'day', 'total_tracks': 12, 'type': 'album', 'uri': 'spotify:album:6JwtB0zzNYy4qANDrJtrJy'}, {'album_type': 'single', 'artists': [{'external_urls': {'spotify': 'https://open.spotify.com/artist/23fqKkggKUBHNkbKtXEls4'}, 'href': 'https://api.spotify.com/v1/artists/23fqKkggKUBHNkbKtXEls4', 'id': '23fqKkggKUBHNkbKtXEls4', 'name': 'Kygo', 'type': 'artist', 'uri': 'spotify:artist:23fqKkggKUBHNkbKtXEls4'}, {'external_urls': {'spotify': 'https://open.spotify.com/artist/1zuJe6b1roixEKMOtyrEak'}, 'href': 'https://api.spotify.com/v1/artists/1zuJe6b1roixEKMOtyrEak', 'id': '1zuJe6b1roixEKMOtyrEak', 'name': 'Tina Turner', 'type': 'artist', 'uri': 'spotify:artist:1zuJe6b1roixEKMOtyrEak'}], 'available_markets': ['AD', 'AE', 'AL', 'AR', 'AT', 'AU', 'BA', 'BE', 'BG', 'BH', 'BO', 'BR', 'BY', 'CA', 'CH', 'CL', 'CO', 'CR', 'CY', 'CZ', 'DE', 'DK', 'DO', 'DZ', 'EC', 'EE', 'EG', 'ES', 'FI', 'FR', 'GB', 'GR', 'GT', 'HK', 'HN', 'HR', 'HU', 'ID', 'IE', 'IL', 'IN', 'IS', 'IT', 'JO', 'JP', 'KW', 'KZ', 'LB', 'LI', 'LT', 'LU', 'LV', 'MA', 'MC', 'MD', 'ME', 'MK', 'MT', 'MX', 'MY', 'NI', 'NL', 'NO', 'NZ', 'OM', 'PA', 'PE', 'PH', 'PL', 'PS', 'PT', 'PY', 'QA', 'RO', 'RS', 'RU', 'SA', 'SE', 'SG', 'SI', 'SK', 'SV', 'TH', 'TN', 'TR', 'TW', 'UA', 'US', 'UY', 'VN', 'XK', 'ZA'], 'external_urls': {'spotify': 'https://open.spotify.com/album/1JFKchcdu3ewuhA5PIHWno'}, 'href': 'https://api.spotify.com/v1/albums/1JFKchcdu3ewuhA5PIHWno', 'id': '1JFKchcdu3ewuhA5PIHWno', 'images': [{'height': 640, 'url': 'https://i.scdn.co/image/ab67616d0000b273f0b43fee481f279a186dff20', 'width': 640}, {'height': 300, 'url': 'https://i.scdn.co/image/ab67616d00001e02f0b43fee481f279a186dff20', 'width': 300}, {'height': 64, 'url': 'https://i.scdn.co/image/ab67616d00004851f0b43fee481f279a186dff20', 'width': 64}], 'name': \"What's Love Got to Do with It\", 'release_date': '2020-07-17', 'release_date_precision': 'day', 'total_tracks': 1, 'type': 'album', 'uri': 'spotify:album:1JFKchcdu3ewuhA5PIHWno'}, {'album_type': 'album', 'artists': [{'external_urls': {'spotify': 'https://open.spotify.com/artist/00XhexlJEXQstHimpZN910'}, 'href': 'https://api.spotify.com/v1/artists/00XhexlJEXQstHimpZN910', 'id': '00XhexlJEXQstHimpZN910', 'name': 'Brytiago', 'type': 'artist', 'uri': 'spotify:artist:00XhexlJEXQstHimpZN910'}], 'available_markets': ['AD', 'AE', 'AL', 'AR', 'AT', 'AU', 'BA', 'BE', 'BG', 'BH', 'BO', 'BR', 'BY', 'CA', 'CH', 'CL', 'CO', 'CR', 'CY', 'CZ', 'DE', 'DK', 'DO', 'DZ', 'EC', 'EE', 'EG', 'ES', 'FI', 'FR', 'GB', 'GR', 'GT', 'HK', 'HN', 'HR', 'HU', 'ID', 'IE', 'IL', 'IN', 'IS', 'IT', 'JO', 'JP', 'KW', 'KZ', 'LB', 'LI', 'LT', 'LU', 'LV', 'MA', 'MC', 'MD', 'ME', 'MK', 'MT', 'MX', 'MY', 'NI', 'NL', 'NO', 'NZ', 'OM', 'PA', 'PE', 'PH', 'PL', 'PS', 'PT', 'PY', 'QA', 'RO', 'RS', 'RU', 'SA', 'SE', 'SG', 'SI', 'SK', 'SV', 'TH', 'TN', 'TR', 'TW', 'UA', 'US', 'UY', 'VN', 'XK', 'ZA'], 'external_urls': {'spotify': 'https://open.spotify.com/album/4sAj704PbYTvBF2fFa88a1'}, 'href': 'https://api.spotify.com/v1/albums/4sAj704PbYTvBF2fFa88a1', 'id': '4sAj704PbYTvBF2fFa88a1', 'images': [{'height': 640, 'url': 'https://i.scdn.co/image/ab67616d0000b2735faa613b419bdd41a4d82f44', 'width': 640}, {'height': 300, 'url': 'https://i.scdn.co/image/ab67616d00001e025faa613b419bdd41a4d82f44', 'width': 300}, {'height': 64, 'url': 'https://i.scdn.co/image/ab67616d000048515faa613b419bdd41a4d82f44', 'width': 64}], 'name': 'Orgánico', 'release_date': '2020-07-17', 'release_date_precision': 'day', 'total_tracks': 16, 'type': 'album', 'uri': 'spotify:album:4sAj704PbYTvBF2fFa88a1'}, {'album_type': 'album', 'artists': [{'external_urls': {'spotify': 'https://open.spotify.com/artist/6TLwD7HPWuiOzvXEa3oCNe'}, 'href': 'https://api.spotify.com/v1/artists/6TLwD7HPWuiOzvXEa3oCNe', 'id': '6TLwD7HPWuiOzvXEa3oCNe', 'name': 'Oliver Tree', 'type': 'artist', 'uri': 'spotify:artist:6TLwD7HPWuiOzvXEa3oCNe'}], 'available_markets': ['AD', 'AE', 'AL', 'AR', 'AT', 'AU', 'BA', 'BE', 'BG', 'BH', 'BO', 'BR', 'BY', 'CA', 'CH', 'CL', 'CO', 'CR', 'CY', 'CZ', 'DE', 'DK', 'DO', 'DZ', 'EC', 'EE', 'EG', 'ES', 'FI', 'FR', 'GB', 'GR', 'GT', 'HK', 'HN', 'HR', 'HU', 'ID', 'IE', 'IL', 'IN', 'IS', 'IT', 'JO', 'JP', 'KW', 'KZ', 'LB', 'LI', 'LT', 'LU', 'LV', 'MA', 'MC', 'MD', 'ME', 'MK', 'MT', 'MX', 'MY', 'NI', 'NL', 'NO', 'NZ', 'OM', 'PA', 'PE', 'PH', 'PL', 'PS', 'PT', 'PY', 'QA', 'RO', 'RS', 'RU', 'SA', 'SE', 'SG', 'SI', 'SK', 'SV', 'TH', 'TN', 'TR', 'TW', 'UA', 'US', 'UY', 'VN', 'XK', 'ZA'], 'external_urls': {'spotify': 'https://open.spotify.com/album/1HmWQo43Gt8BR2dylfv3o4'}, 'href': 'https://api.spotify.com/v1/albums/1HmWQo43Gt8BR2dylfv3o4', 'id': '1HmWQo43Gt8BR2dylfv3o4', 'images': [{'height': 640, 'url': 'https://i.scdn.co/image/ab67616d0000b273e46d181f0fa342ee2ef38eb3', 'width': 640}, {'height': 300, 'url': 'https://i.scdn.co/image/ab67616d00001e02e46d181f0fa342ee2ef38eb3', 'width': 300}, {'height': 64, 'url': 'https://i.scdn.co/image/ab67616d00004851e46d181f0fa342ee2ef38eb3', 'width': 64}], 'name': 'Ugly is Beautiful', 'release_date': '2020-07-17', 'release_date_precision': 'day', 'total_tracks': 14, 'type': 'album', 'uri': 'spotify:album:1HmWQo43Gt8BR2dylfv3o4'}, {'album_type': 'single', 'artists': [{'external_urls': {'spotify': 'https://open.spotify.com/artist/6Ad91Jof8Niiw0lGLLi3NW'}, 'href': 'https://api.spotify.com/v1/artists/6Ad91Jof8Niiw0lGLLi3NW', 'id': '6Ad91Jof8Niiw0lGLLi3NW', 'name': 'YUNGBLUD', 'type': 'artist', 'uri': 'spotify:artist:6Ad91Jof8Niiw0lGLLi3NW'}], 'available_markets': ['AD', 'AE', 'AL', 'AR', 'AT', 'AU', 'BA', 'BE', 'BG', 'BH', 'BO', 'BR', 'BY', 'CA', 'CH', 'CL', 'CO', 'CR', 'CY', 'CZ', 'DE', 'DK', 'DO', 'DZ', 'EC', 'EE', 'EG', 'ES', 'FI', 'FR', 'GB', 'GR', 'GT', 'HK', 'HN', 'HR', 'HU', 'ID', 'IE', 'IL', 'IN', 'IS', 'IT', 'JO', 'JP', 'KW', 'KZ', 'LB', 'LI', 'LT', 'LU', 'LV', 'MA', 'MC', 'MD', 'ME', 'MK', 'MT', 'MX', 'MY', 'NI', 'NL', 'NO', 'NZ', 'OM', 'PA', 'PE', 'PH', 'PL', 'PS', 'PT', 'PY', 'QA', 'RO', 'RS', 'RU', 'SA', 'SE', 'SG', 'SI', 'SK', 'SV', 'TH', 'TN', 'TR', 'TW', 'UA', 'US', 'UY', 'VN', 'XK', 'ZA'], 'external_urls': {'spotify': 'https://open.spotify.com/album/6Il4NZgMll7LH4Gb4fcR3E'}, 'href': 'https://api.spotify.com/v1/albums/6Il4NZgMll7LH4Gb4fcR3E', 'id': '6Il4NZgMll7LH4Gb4fcR3E', 'images': [{'height': 640, 'url': 'https://i.scdn.co/image/ab67616d0000b2736e80151360335feefacb90d9', 'width': 640}, {'height': 300, 'url': 'https://i.scdn.co/image/ab67616d00001e026e80151360335feefacb90d9', 'width': 300}, {'height': 64, 'url': 'https://i.scdn.co/image/ab67616d000048516e80151360335feefacb90d9', 'width': 64}], 'name': 'Strawberry Lipstick', 'release_date': '2020-07-16', 'release_date_precision': 'day', 'total_tracks': 1, 'type': 'album', 'uri': 'spotify:album:6Il4NZgMll7LH4Gb4fcR3E'}, {'album_type': 'single', 'artists': [{'external_urls': {'spotify': 'https://open.spotify.com/artist/45TgXXqMDdF8BkjA83OM7z'}, 'href': 'https://api.spotify.com/v1/artists/45TgXXqMDdF8BkjA83OM7z', 'id': '45TgXXqMDdF8BkjA83OM7z', 'name': 'Rod Wave', 'type': 'artist', 'uri': 'spotify:artist:45TgXXqMDdF8BkjA83OM7z'}], 'available_markets': ['AD', 'AE', 'AL', 'AR', 'AT', 'AU', 'BA', 'BE', 'BG', 'BH', 'BO', 'BR', 'BY', 'CA', 'CH', 'CL', 'CO', 'CR', 'CY', 'CZ', 'DE', 'DK', 'DO', 'DZ', 'EC', 'EE', 'EG', 'ES', 'FI', 'FR', 'GB', 'GR', 'GT', 'HK', 'HN', 'HR', 'HU', 'ID', 'IE', 'IL', 'IN', 'IS', 'IT', 'JO', 'JP', 'KW', 'KZ', 'LB', 'LI', 'LT', 'LU', 'LV', 'MA', 'MC', 'MD', 'ME', 'MK', 'MT', 'MX', 'MY', 'NI', 'NL', 'NO', 'NZ', 'OM', 'PA', 'PE', 'PH', 'PL', 'PS', 'PT', 'PY', 'QA', 'RO', 'RS', 'RU', 'SA', 'SE', 'SG', 'SI', 'SK', 'SV', 'TH', 'TN', 'TR', 'TW', 'UA', 'US', 'UY', 'VN', 'XK', 'ZA'], 'external_urls': {'spotify': 'https://open.spotify.com/album/09T2PrA53cKeUvGalQHmf9'}, 'href': 'https://api.spotify.com/v1/albums/09T2PrA53cKeUvGalQHmf9', 'id': '09T2PrA53cKeUvGalQHmf9', 'images': [{'height': 640, 'url': 'https://i.scdn.co/image/ab67616d0000b27337850efe2b4d62bddb33a847', 'width': 640}, {'height': 300, 'url': 'https://i.scdn.co/image/ab67616d00001e0237850efe2b4d62bddb33a847', 'width': 300}, {'height': 64, 'url': 'https://i.scdn.co/image/ab67616d0000485137850efe2b4d62bddb33a847', 'width': 64}], 'name': 'Through The Wire', 'release_date': '2020-07-12', 'release_date_precision': 'day', 'total_tracks': 1, 'type': 'album', 'uri': 'spotify:album:09T2PrA53cKeUvGalQHmf9'}, {'album_type': 'single', 'artists': [{'external_urls': {'spotify': 'https://open.spotify.com/artist/2P5sC9cVZDToPxyomzF1UH'}, 'href': 'https://api.spotify.com/v1/artists/2P5sC9cVZDToPxyomzF1UH', 'id': '2P5sC9cVZDToPxyomzF1UH', 'name': 'Joey Bada$$', 'type': 'artist', 'uri': 'spotify:artist:2P5sC9cVZDToPxyomzF1UH'}], 'available_markets': ['AD', 'AE', 'AL', 'AR', 'AT', 'AU', 'BA', 'BE', 'BG', 'BH', 'BO', 'BR', 'BY', 'CA', 'CH', 'CL', 'CO', 'CR', 'CY', 'CZ', 'DE', 'DK', 'DO', 'DZ', 'EC', 'EE', 'EG', 'ES', 'FI', 'FR', 'GB', 'GR', 'GT', 'HK', 'HN', 'HR', 'HU', 'ID', 'IE', 'IL', 'IN', 'IS', 'IT', 'JO', 'JP', 'KW', 'KZ', 'LB', 'LI', 'LT', 'LU', 'LV', 'MA', 'MC', 'MD', 'ME', 'MK', 'MT', 'MX', 'MY', 'NI', 'NL', 'NO', 'NZ', 'OM', 'PA', 'PE', 'PH', 'PL', 'PS', 'PT', 'PY', 'QA', 'RO', 'RS', 'RU', 'SA', 'SE', 'SG', 'SI', 'SK', 'SV', 'TH', 'TN', 'TR', 'TW', 'UA', 'US', 'UY', 'VN', 'XK', 'ZA'], 'external_urls': {'spotify': 'https://open.spotify.com/album/14EzA7MWoKYPjzjeT4gtj3'}, 'href': 'https://api.spotify.com/v1/albums/14EzA7MWoKYPjzjeT4gtj3', 'id': '14EzA7MWoKYPjzjeT4gtj3', 'images': [{'height': 640, 'url': 'https://i.scdn.co/image/ab67616d0000b27363d3d88060ff940456b89719', 'width': 640}, {'height': 300, 'url': 'https://i.scdn.co/image/ab67616d00001e0263d3d88060ff940456b89719', 'width': 300}, {'height': 64, 'url': 'https://i.scdn.co/image/ab67616d0000485163d3d88060ff940456b89719', 'width': 64}], 'name': 'The Light Pack', 'release_date': '2020-07-17', 'release_date_precision': 'day', 'total_tracks': 3, 'type': 'album', 'uri': 'spotify:album:14EzA7MWoKYPjzjeT4gtj3'}, {'album_type': 'album', 'artists': [{'external_urls': {'spotify': 'https://open.spotify.com/artist/78SHxLdtysAXgywQ4vE0Oa'}, 'href': 'https://api.spotify.com/v1/artists/78SHxLdtysAXgywQ4vE0Oa', 'id': '78SHxLdtysAXgywQ4vE0Oa', 'name': 'Bush', 'type': 'artist', 'uri': 'spotify:artist:78SHxLdtysAXgywQ4vE0Oa'}], 'available_markets': ['AD', 'AE', 'AL', 'AR', 'AT', 'AU', 'BA', 'BE', 'BG', 'BH', 'BO', 'BR', 'BY', 'CA', 'CH', 'CL', 'CO', 'CR', 'CY', 'CZ', 'DE', 'DK', 'DO', 'DZ', 'EC', 'EE', 'EG', 'ES', 'FI', 'FR', 'GB', 'GR', 'GT', 'HK', 'HN', 'HR', 'HU', 'ID', 'IE', 'IL', 'IS', 'IT', 'JO', 'JP', 'KW', 'KZ', 'LB', 'LI', 'LT', 'LU', 'LV', 'MA', 'MC', 'MD', 'ME', 'MK', 'MT', 'MX', 'MY', 'NI', 'NL', 'NO', 'NZ', 'OM', 'PA', 'PE', 'PH', 'PL', 'PS', 'PT', 'PY', 'QA', 'RO', 'RS', 'RU', 'SA', 'SE', 'SG', 'SI', 'SK', 'SV', 'TH', 'TN', 'TR', 'TW', 'UA', 'US', 'UY', 'VN', 'XK', 'ZA'], 'external_urls': {'spotify': 'https://open.spotify.com/album/1IduB3mfHISAtpV1zQHpef'}, 'href': 'https://api.spotify.com/v1/albums/1IduB3mfHISAtpV1zQHpef', 'id': '1IduB3mfHISAtpV1zQHpef', 'images': [{'height': 640, 'url': 'https://i.scdn.co/image/ab67616d0000b273000dc224c449d83b0679f6a2', 'width': 640}, {'height': 300, 'url': 'https://i.scdn.co/image/ab67616d00001e02000dc224c449d83b0679f6a2', 'width': 300}, {'height': 64, 'url': 'https://i.scdn.co/image/ab67616d00004851000dc224c449d83b0679f6a2', 'width': 64}], 'name': 'The Kingdom', 'release_date': '2020-07-17', 'release_date_precision': 'day', 'total_tracks': 12, 'type': 'album', 'uri': 'spotify:album:1IduB3mfHISAtpV1zQHpef'}], 'limit': 20, 'next': 'https://api.spotify.com/v1/browse/new-releases?offset=20&limit=20', 'offset': 0, 'previous': None, 'total': 100}}\n"
     ]
    }
   ],
   "source": [
    "# write code here. add more cells as needed.\n",
    "print(new_releases)\n",
    "\n"
   ]
  },
  {
   "cell_type": "code",
   "execution_count": 9,
   "metadata": {},
   "outputs": [
    {
     "name": "stdout",
     "output_type": "stream",
     "text": [
      "{'albums': {'href': 'https://api.spotify.com/v1/browse/new-releases?offset=0&limit=20', 'items': [{'album_type': 'single', 'artists': [{'external_urls': {'spotify': 'https://open.spotify.com/artist/0QHgL1lAIqAw0HtD7YldmP'}, 'href': 'https://api.spotify.com/v1/artists/0QHgL1lAIqAw0HtD7YldmP', 'id': '0QHgL1lAIqAw0HtD7YldmP', 'name': 'DJ Khaled', 'type': 'artist', 'uri': 'spotify:artist:0QHgL1lAIqAw0HtD7YldmP'}, {'external_urls': {'spotify': 'https://open.spotify.com/artist/3TVXtAsR1Inumwj472S9r4'}, 'href': 'https://api.spotify.com/v1/artists/3TVXtAsR1Inumwj472S9r4', 'id': '3TVXtAsR1Inumwj472S9r4', 'name': 'Drake', 'type': 'artist', 'uri': 'spotify:artist:3TVXtAsR1Inumwj472S9r4'}], 'available_markets': ['AD', 'AE', 'AL', 'AR', 'AT', 'AU', 'BA', 'BE', 'BG', 'BH', 'BO', 'BR', 'BY', 'CA', 'CH', 'CL', 'CO', 'CR', 'CY', 'CZ', 'DE', 'DK', 'DO', 'DZ', 'EC', 'EE', 'EG', 'ES', 'FI', 'FR', 'GB', 'GR', 'GT', 'HK', 'HN', 'HR', 'HU', 'ID', 'IE', 'IL', 'IN', 'IS', 'IT', 'JO', 'JP', 'KW', 'KZ', 'LB', 'LI', 'LT', 'LU', 'LV', 'MA', 'MC', 'MD', 'ME', 'MK', 'MT', 'MX', 'MY', 'NI', 'NL', 'NO', 'NZ', 'OM', 'PA', 'PE', 'PH', 'PL', 'PS', 'PT', 'PY', 'QA', 'RO', 'RS', 'RU', 'SA', 'SE', 'SG', 'SI', 'SK', 'SV', 'TH', 'TN', 'TR', 'TW', 'UA', 'US', 'UY', 'VN', 'XK', 'ZA'], 'external_urls': {'spotify': 'https://open.spotify.com/album/5nNtpPsSUgb9Hlb3dF1gXa'}, 'href': 'https://api.spotify.com/v1/albums/5nNtpPsSUgb9Hlb3dF1gXa', 'id': '5nNtpPsSUgb9Hlb3dF1gXa', 'images': [{'height': 640, 'url': 'https://i.scdn.co/image/ab67616d0000b273efaecb4b9cbae7c120d14617', 'width': 640}, {'height': 300, 'url': 'https://i.scdn.co/image/ab67616d00001e02efaecb4b9cbae7c120d14617', 'width': 300}, {'height': 64, 'url': 'https://i.scdn.co/image/ab67616d00004851efaecb4b9cbae7c120d14617', 'width': 64}], 'name': 'POPSTAR (feat. Drake)', 'release_date': '2020-07-17', 'release_date_precision': 'day', 'total_tracks': 1, 'type': 'album', 'uri': 'spotify:album:5nNtpPsSUgb9Hlb3dF1gXa'}, {'album_type': 'album', 'artists': [{'external_urls': {'spotify': 'https://open.spotify.com/artist/0X2BH1fck6amBIoJhDVmmJ'}, 'href': 'https://api.spotify.com/v1/artists/0X2BH1fck6amBIoJhDVmmJ', 'id': '0X2BH1fck6amBIoJhDVmmJ', 'name': 'Ellie Goulding', 'type': 'artist', 'uri': 'spotify:artist:0X2BH1fck6amBIoJhDVmmJ'}], 'available_markets': ['AD', 'AE', 'AL', 'AR', 'AT', 'AU', 'BA', 'BE', 'BG', 'BH', 'BO', 'BR', 'BY', 'CA', 'CH', 'CL', 'CO', 'CR', 'CY', 'CZ', 'DE', 'DK', 'DO', 'DZ', 'EC', 'EE', 'EG', 'ES', 'FI', 'FR', 'GB', 'GR', 'GT', 'HK', 'HN', 'HR', 'HU', 'ID', 'IE', 'IL', 'IN', 'IS', 'IT', 'JO', 'JP', 'KW', 'KZ', 'LB', 'LI', 'LT', 'LU', 'LV', 'MA', 'MC', 'MD', 'ME', 'MK', 'MT', 'MX', 'MY', 'NI', 'NL', 'NO', 'NZ', 'OM', 'PA', 'PE', 'PH', 'PL', 'PS', 'PT', 'PY', 'QA', 'RO', 'RS', 'RU', 'SA', 'SE', 'SG', 'SI', 'SK', 'SV', 'TH', 'TN', 'TR', 'TW', 'UA', 'US', 'UY', 'VN', 'XK', 'ZA'], 'external_urls': {'spotify': 'https://open.spotify.com/album/7hCfgsycCFH4bBjEfUwh3S'}, 'href': 'https://api.spotify.com/v1/albums/7hCfgsycCFH4bBjEfUwh3S', 'id': '7hCfgsycCFH4bBjEfUwh3S', 'images': [{'height': 640, 'url': 'https://i.scdn.co/image/ab67616d0000b2735f76dbd311a0782823550b30', 'width': 640}, {'height': 300, 'url': 'https://i.scdn.co/image/ab67616d00001e025f76dbd311a0782823550b30', 'width': 300}, {'height': 64, 'url': 'https://i.scdn.co/image/ab67616d000048515f76dbd311a0782823550b30', 'width': 64}], 'name': 'Brightest Blue', 'release_date': '2020-07-17', 'release_date_precision': 'day', 'total_tracks': 18, 'type': 'album', 'uri': 'spotify:album:7hCfgsycCFH4bBjEfUwh3S'}, {'album_type': 'single', 'artists': [{'external_urls': {'spotify': 'https://open.spotify.com/artist/6jlWj6y00bMQt8XoKuCjyZ'}, 'href': 'https://api.spotify.com/v1/artists/6jlWj6y00bMQt8XoKuCjyZ', 'id': '6jlWj6y00bMQt8XoKuCjyZ', 'name': 'Emily King', 'type': 'artist', 'uri': 'spotify:artist:6jlWj6y00bMQt8XoKuCjyZ'}], 'available_markets': ['AE', 'BH', 'CY', 'EG', 'HK', 'ID', 'IL', 'IN', 'JO', 'KW', 'KZ', 'LB', 'MY', 'OM', 'PH', 'PS', 'QA', 'SA', 'SG', 'TH', 'TR', 'TW', 'VN', 'ZA', 'DZ', 'MA', 'TN', 'AR', 'BR', 'UY', 'BO', 'CL', 'DO', 'PY', 'CO', 'EC', 'MX', 'PA', 'PE', 'CR', 'GT', 'HN', 'NI', 'SV'], 'external_urls': {'spotify': 'https://open.spotify.com/album/7jdh1K9Sl0dPElH6Ecb3Xs'}, 'href': 'https://api.spotify.com/v1/albums/7jdh1K9Sl0dPElH6Ecb3Xs', 'id': '7jdh1K9Sl0dPElH6Ecb3Xs', 'images': [{'height': 640, 'url': 'https://i.scdn.co/image/ab67616d0000b273b45a0de85b5bb6cdbcb7247e', 'width': 640}, {'height': 300, 'url': 'https://i.scdn.co/image/ab67616d00001e02b45a0de85b5bb6cdbcb7247e', 'width': 300}, {'height': 64, 'url': 'https://i.scdn.co/image/ab67616d00004851b45a0de85b5bb6cdbcb7247e', 'width': 64}], 'name': 'Spotify Singles', 'release_date': '2020-07-22', 'release_date_precision': 'day', 'total_tracks': 2, 'type': 'album', 'uri': 'spotify:album:7jdh1K9Sl0dPElH6Ecb3Xs'}, {'album_type': 'album', 'artists': [{'external_urls': {'spotify': 'https://open.spotify.com/artist/25IG9fa7cbdmCIy3OnuH57'}, 'href': 'https://api.spotify.com/v1/artists/25IG9fa7cbdmCIy3OnuH57', 'id': '25IG9fa7cbdmCIy3OnuH57', 'name': 'The Chicks', 'type': 'artist', 'uri': 'spotify:artist:25IG9fa7cbdmCIy3OnuH57'}], 'available_markets': ['AD', 'AE', 'AL', 'AR', 'AT', 'AU', 'BA', 'BE', 'BG', 'BH', 'BO', 'BR', 'BY', 'CA', 'CH', 'CL', 'CO', 'CR', 'CY', 'CZ', 'DE', 'DK', 'DO', 'DZ', 'EC', 'EE', 'EG', 'ES', 'FI', 'FR', 'GB', 'GR', 'GT', 'HK', 'HN', 'HR', 'HU', 'ID', 'IE', 'IL', 'IN', 'IS', 'IT', 'JO', 'JP', 'KW', 'KZ', 'LB', 'LI', 'LT', 'LU', 'LV', 'MA', 'MC', 'MD', 'ME', 'MK', 'MT', 'MX', 'MY', 'NI', 'NL', 'NO', 'NZ', 'OM', 'PA', 'PE', 'PH', 'PL', 'PS', 'PT', 'PY', 'QA', 'RO', 'RS', 'RU', 'SA', 'SE', 'SG', 'SI', 'SK', 'SV', 'TH', 'TN', 'TR', 'TW', 'UA', 'US', 'UY', 'VN', 'XK', 'ZA'], 'external_urls': {'spotify': 'https://open.spotify.com/album/1YV5Rh6n8dLOycCqWcUSq4'}, 'href': 'https://api.spotify.com/v1/albums/1YV5Rh6n8dLOycCqWcUSq4', 'id': '1YV5Rh6n8dLOycCqWcUSq4', 'images': [{'height': 640, 'url': 'https://i.scdn.co/image/ab67616d0000b273d3836964e3eb4ee83eaca288', 'width': 640}, {'height': 300, 'url': 'https://i.scdn.co/image/ab67616d00001e02d3836964e3eb4ee83eaca288', 'width': 300}, {'height': 64, 'url': 'https://i.scdn.co/image/ab67616d00004851d3836964e3eb4ee83eaca288', 'width': 64}], 'name': 'Gaslighter', 'release_date': '2020-07-17', 'release_date_precision': 'day', 'total_tracks': 12, 'type': 'album', 'uri': 'spotify:album:1YV5Rh6n8dLOycCqWcUSq4'}, {'album_type': 'single', 'artists': [{'external_urls': {'spotify': 'https://open.spotify.com/artist/2eqoJbzUGDwys5ENUkbT3h'}, 'href': 'https://api.spotify.com/v1/artists/2eqoJbzUGDwys5ENUkbT3h', 'id': '2eqoJbzUGDwys5ENUkbT3h', 'name': 'J.I the Prince of N.Y', 'type': 'artist', 'uri': 'spotify:artist:2eqoJbzUGDwys5ENUkbT3h'}], 'available_markets': ['AD', 'AE', 'AL', 'AR', 'AT', 'AU', 'BA', 'BE', 'BG', 'BH', 'BO', 'BR', 'BY', 'CA', 'CH', 'CL', 'CO', 'CR', 'CY', 'CZ', 'DE', 'DK', 'DO', 'DZ', 'EC', 'EE', 'EG', 'ES', 'FI', 'FR', 'GB', 'GR', 'GT', 'HK', 'HN', 'HR', 'HU', 'ID', 'IE', 'IL', 'IN', 'IS', 'IT', 'JO', 'JP', 'KW', 'KZ', 'LB', 'LI', 'LT', 'LU', 'LV', 'MA', 'MC', 'MD', 'ME', 'MK', 'MT', 'MX', 'MY', 'NI', 'NL', 'NO', 'NZ', 'OM', 'PA', 'PE', 'PH', 'PL', 'PS', 'PT', 'PY', 'QA', 'RO', 'RS', 'RU', 'SA', 'SE', 'SG', 'SI', 'SK', 'SV', 'TH', 'TN', 'TR', 'TW', 'UA', 'US', 'UY', 'VN', 'XK', 'ZA'], 'external_urls': {'spotify': 'https://open.spotify.com/album/3EImpNqOe0VteNjthjChQz'}, 'href': 'https://api.spotify.com/v1/albums/3EImpNqOe0VteNjthjChQz', 'id': '3EImpNqOe0VteNjthjChQz', 'images': [{'height': 640, 'url': 'https://i.scdn.co/image/ab67616d0000b27325f943de09d072d0408617e4', 'width': 640}, {'height': 300, 'url': 'https://i.scdn.co/image/ab67616d00001e0225f943de09d072d0408617e4', 'width': 300}, {'height': 64, 'url': 'https://i.scdn.co/image/ab67616d0000485125f943de09d072d0408617e4', 'width': 64}], 'name': 'Welcome to GStarr Vol. 1 EP', 'release_date': '2020-07-17', 'release_date_precision': 'day', 'total_tracks': 6, 'type': 'album', 'uri': 'spotify:album:3EImpNqOe0VteNjthjChQz'}, {'album_type': 'single', 'artists': [{'external_urls': {'spotify': 'https://open.spotify.com/artist/2qxJFvFYMEDqd7ui6kSAcq'}, 'href': 'https://api.spotify.com/v1/artists/2qxJFvFYMEDqd7ui6kSAcq', 'id': '2qxJFvFYMEDqd7ui6kSAcq', 'name': 'Zedd', 'type': 'artist', 'uri': 'spotify:artist:2qxJFvFYMEDqd7ui6kSAcq'}, {'external_urls': {'spotify': 'https://open.spotify.com/artist/2TL8gYTNgD6nXkyuUdDrMg'}, 'href': 'https://api.spotify.com/v1/artists/2TL8gYTNgD6nXkyuUdDrMg', 'id': '2TL8gYTNgD6nXkyuUdDrMg', 'name': 'Jasmine Thompson', 'type': 'artist', 'uri': 'spotify:artist:2TL8gYTNgD6nXkyuUdDrMg'}], 'available_markets': ['AD', 'AE', 'AL', 'AR', 'AT', 'AU', 'BA', 'BE', 'BG', 'BH', 'BO', 'BR', 'BY', 'CA', 'CH', 'CL', 'CO', 'CR', 'CY', 'CZ', 'DE', 'DK', 'DO', 'DZ', 'EC', 'EE', 'EG', 'ES', 'FI', 'FR', 'GB', 'GR', 'GT', 'HK', 'HN', 'HR', 'HU', 'ID', 'IE', 'IL', 'IN', 'IS', 'IT', 'JO', 'JP', 'KW', 'KZ', 'LB', 'LI', 'LT', 'LU', 'LV', 'MA', 'MC', 'MD', 'ME', 'MK', 'MT', 'MX', 'MY', 'NI', 'NL', 'NO', 'NZ', 'OM', 'PA', 'PE', 'PH', 'PL', 'PS', 'PT', 'PY', 'QA', 'RO', 'RS', 'RU', 'SA', 'SE', 'SG', 'SI', 'SK', 'SV', 'TH', 'TN', 'TR', 'TW', 'UA', 'US', 'UY', 'VN', 'XK', 'ZA'], 'external_urls': {'spotify': 'https://open.spotify.com/album/5Q8Uyc3KUlPhPtMQDY5SWm'}, 'href': 'https://api.spotify.com/v1/albums/5Q8Uyc3KUlPhPtMQDY5SWm', 'id': '5Q8Uyc3KUlPhPtMQDY5SWm', 'images': [{'height': 640, 'url': 'https://i.scdn.co/image/ab67616d0000b2738046020d2ba421ea91423419', 'width': 640}, {'height': 300, 'url': 'https://i.scdn.co/image/ab67616d00001e028046020d2ba421ea91423419', 'width': 300}, {'height': 64, 'url': 'https://i.scdn.co/image/ab67616d000048518046020d2ba421ea91423419', 'width': 64}], 'name': 'Funny', 'release_date': '2020-07-16', 'release_date_precision': 'day', 'total_tracks': 1, 'type': 'album', 'uri': 'spotify:album:5Q8Uyc3KUlPhPtMQDY5SWm'}, {'album_type': 'single', 'artists': [{'external_urls': {'spotify': 'https://open.spotify.com/artist/3WGpXCj9YhhfX11TToZcXP'}, 'href': 'https://api.spotify.com/v1/artists/3WGpXCj9YhhfX11TToZcXP', 'id': '3WGpXCj9YhhfX11TToZcXP', 'name': 'Troye Sivan', 'type': 'artist', 'uri': 'spotify:artist:3WGpXCj9YhhfX11TToZcXP'}], 'available_markets': ['AD', 'AE', 'AL', 'AR', 'AT', 'AU', 'BA', 'BE', 'BG', 'BH', 'BO', 'BR', 'BY', 'CA', 'CH', 'CL', 'CO', 'CR', 'CY', 'CZ', 'DE', 'DK', 'DO', 'DZ', 'EC', 'EE', 'EG', 'ES', 'FI', 'FR', 'GB', 'GR', 'GT', 'HK', 'HN', 'HR', 'HU', 'ID', 'IE', 'IL', 'IN', 'IS', 'IT', 'JO', 'JP', 'KW', 'KZ', 'LB', 'LI', 'LT', 'LU', 'LV', 'MA', 'MC', 'MD', 'ME', 'MK', 'MT', 'MX', 'MY', 'NI', 'NL', 'NO', 'NZ', 'OM', 'PA', 'PE', 'PH', 'PL', 'PS', 'PT', 'PY', 'QA', 'RO', 'RS', 'RU', 'SA', 'SE', 'SG', 'SI', 'SK', 'SV', 'TH', 'TN', 'TR', 'TW', 'UA', 'US', 'UY', 'VN', 'XK', 'ZA'], 'external_urls': {'spotify': 'https://open.spotify.com/album/25bVTJuPSWiiwdxgjJGRUi'}, 'href': 'https://api.spotify.com/v1/albums/25bVTJuPSWiiwdxgjJGRUi', 'id': '25bVTJuPSWiiwdxgjJGRUi', 'images': [{'height': 640, 'url': 'https://i.scdn.co/image/ab67616d0000b273acd22b93c9521a25e0210109', 'width': 640}, {'height': 300, 'url': 'https://i.scdn.co/image/ab67616d00001e02acd22b93c9521a25e0210109', 'width': 300}, {'height': 64, 'url': 'https://i.scdn.co/image/ab67616d00004851acd22b93c9521a25e0210109', 'width': 64}], 'name': 'Easy', 'release_date': '2020-07-15', 'release_date_precision': 'day', 'total_tracks': 2, 'type': 'album', 'uri': 'spotify:album:25bVTJuPSWiiwdxgjJGRUi'}, {'album_type': 'single', 'artists': [{'external_urls': {'spotify': 'https://open.spotify.com/artist/1Cs0zKBU1kc0i8ypK3B9ai'}, 'href': 'https://api.spotify.com/v1/artists/1Cs0zKBU1kc0i8ypK3B9ai', 'id': '1Cs0zKBU1kc0i8ypK3B9ai', 'name': 'David Guetta', 'type': 'artist', 'uri': 'spotify:artist:1Cs0zKBU1kc0i8ypK3B9ai'}, {'external_urls': {'spotify': 'https://open.spotify.com/artist/19HFRWmRCl27kTk6LeqAO8'}, 'href': 'https://api.spotify.com/v1/artists/19HFRWmRCl27kTk6LeqAO8', 'id': '19HFRWmRCl27kTk6LeqAO8', 'name': 'MORTEN', 'type': 'artist', 'uri': 'spotify:artist:19HFRWmRCl27kTk6LeqAO8'}], 'available_markets': ['AD', 'AE', 'AL', 'AR', 'AT', 'AU', 'BA', 'BE', 'BG', 'BH', 'BO', 'BR', 'BY', 'CA', 'CH', 'CL', 'CO', 'CR', 'CY', 'CZ', 'DE', 'DK', 'DO', 'DZ', 'EC', 'EE', 'EG', 'ES', 'FI', 'FR', 'GB', 'GR', 'GT', 'HK', 'HN', 'HR', 'HU', 'ID', 'IE', 'IL', 'IN', 'IS', 'IT', 'JO', 'JP', 'KW', 'KZ', 'LB', 'LI', 'LT', 'LU', 'LV', 'MA', 'MC', 'MD', 'ME', 'MK', 'MT', 'MX', 'MY', 'NI', 'NL', 'NO', 'NZ', 'OM', 'PA', 'PE', 'PH', 'PL', 'PS', 'PT', 'PY', 'QA', 'RO', 'RS', 'RU', 'SA', 'SE', 'SG', 'SI', 'SK', 'SV', 'TH', 'TN', 'TR', 'TW', 'UA', 'US', 'UY', 'VN', 'XK', 'ZA'], 'external_urls': {'spotify': 'https://open.spotify.com/album/0fKU8zzmBjXNAJp5Uo2dml'}, 'href': 'https://api.spotify.com/v1/albums/0fKU8zzmBjXNAJp5Uo2dml', 'id': '0fKU8zzmBjXNAJp5Uo2dml', 'images': [{'height': 640, 'url': 'https://i.scdn.co/image/ab67616d0000b273d036cdc7102e5fd3ac7affe5', 'width': 640}, {'height': 300, 'url': 'https://i.scdn.co/image/ab67616d00001e02d036cdc7102e5fd3ac7affe5', 'width': 300}, {'height': 64, 'url': 'https://i.scdn.co/image/ab67616d00004851d036cdc7102e5fd3ac7affe5', 'width': 64}], 'name': 'New Rave', 'release_date': '2020-07-17', 'release_date_precision': 'day', 'total_tracks': 4, 'type': 'album', 'uri': 'spotify:album:0fKU8zzmBjXNAJp5Uo2dml'}, {'album_type': 'single', 'artists': [{'external_urls': {'spotify': 'https://open.spotify.com/artist/1W7FNibLa0O0b572tB2w7t'}, 'href': 'https://api.spotify.com/v1/artists/1W7FNibLa0O0b572tB2w7t', 'id': '1W7FNibLa0O0b572tB2w7t', 'name': 'Pink Sweat$', 'type': 'artist', 'uri': 'spotify:artist:1W7FNibLa0O0b572tB2w7t'}], 'available_markets': ['AD', 'AE', 'AL', 'AR', 'AT', 'AU', 'BA', 'BE', 'BG', 'BH', 'BO', 'BR', 'BY', 'CA', 'CH', 'CL', 'CO', 'CR', 'CY', 'CZ', 'DE', 'DK', 'DO', 'DZ', 'EC', 'EE', 'EG', 'ES', 'FI', 'FR', 'GB', 'GR', 'GT', 'HK', 'HN', 'HR', 'HU', 'ID', 'IE', 'IL', 'IN', 'IS', 'IT', 'JO', 'JP', 'KW', 'KZ', 'LB', 'LI', 'LT', 'LU', 'LV', 'MA', 'MC', 'MD', 'ME', 'MK', 'MT', 'MX', 'MY', 'NI', 'NL', 'NO', 'NZ', 'OM', 'PA', 'PE', 'PH', 'PL', 'PS', 'PT', 'PY', 'QA', 'RO', 'RS', 'RU', 'SA', 'SE', 'SG', 'SI', 'SK', 'SV', 'TH', 'TN', 'TR', 'TW', 'UA', 'US', 'UY', 'VN', 'XK', 'ZA'], 'external_urls': {'spotify': 'https://open.spotify.com/album/3Qj2vsFzmaB8jcH6Q60WIG'}, 'href': 'https://api.spotify.com/v1/albums/3Qj2vsFzmaB8jcH6Q60WIG', 'id': '3Qj2vsFzmaB8jcH6Q60WIG', 'images': [{'height': 640, 'url': 'https://i.scdn.co/image/ab67616d0000b273e99f7b031daf4e3bc1c275e5', 'width': 640}, {'height': 300, 'url': 'https://i.scdn.co/image/ab67616d00001e02e99f7b031daf4e3bc1c275e5', 'width': 300}, {'height': 64, 'url': 'https://i.scdn.co/image/ab67616d00004851e99f7b031daf4e3bc1c275e5', 'width': 64}], 'name': 'The Prelude', 'release_date': '2020-07-17', 'release_date_precision': 'day', 'total_tracks': 6, 'type': 'album', 'uri': 'spotify:album:3Qj2vsFzmaB8jcH6Q60WIG'}, {'album_type': 'single', 'artists': [{'external_urls': {'spotify': 'https://open.spotify.com/artist/35l9BRT7MXmM8bv2WDQiyB'}, 'href': 'https://api.spotify.com/v1/artists/35l9BRT7MXmM8bv2WDQiyB', 'id': '35l9BRT7MXmM8bv2WDQiyB', 'name': 'beabadoobee', 'type': 'artist', 'uri': 'spotify:artist:35l9BRT7MXmM8bv2WDQiyB'}], 'available_markets': ['AD', 'AE', 'AL', 'AR', 'AT', 'AU', 'BA', 'BE', 'BG', 'BH', 'BO', 'BR', 'BY', 'CA', 'CH', 'CL', 'CO', 'CR', 'CY', 'CZ', 'DE', 'DK', 'DO', 'DZ', 'EC', 'EE', 'EG', 'ES', 'FI', 'FR', 'GB', 'GR', 'GT', 'HK', 'HN', 'HR', 'HU', 'ID', 'IE', 'IL', 'IN', 'IS', 'IT', 'JO', 'JP', 'KW', 'KZ', 'LB', 'LI', 'LT', 'LU', 'LV', 'MA', 'MC', 'MD', 'ME', 'MK', 'MT', 'MX', 'MY', 'NI', 'NL', 'NO', 'NZ', 'OM', 'PA', 'PE', 'PH', 'PL', 'PS', 'PT', 'PY', 'QA', 'RO', 'RS', 'RU', 'SA', 'SE', 'SG', 'SI', 'SK', 'SV', 'TH', 'TN', 'TR', 'TW', 'UA', 'US', 'UY', 'VN', 'XK', 'ZA'], 'external_urls': {'spotify': 'https://open.spotify.com/album/51fkPPsTPpZdFEGr3o5dCt'}, 'href': 'https://api.spotify.com/v1/albums/51fkPPsTPpZdFEGr3o5dCt', 'id': '51fkPPsTPpZdFEGr3o5dCt', 'images': [{'height': 640, 'url': 'https://i.scdn.co/image/ab67616d0000b273b694c6e4dd1f247401d758a8', 'width': 640}, {'height': 300, 'url': 'https://i.scdn.co/image/ab67616d00001e02b694c6e4dd1f247401d758a8', 'width': 300}, {'height': 64, 'url': 'https://i.scdn.co/image/ab67616d00004851b694c6e4dd1f247401d758a8', 'width': 64}], 'name': 'Care', 'release_date': '2020-07-15', 'release_date_precision': 'day', 'total_tracks': 1, 'type': 'album', 'uri': 'spotify:album:51fkPPsTPpZdFEGr3o5dCt'}, {'album_type': 'album', 'artists': [{'external_urls': {'spotify': 'https://open.spotify.com/artist/1XLWox9w1Yvbodui0SRhUQ'}, 'href': 'https://api.spotify.com/v1/artists/1XLWox9w1Yvbodui0SRhUQ', 'id': '1XLWox9w1Yvbodui0SRhUQ', 'name': 'StaySolidRocky', 'type': 'artist', 'uri': 'spotify:artist:1XLWox9w1Yvbodui0SRhUQ'}], 'available_markets': ['AD', 'AE', 'AL', 'AR', 'AT', 'AU', 'BA', 'BE', 'BG', 'BH', 'BO', 'BR', 'BY', 'CA', 'CH', 'CL', 'CO', 'CR', 'CY', 'CZ', 'DE', 'DK', 'DO', 'DZ', 'EC', 'EE', 'EG', 'ES', 'FI', 'FR', 'GB', 'GR', 'GT', 'HK', 'HN', 'HR', 'HU', 'ID', 'IE', 'IL', 'IN', 'IS', 'IT', 'JO', 'JP', 'KW', 'KZ', 'LB', 'LI', 'LT', 'LU', 'LV', 'MA', 'MC', 'MD', 'ME', 'MK', 'MT', 'MX', 'MY', 'NI', 'NL', 'NO', 'NZ', 'OM', 'PA', 'PE', 'PH', 'PL', 'PS', 'PT', 'PY', 'QA', 'RO', 'RS', 'RU', 'SA', 'SE', 'SG', 'SI', 'SK', 'SV', 'TH', 'TN', 'TR', 'TW', 'UA', 'US', 'UY', 'VN', 'XK', 'ZA'], 'external_urls': {'spotify': 'https://open.spotify.com/album/4ZZOKHnGnpvVKHkwexxhPL'}, 'href': 'https://api.spotify.com/v1/albums/4ZZOKHnGnpvVKHkwexxhPL', 'id': '4ZZOKHnGnpvVKHkwexxhPL', 'images': [{'height': 640, 'url': 'https://i.scdn.co/image/ab67616d0000b27373debb36ac6edd90c7f4c6a8', 'width': 640}, {'height': 300, 'url': 'https://i.scdn.co/image/ab67616d00001e0273debb36ac6edd90c7f4c6a8', 'width': 300}, {'height': 64, 'url': 'https://i.scdn.co/image/ab67616d0000485173debb36ac6edd90c7f4c6a8', 'width': 64}], 'name': \"Fallin'\", 'release_date': '2020-07-17', 'release_date_precision': 'day', 'total_tracks': 7, 'type': 'album', 'uri': 'spotify:album:4ZZOKHnGnpvVKHkwexxhPL'}, {'album_type': 'album', 'artists': [{'external_urls': {'spotify': 'https://open.spotify.com/artist/2wUjUUtkb5lvLKcGKsKqsR'}, 'href': 'https://api.spotify.com/v1/artists/2wUjUUtkb5lvLKcGKsKqsR', 'id': '2wUjUUtkb5lvLKcGKsKqsR', 'name': 'Alessia Cara', 'type': 'artist', 'uri': 'spotify:artist:2wUjUUtkb5lvLKcGKsKqsR'}], 'available_markets': ['AD', 'AE', 'AL', 'AR', 'AT', 'AU', 'BA', 'BE', 'BG', 'BH', 'BO', 'BR', 'BY', 'CA', 'CH', 'CL', 'CO', 'CR', 'CY', 'CZ', 'DE', 'DK', 'DO', 'DZ', 'EC', 'EE', 'EG', 'ES', 'FI', 'FR', 'GB', 'GR', 'GT', 'HK', 'HN', 'HR', 'HU', 'ID', 'IE', 'IL', 'IN', 'IS', 'IT', 'JO', 'JP', 'KW', 'KZ', 'LB', 'LI', 'LT', 'LU', 'LV', 'MA', 'MC', 'MD', 'ME', 'MK', 'MT', 'MX', 'MY', 'NI', 'NL', 'NO', 'NZ', 'OM', 'PA', 'PE', 'PH', 'PL', 'PS', 'PT', 'PY', 'QA', 'RO', 'RS', 'RU', 'SA', 'SE', 'SG', 'SI', 'SK', 'SV', 'TH', 'TN', 'TR', 'TW', 'UA', 'US', 'UY', 'VN', 'XK', 'ZA'], 'external_urls': {'spotify': 'https://open.spotify.com/album/5f4wj5QGE753r1IcZbiKS3'}, 'href': 'https://api.spotify.com/v1/albums/5f4wj5QGE753r1IcZbiKS3', 'id': '5f4wj5QGE753r1IcZbiKS3', 'images': [{'height': 640, 'url': 'https://i.scdn.co/image/ab67616d0000b27385c7af5b879dc405b14856f3', 'width': 640}, {'height': 300, 'url': 'https://i.scdn.co/image/ab67616d00001e0285c7af5b879dc405b14856f3', 'width': 300}, {'height': 64, 'url': 'https://i.scdn.co/image/ab67616d0000485185c7af5b879dc405b14856f3', 'width': 64}], 'name': 'This Summer: Live Off The Floor', 'release_date': '2020-07-17', 'release_date_precision': 'day', 'total_tracks': 10, 'type': 'album', 'uri': 'spotify:album:5f4wj5QGE753r1IcZbiKS3'}, {'album_type': 'album', 'artists': [{'external_urls': {'spotify': 'https://open.spotify.com/artist/2RP4pPHTXlQpDnO9LvR7Yt'}, 'href': 'https://api.spotify.com/v1/artists/2RP4pPHTXlQpDnO9LvR7Yt', 'id': '2RP4pPHTXlQpDnO9LvR7Yt', 'name': 'Lianne La Havas', 'type': 'artist', 'uri': 'spotify:artist:2RP4pPHTXlQpDnO9LvR7Yt'}], 'available_markets': ['AD', 'AE', 'AL', 'AR', 'AT', 'AU', 'BA', 'BE', 'BG', 'BH', 'BO', 'BR', 'BY', 'CA', 'CH', 'CL', 'CO', 'CR', 'CY', 'CZ', 'DE', 'DK', 'DO', 'DZ', 'EC', 'EE', 'EG', 'ES', 'FI', 'FR', 'GB', 'GR', 'GT', 'HK', 'HN', 'HR', 'HU', 'ID', 'IE', 'IL', 'IN', 'IS', 'IT', 'JO', 'JP', 'KW', 'KZ', 'LB', 'LI', 'LT', 'LU', 'LV', 'MA', 'MC', 'MD', 'ME', 'MK', 'MT', 'MX', 'MY', 'NI', 'NL', 'NO', 'NZ', 'OM', 'PA', 'PE', 'PH', 'PL', 'PS', 'PT', 'PY', 'QA', 'RO', 'RS', 'RU', 'SA', 'SE', 'SG', 'SI', 'SK', 'SV', 'TH', 'TN', 'TR', 'TW', 'UA', 'US', 'UY', 'VN', 'XK', 'ZA'], 'external_urls': {'spotify': 'https://open.spotify.com/album/6JwtB0zzNYy4qANDrJtrJy'}, 'href': 'https://api.spotify.com/v1/albums/6JwtB0zzNYy4qANDrJtrJy', 'id': '6JwtB0zzNYy4qANDrJtrJy', 'images': [{'height': 640, 'url': 'https://i.scdn.co/image/ab67616d0000b273e4e22468cc1f1e4b9b9a9acc', 'width': 640}, {'height': 300, 'url': 'https://i.scdn.co/image/ab67616d00001e02e4e22468cc1f1e4b9b9a9acc', 'width': 300}, {'height': 64, 'url': 'https://i.scdn.co/image/ab67616d00004851e4e22468cc1f1e4b9b9a9acc', 'width': 64}], 'name': 'Lianne La Havas', 'release_date': '2020-07-17', 'release_date_precision': 'day', 'total_tracks': 12, 'type': 'album', 'uri': 'spotify:album:6JwtB0zzNYy4qANDrJtrJy'}, {'album_type': 'single', 'artists': [{'external_urls': {'spotify': 'https://open.spotify.com/artist/23fqKkggKUBHNkbKtXEls4'}, 'href': 'https://api.spotify.com/v1/artists/23fqKkggKUBHNkbKtXEls4', 'id': '23fqKkggKUBHNkbKtXEls4', 'name': 'Kygo', 'type': 'artist', 'uri': 'spotify:artist:23fqKkggKUBHNkbKtXEls4'}, {'external_urls': {'spotify': 'https://open.spotify.com/artist/1zuJe6b1roixEKMOtyrEak'}, 'href': 'https://api.spotify.com/v1/artists/1zuJe6b1roixEKMOtyrEak', 'id': '1zuJe6b1roixEKMOtyrEak', 'name': 'Tina Turner', 'type': 'artist', 'uri': 'spotify:artist:1zuJe6b1roixEKMOtyrEak'}], 'available_markets': ['AD', 'AE', 'AL', 'AR', 'AT', 'AU', 'BA', 'BE', 'BG', 'BH', 'BO', 'BR', 'BY', 'CA', 'CH', 'CL', 'CO', 'CR', 'CY', 'CZ', 'DE', 'DK', 'DO', 'DZ', 'EC', 'EE', 'EG', 'ES', 'FI', 'FR', 'GB', 'GR', 'GT', 'HK', 'HN', 'HR', 'HU', 'ID', 'IE', 'IL', 'IN', 'IS', 'IT', 'JO', 'JP', 'KW', 'KZ', 'LB', 'LI', 'LT', 'LU', 'LV', 'MA', 'MC', 'MD', 'ME', 'MK', 'MT', 'MX', 'MY', 'NI', 'NL', 'NO', 'NZ', 'OM', 'PA', 'PE', 'PH', 'PL', 'PS', 'PT', 'PY', 'QA', 'RO', 'RS', 'RU', 'SA', 'SE', 'SG', 'SI', 'SK', 'SV', 'TH', 'TN', 'TR', 'TW', 'UA', 'US', 'UY', 'VN', 'XK', 'ZA'], 'external_urls': {'spotify': 'https://open.spotify.com/album/1JFKchcdu3ewuhA5PIHWno'}, 'href': 'https://api.spotify.com/v1/albums/1JFKchcdu3ewuhA5PIHWno', 'id': '1JFKchcdu3ewuhA5PIHWno', 'images': [{'height': 640, 'url': 'https://i.scdn.co/image/ab67616d0000b273f0b43fee481f279a186dff20', 'width': 640}, {'height': 300, 'url': 'https://i.scdn.co/image/ab67616d00001e02f0b43fee481f279a186dff20', 'width': 300}, {'height': 64, 'url': 'https://i.scdn.co/image/ab67616d00004851f0b43fee481f279a186dff20', 'width': 64}], 'name': \"What's Love Got to Do with It\", 'release_date': '2020-07-17', 'release_date_precision': 'day', 'total_tracks': 1, 'type': 'album', 'uri': 'spotify:album:1JFKchcdu3ewuhA5PIHWno'}, {'album_type': 'album', 'artists': [{'external_urls': {'spotify': 'https://open.spotify.com/artist/00XhexlJEXQstHimpZN910'}, 'href': 'https://api.spotify.com/v1/artists/00XhexlJEXQstHimpZN910', 'id': '00XhexlJEXQstHimpZN910', 'name': 'Brytiago', 'type': 'artist', 'uri': 'spotify:artist:00XhexlJEXQstHimpZN910'}], 'available_markets': ['AD', 'AE', 'AL', 'AR', 'AT', 'AU', 'BA', 'BE', 'BG', 'BH', 'BO', 'BR', 'BY', 'CA', 'CH', 'CL', 'CO', 'CR', 'CY', 'CZ', 'DE', 'DK', 'DO', 'DZ', 'EC', 'EE', 'EG', 'ES', 'FI', 'FR', 'GB', 'GR', 'GT', 'HK', 'HN', 'HR', 'HU', 'ID', 'IE', 'IL', 'IN', 'IS', 'IT', 'JO', 'JP', 'KW', 'KZ', 'LB', 'LI', 'LT', 'LU', 'LV', 'MA', 'MC', 'MD', 'ME', 'MK', 'MT', 'MX', 'MY', 'NI', 'NL', 'NO', 'NZ', 'OM', 'PA', 'PE', 'PH', 'PL', 'PS', 'PT', 'PY', 'QA', 'RO', 'RS', 'RU', 'SA', 'SE', 'SG', 'SI', 'SK', 'SV', 'TH', 'TN', 'TR', 'TW', 'UA', 'US', 'UY', 'VN', 'XK', 'ZA'], 'external_urls': {'spotify': 'https://open.spotify.com/album/4sAj704PbYTvBF2fFa88a1'}, 'href': 'https://api.spotify.com/v1/albums/4sAj704PbYTvBF2fFa88a1', 'id': '4sAj704PbYTvBF2fFa88a1', 'images': [{'height': 640, 'url': 'https://i.scdn.co/image/ab67616d0000b2735faa613b419bdd41a4d82f44', 'width': 640}, {'height': 300, 'url': 'https://i.scdn.co/image/ab67616d00001e025faa613b419bdd41a4d82f44', 'width': 300}, {'height': 64, 'url': 'https://i.scdn.co/image/ab67616d000048515faa613b419bdd41a4d82f44', 'width': 64}], 'name': 'OrgÃ¡nico', 'release_date': '2020-07-17', 'release_date_precision': 'day', 'total_tracks': 16, 'type': 'album', 'uri': 'spotify:album:4sAj704PbYTvBF2fFa88a1'}, {'album_type': 'album', 'artists': [{'external_urls': {'spotify': 'https://open.spotify.com/artist/6TLwD7HPWuiOzvXEa3oCNe'}, 'href': 'https://api.spotify.com/v1/artists/6TLwD7HPWuiOzvXEa3oCNe', 'id': '6TLwD7HPWuiOzvXEa3oCNe', 'name': 'Oliver Tree', 'type': 'artist', 'uri': 'spotify:artist:6TLwD7HPWuiOzvXEa3oCNe'}], 'available_markets': ['AD', 'AE', 'AL', 'AR', 'AT', 'AU', 'BA', 'BE', 'BG', 'BH', 'BO', 'BR', 'BY', 'CA', 'CH', 'CL', 'CO', 'CR', 'CY', 'CZ', 'DE', 'DK', 'DO', 'DZ', 'EC', 'EE', 'EG', 'ES', 'FI', 'FR', 'GB', 'GR', 'GT', 'HK', 'HN', 'HR', 'HU', 'ID', 'IE', 'IL', 'IN', 'IS', 'IT', 'JO', 'JP', 'KW', 'KZ', 'LB', 'LI', 'LT', 'LU', 'LV', 'MA', 'MC', 'MD', 'ME', 'MK', 'MT', 'MX', 'MY', 'NI', 'NL', 'NO', 'NZ', 'OM', 'PA', 'PE', 'PH', 'PL', 'PS', 'PT', 'PY', 'QA', 'RO', 'RS', 'RU', 'SA', 'SE', 'SG', 'SI', 'SK', 'SV', 'TH', 'TN', 'TR', 'TW', 'UA', 'US', 'UY', 'VN', 'XK', 'ZA'], 'external_urls': {'spotify': 'https://open.spotify.com/album/1HmWQo43Gt8BR2dylfv3o4'}, 'href': 'https://api.spotify.com/v1/albums/1HmWQo43Gt8BR2dylfv3o4', 'id': '1HmWQo43Gt8BR2dylfv3o4', 'images': [{'height': 640, 'url': 'https://i.scdn.co/image/ab67616d0000b273e46d181f0fa342ee2ef38eb3', 'width': 640}, {'height': 300, 'url': 'https://i.scdn.co/image/ab67616d00001e02e46d181f0fa342ee2ef38eb3', 'width': 300}, {'height': 64, 'url': 'https://i.scdn.co/image/ab67616d00004851e46d181f0fa342ee2ef38eb3', 'width': 64}], 'name': 'Ugly is Beautiful', 'release_date': '2020-07-17', 'release_date_precision': 'day', 'total_tracks': 14, 'type': 'album', 'uri': 'spotify:album:1HmWQo43Gt8BR2dylfv3o4'}, {'album_type': 'single', 'artists': [{'external_urls': {'spotify': 'https://open.spotify.com/artist/6Ad91Jof8Niiw0lGLLi3NW'}, 'href': 'https://api.spotify.com/v1/artists/6Ad91Jof8Niiw0lGLLi3NW', 'id': '6Ad91Jof8Niiw0lGLLi3NW', 'name': 'YUNGBLUD', 'type': 'artist', 'uri': 'spotify:artist:6Ad91Jof8Niiw0lGLLi3NW'}], 'available_markets': ['AD', 'AE', 'AL', 'AR', 'AT', 'AU', 'BA', 'BE', 'BG', 'BH', 'BO', 'BR', 'BY', 'CA', 'CH', 'CL', 'CO', 'CR', 'CY', 'CZ', 'DE', 'DK', 'DO', 'DZ', 'EC', 'EE', 'EG', 'ES', 'FI', 'FR', 'GB', 'GR', 'GT', 'HK', 'HN', 'HR', 'HU', 'ID', 'IE', 'IL', 'IN', 'IS', 'IT', 'JO', 'JP', 'KW', 'KZ', 'LB', 'LI', 'LT', 'LU', 'LV', 'MA', 'MC', 'MD', 'ME', 'MK', 'MT', 'MX', 'MY', 'NI', 'NL', 'NO', 'NZ', 'OM', 'PA', 'PE', 'PH', 'PL', 'PS', 'PT', 'PY', 'QA', 'RO', 'RS', 'RU', 'SA', 'SE', 'SG', 'SI', 'SK', 'SV', 'TH', 'TN', 'TR', 'TW', 'UA', 'US', 'UY', 'VN', 'XK', 'ZA'], 'external_urls': {'spotify': 'https://open.spotify.com/album/6Il4NZgMll7LH4Gb4fcR3E'}, 'href': 'https://api.spotify.com/v1/albums/6Il4NZgMll7LH4Gb4fcR3E', 'id': '6Il4NZgMll7LH4Gb4fcR3E', 'images': [{'height': 640, 'url': 'https://i.scdn.co/image/ab67616d0000b2736e80151360335feefacb90d9', 'width': 640}, {'height': 300, 'url': 'https://i.scdn.co/image/ab67616d00001e026e80151360335feefacb90d9', 'width': 300}, {'height': 64, 'url': 'https://i.scdn.co/image/ab67616d000048516e80151360335feefacb90d9', 'width': 64}], 'name': 'Strawberry Lipstick', 'release_date': '2020-07-16', 'release_date_precision': 'day', 'total_tracks': 1, 'type': 'album', 'uri': 'spotify:album:6Il4NZgMll7LH4Gb4fcR3E'}, {'album_type': 'single', 'artists': [{'external_urls': {'spotify': 'https://open.spotify.com/artist/45TgXXqMDdF8BkjA83OM7z'}, 'href': 'https://api.spotify.com/v1/artists/45TgXXqMDdF8BkjA83OM7z', 'id': '45TgXXqMDdF8BkjA83OM7z', 'name': 'Rod Wave', 'type': 'artist', 'uri': 'spotify:artist:45TgXXqMDdF8BkjA83OM7z'}], 'available_markets': ['AD', 'AE', 'AL', 'AR', 'AT', 'AU', 'BA', 'BE', 'BG', 'BH', 'BO', 'BR', 'BY', 'CA', 'CH', 'CL', 'CO', 'CR', 'CY', 'CZ', 'DE', 'DK', 'DO', 'DZ', 'EC', 'EE', 'EG', 'ES', 'FI', 'FR', 'GB', 'GR', 'GT', 'HK', 'HN', 'HR', 'HU', 'ID', 'IE', 'IL', 'IN', 'IS', 'IT', 'JO', 'JP', 'KW', 'KZ', 'LB', 'LI', 'LT', 'LU', 'LV', 'MA', 'MC', 'MD', 'ME', 'MK', 'MT', 'MX', 'MY', 'NI', 'NL', 'NO', 'NZ', 'OM', 'PA', 'PE', 'PH', 'PL', 'PS', 'PT', 'PY', 'QA', 'RO', 'RS', 'RU', 'SA', 'SE', 'SG', 'SI', 'SK', 'SV', 'TH', 'TN', 'TR', 'TW', 'UA', 'US', 'UY', 'VN', 'XK', 'ZA'], 'external_urls': {'spotify': 'https://open.spotify.com/album/09T2PrA53cKeUvGalQHmf9'}, 'href': 'https://api.spotify.com/v1/albums/09T2PrA53cKeUvGalQHmf9', 'id': '09T2PrA53cKeUvGalQHmf9', 'images': [{'height': 640, 'url': 'https://i.scdn.co/image/ab67616d0000b27337850efe2b4d62bddb33a847', 'width': 640}, {'height': 300, 'url': 'https://i.scdn.co/image/ab67616d00001e0237850efe2b4d62bddb33a847', 'width': 300}, {'height': 64, 'url': 'https://i.scdn.co/image/ab67616d0000485137850efe2b4d62bddb33a847', 'width': 64}], 'name': 'Through The Wire', 'release_date': '2020-07-12', 'release_date_precision': 'day', 'total_tracks': 1, 'type': 'album', 'uri': 'spotify:album:09T2PrA53cKeUvGalQHmf9'}, {'album_type': 'single', 'artists': [{'external_urls': {'spotify': 'https://open.spotify.com/artist/2P5sC9cVZDToPxyomzF1UH'}, 'href': 'https://api.spotify.com/v1/artists/2P5sC9cVZDToPxyomzF1UH', 'id': '2P5sC9cVZDToPxyomzF1UH', 'name': 'Joey Bada$$', 'type': 'artist', 'uri': 'spotify:artist:2P5sC9cVZDToPxyomzF1UH'}], 'available_markets': ['AD', 'AE', 'AL', 'AR', 'AT', 'AU', 'BA', 'BE', 'BG', 'BH', 'BO', 'BR', 'BY', 'CA', 'CH', 'CL', 'CO', 'CR', 'CY', 'CZ', 'DE', 'DK', 'DO', 'DZ', 'EC', 'EE', 'EG', 'ES', 'FI', 'FR', 'GB', 'GR', 'GT', 'HK', 'HN', 'HR', 'HU', 'ID', 'IE', 'IL', 'IN', 'IS', 'IT', 'JO', 'JP', 'KW', 'KZ', 'LB', 'LI', 'LT', 'LU', 'LV', 'MA', 'MC', 'MD', 'ME', 'MK', 'MT', 'MX', 'MY', 'NI', 'NL', 'NO', 'NZ', 'OM', 'PA', 'PE', 'PH', 'PL', 'PS', 'PT', 'PY', 'QA', 'RO', 'RS', 'RU', 'SA', 'SE', 'SG', 'SI', 'SK', 'SV', 'TH', 'TN', 'TR', 'TW', 'UA', 'US', 'UY', 'VN', 'XK', 'ZA'], 'external_urls': {'spotify': 'https://open.spotify.com/album/14EzA7MWoKYPjzjeT4gtj3'}, 'href': 'https://api.spotify.com/v1/albums/14EzA7MWoKYPjzjeT4gtj3', 'id': '14EzA7MWoKYPjzjeT4gtj3', 'images': [{'height': 640, 'url': 'https://i.scdn.co/image/ab67616d0000b27363d3d88060ff940456b89719', 'width': 640}, {'height': 300, 'url': 'https://i.scdn.co/image/ab67616d00001e0263d3d88060ff940456b89719', 'width': 300}, {'height': 64, 'url': 'https://i.scdn.co/image/ab67616d0000485163d3d88060ff940456b89719', 'width': 64}], 'name': 'The Light Pack', 'release_date': '2020-07-17', 'release_date_precision': 'day', 'total_tracks': 3, 'type': 'album', 'uri': 'spotify:album:14EzA7MWoKYPjzjeT4gtj3'}, {'album_type': 'album', 'artists': [{'external_urls': {'spotify': 'https://open.spotify.com/artist/78SHxLdtysAXgywQ4vE0Oa'}, 'href': 'https://api.spotify.com/v1/artists/78SHxLdtysAXgywQ4vE0Oa', 'id': '78SHxLdtysAXgywQ4vE0Oa', 'name': 'Bush', 'type': 'artist', 'uri': 'spotify:artist:78SHxLdtysAXgywQ4vE0Oa'}], 'available_markets': ['AD', 'AE', 'AL', 'AR', 'AT', 'AU', 'BA', 'BE', 'BG', 'BH', 'BO', 'BR', 'BY', 'CA', 'CH', 'CL', 'CO', 'CR', 'CY', 'CZ', 'DE', 'DK', 'DO', 'DZ', 'EC', 'EE', 'EG', 'ES', 'FI', 'FR', 'GB', 'GR', 'GT', 'HK', 'HN', 'HR', 'HU', 'ID', 'IE', 'IL', 'IS', 'IT', 'JO', 'JP', 'KW', 'KZ', 'LB', 'LI', 'LT', 'LU', 'LV', 'MA', 'MC', 'MD', 'ME', 'MK', 'MT', 'MX', 'MY', 'NI', 'NL', 'NO', 'NZ', 'OM', 'PA', 'PE', 'PH', 'PL', 'PS', 'PT', 'PY', 'QA', 'RO', 'RS', 'RU', 'SA', 'SE', 'SG', 'SI', 'SK', 'SV', 'TH', 'TN', 'TR', 'TW', 'UA', 'US', 'UY', 'VN', 'XK', 'ZA'], 'external_urls': {'spotify': 'https://open.spotify.com/album/1IduB3mfHISAtpV1zQHpef'}, 'href': 'https://api.spotify.com/v1/albums/1IduB3mfHISAtpV1zQHpef', 'id': '1IduB3mfHISAtpV1zQHpef', 'images': [{'height': 640, 'url': 'https://i.scdn.co/image/ab67616d0000b273000dc224c449d83b0679f6a2', 'width': 640}, {'height': 300, 'url': 'https://i.scdn.co/image/ab67616d00001e02000dc224c449d83b0679f6a2', 'width': 300}, {'height': 64, 'url': 'https://i.scdn.co/image/ab67616d00004851000dc224c449d83b0679f6a2', 'width': 64}], 'name': 'The Kingdom', 'release_date': '2020-07-17', 'release_date_precision': 'day', 'total_tracks': 12, 'type': 'album', 'uri': 'spotify:album:1IduB3mfHISAtpV1zQHpef'}], 'limit': 20, 'next': 'https://api.spotify.com/v1/browse/new-releases?offset=20&limit=20', 'offset': 0, 'previous': None, 'total': 100}}\n"
     ]
    }
   ],
   "source": [
    "# Testing\n",
    "print(new_releases)"
   ]
  },
  {
   "cell_type": "markdown",
   "metadata": {},
   "source": [
    "#### 1.c.\n",
    "\n",
    "Define a new **list** variable `albums` and assign the list of albums in new_releases as pointed to by the key `items`. Note that this item is embedded so you need to know how to access it accordingly.\n",
    "\n",
    "Dump the contents of `albums` via script mode.\n"
   ]
  },
  {
   "cell_type": "code",
   "execution_count": 11,
   "metadata": {},
   "outputs": [
    {
     "name": "stdout",
     "output_type": "stream",
     "text": [
      "[{'album_type': 'single', 'artists': [{'external_urls': {'spotify': 'https://open.spotify.com/artist/0QHgL1lAIqAw0HtD7YldmP'}, 'href': 'https://api.spotify.com/v1/artists/0QHgL1lAIqAw0HtD7YldmP', 'id': '0QHgL1lAIqAw0HtD7YldmP', 'name': 'DJ Khaled', 'type': 'artist', 'uri': 'spotify:artist:0QHgL1lAIqAw0HtD7YldmP'}, {'external_urls': {'spotify': 'https://open.spotify.com/artist/3TVXtAsR1Inumwj472S9r4'}, 'href': 'https://api.spotify.com/v1/artists/3TVXtAsR1Inumwj472S9r4', 'id': '3TVXtAsR1Inumwj472S9r4', 'name': 'Drake', 'type': 'artist', 'uri': 'spotify:artist:3TVXtAsR1Inumwj472S9r4'}], 'available_markets': ['AD', 'AE', 'AL', 'AR', 'AT', 'AU', 'BA', 'BE', 'BG', 'BH', 'BO', 'BR', 'BY', 'CA', 'CH', 'CL', 'CO', 'CR', 'CY', 'CZ', 'DE', 'DK', 'DO', 'DZ', 'EC', 'EE', 'EG', 'ES', 'FI', 'FR', 'GB', 'GR', 'GT', 'HK', 'HN', 'HR', 'HU', 'ID', 'IE', 'IL', 'IN', 'IS', 'IT', 'JO', 'JP', 'KW', 'KZ', 'LB', 'LI', 'LT', 'LU', 'LV', 'MA', 'MC', 'MD', 'ME', 'MK', 'MT', 'MX', 'MY', 'NI', 'NL', 'NO', 'NZ', 'OM', 'PA', 'PE', 'PH', 'PL', 'PS', 'PT', 'PY', 'QA', 'RO', 'RS', 'RU', 'SA', 'SE', 'SG', 'SI', 'SK', 'SV', 'TH', 'TN', 'TR', 'TW', 'UA', 'US', 'UY', 'VN', 'XK', 'ZA'], 'external_urls': {'spotify': 'https://open.spotify.com/album/5nNtpPsSUgb9Hlb3dF1gXa'}, 'href': 'https://api.spotify.com/v1/albums/5nNtpPsSUgb9Hlb3dF1gXa', 'id': '5nNtpPsSUgb9Hlb3dF1gXa', 'images': [{'height': 640, 'url': 'https://i.scdn.co/image/ab67616d0000b273efaecb4b9cbae7c120d14617', 'width': 640}, {'height': 300, 'url': 'https://i.scdn.co/image/ab67616d00001e02efaecb4b9cbae7c120d14617', 'width': 300}, {'height': 64, 'url': 'https://i.scdn.co/image/ab67616d00004851efaecb4b9cbae7c120d14617', 'width': 64}], 'name': 'POPSTAR (feat. Drake)', 'release_date': '2020-07-17', 'release_date_precision': 'day', 'total_tracks': 1, 'type': 'album', 'uri': 'spotify:album:5nNtpPsSUgb9Hlb3dF1gXa'}, {'album_type': 'album', 'artists': [{'external_urls': {'spotify': 'https://open.spotify.com/artist/0X2BH1fck6amBIoJhDVmmJ'}, 'href': 'https://api.spotify.com/v1/artists/0X2BH1fck6amBIoJhDVmmJ', 'id': '0X2BH1fck6amBIoJhDVmmJ', 'name': 'Ellie Goulding', 'type': 'artist', 'uri': 'spotify:artist:0X2BH1fck6amBIoJhDVmmJ'}], 'available_markets': ['AD', 'AE', 'AL', 'AR', 'AT', 'AU', 'BA', 'BE', 'BG', 'BH', 'BO', 'BR', 'BY', 'CA', 'CH', 'CL', 'CO', 'CR', 'CY', 'CZ', 'DE', 'DK', 'DO', 'DZ', 'EC', 'EE', 'EG', 'ES', 'FI', 'FR', 'GB', 'GR', 'GT', 'HK', 'HN', 'HR', 'HU', 'ID', 'IE', 'IL', 'IN', 'IS', 'IT', 'JO', 'JP', 'KW', 'KZ', 'LB', 'LI', 'LT', 'LU', 'LV', 'MA', 'MC', 'MD', 'ME', 'MK', 'MT', 'MX', 'MY', 'NI', 'NL', 'NO', 'NZ', 'OM', 'PA', 'PE', 'PH', 'PL', 'PS', 'PT', 'PY', 'QA', 'RO', 'RS', 'RU', 'SA', 'SE', 'SG', 'SI', 'SK', 'SV', 'TH', 'TN', 'TR', 'TW', 'UA', 'US', 'UY', 'VN', 'XK', 'ZA'], 'external_urls': {'spotify': 'https://open.spotify.com/album/7hCfgsycCFH4bBjEfUwh3S'}, 'href': 'https://api.spotify.com/v1/albums/7hCfgsycCFH4bBjEfUwh3S', 'id': '7hCfgsycCFH4bBjEfUwh3S', 'images': [{'height': 640, 'url': 'https://i.scdn.co/image/ab67616d0000b2735f76dbd311a0782823550b30', 'width': 640}, {'height': 300, 'url': 'https://i.scdn.co/image/ab67616d00001e025f76dbd311a0782823550b30', 'width': 300}, {'height': 64, 'url': 'https://i.scdn.co/image/ab67616d000048515f76dbd311a0782823550b30', 'width': 64}], 'name': 'Brightest Blue', 'release_date': '2020-07-17', 'release_date_precision': 'day', 'total_tracks': 18, 'type': 'album', 'uri': 'spotify:album:7hCfgsycCFH4bBjEfUwh3S'}, {'album_type': 'single', 'artists': [{'external_urls': {'spotify': 'https://open.spotify.com/artist/6jlWj6y00bMQt8XoKuCjyZ'}, 'href': 'https://api.spotify.com/v1/artists/6jlWj6y00bMQt8XoKuCjyZ', 'id': '6jlWj6y00bMQt8XoKuCjyZ', 'name': 'Emily King', 'type': 'artist', 'uri': 'spotify:artist:6jlWj6y00bMQt8XoKuCjyZ'}], 'available_markets': ['AE', 'BH', 'CY', 'EG', 'HK', 'ID', 'IL', 'IN', 'JO', 'KW', 'KZ', 'LB', 'MY', 'OM', 'PH', 'PS', 'QA', 'SA', 'SG', 'TH', 'TR', 'TW', 'VN', 'ZA', 'DZ', 'MA', 'TN', 'AR', 'BR', 'UY', 'BO', 'CL', 'DO', 'PY', 'CO', 'EC', 'MX', 'PA', 'PE', 'CR', 'GT', 'HN', 'NI', 'SV'], 'external_urls': {'spotify': 'https://open.spotify.com/album/7jdh1K9Sl0dPElH6Ecb3Xs'}, 'href': 'https://api.spotify.com/v1/albums/7jdh1K9Sl0dPElH6Ecb3Xs', 'id': '7jdh1K9Sl0dPElH6Ecb3Xs', 'images': [{'height': 640, 'url': 'https://i.scdn.co/image/ab67616d0000b273b45a0de85b5bb6cdbcb7247e', 'width': 640}, {'height': 300, 'url': 'https://i.scdn.co/image/ab67616d00001e02b45a0de85b5bb6cdbcb7247e', 'width': 300}, {'height': 64, 'url': 'https://i.scdn.co/image/ab67616d00004851b45a0de85b5bb6cdbcb7247e', 'width': 64}], 'name': 'Spotify Singles', 'release_date': '2020-07-22', 'release_date_precision': 'day', 'total_tracks': 2, 'type': 'album', 'uri': 'spotify:album:7jdh1K9Sl0dPElH6Ecb3Xs'}, {'album_type': 'album', 'artists': [{'external_urls': {'spotify': 'https://open.spotify.com/artist/25IG9fa7cbdmCIy3OnuH57'}, 'href': 'https://api.spotify.com/v1/artists/25IG9fa7cbdmCIy3OnuH57', 'id': '25IG9fa7cbdmCIy3OnuH57', 'name': 'The Chicks', 'type': 'artist', 'uri': 'spotify:artist:25IG9fa7cbdmCIy3OnuH57'}], 'available_markets': ['AD', 'AE', 'AL', 'AR', 'AT', 'AU', 'BA', 'BE', 'BG', 'BH', 'BO', 'BR', 'BY', 'CA', 'CH', 'CL', 'CO', 'CR', 'CY', 'CZ', 'DE', 'DK', 'DO', 'DZ', 'EC', 'EE', 'EG', 'ES', 'FI', 'FR', 'GB', 'GR', 'GT', 'HK', 'HN', 'HR', 'HU', 'ID', 'IE', 'IL', 'IN', 'IS', 'IT', 'JO', 'JP', 'KW', 'KZ', 'LB', 'LI', 'LT', 'LU', 'LV', 'MA', 'MC', 'MD', 'ME', 'MK', 'MT', 'MX', 'MY', 'NI', 'NL', 'NO', 'NZ', 'OM', 'PA', 'PE', 'PH', 'PL', 'PS', 'PT', 'PY', 'QA', 'RO', 'RS', 'RU', 'SA', 'SE', 'SG', 'SI', 'SK', 'SV', 'TH', 'TN', 'TR', 'TW', 'UA', 'US', 'UY', 'VN', 'XK', 'ZA'], 'external_urls': {'spotify': 'https://open.spotify.com/album/1YV5Rh6n8dLOycCqWcUSq4'}, 'href': 'https://api.spotify.com/v1/albums/1YV5Rh6n8dLOycCqWcUSq4', 'id': '1YV5Rh6n8dLOycCqWcUSq4', 'images': [{'height': 640, 'url': 'https://i.scdn.co/image/ab67616d0000b273d3836964e3eb4ee83eaca288', 'width': 640}, {'height': 300, 'url': 'https://i.scdn.co/image/ab67616d00001e02d3836964e3eb4ee83eaca288', 'width': 300}, {'height': 64, 'url': 'https://i.scdn.co/image/ab67616d00004851d3836964e3eb4ee83eaca288', 'width': 64}], 'name': 'Gaslighter', 'release_date': '2020-07-17', 'release_date_precision': 'day', 'total_tracks': 12, 'type': 'album', 'uri': 'spotify:album:1YV5Rh6n8dLOycCqWcUSq4'}, {'album_type': 'single', 'artists': [{'external_urls': {'spotify': 'https://open.spotify.com/artist/2eqoJbzUGDwys5ENUkbT3h'}, 'href': 'https://api.spotify.com/v1/artists/2eqoJbzUGDwys5ENUkbT3h', 'id': '2eqoJbzUGDwys5ENUkbT3h', 'name': 'J.I the Prince of N.Y', 'type': 'artist', 'uri': 'spotify:artist:2eqoJbzUGDwys5ENUkbT3h'}], 'available_markets': ['AD', 'AE', 'AL', 'AR', 'AT', 'AU', 'BA', 'BE', 'BG', 'BH', 'BO', 'BR', 'BY', 'CA', 'CH', 'CL', 'CO', 'CR', 'CY', 'CZ', 'DE', 'DK', 'DO', 'DZ', 'EC', 'EE', 'EG', 'ES', 'FI', 'FR', 'GB', 'GR', 'GT', 'HK', 'HN', 'HR', 'HU', 'ID', 'IE', 'IL', 'IN', 'IS', 'IT', 'JO', 'JP', 'KW', 'KZ', 'LB', 'LI', 'LT', 'LU', 'LV', 'MA', 'MC', 'MD', 'ME', 'MK', 'MT', 'MX', 'MY', 'NI', 'NL', 'NO', 'NZ', 'OM', 'PA', 'PE', 'PH', 'PL', 'PS', 'PT', 'PY', 'QA', 'RO', 'RS', 'RU', 'SA', 'SE', 'SG', 'SI', 'SK', 'SV', 'TH', 'TN', 'TR', 'TW', 'UA', 'US', 'UY', 'VN', 'XK', 'ZA'], 'external_urls': {'spotify': 'https://open.spotify.com/album/3EImpNqOe0VteNjthjChQz'}, 'href': 'https://api.spotify.com/v1/albums/3EImpNqOe0VteNjthjChQz', 'id': '3EImpNqOe0VteNjthjChQz', 'images': [{'height': 640, 'url': 'https://i.scdn.co/image/ab67616d0000b27325f943de09d072d0408617e4', 'width': 640}, {'height': 300, 'url': 'https://i.scdn.co/image/ab67616d00001e0225f943de09d072d0408617e4', 'width': 300}, {'height': 64, 'url': 'https://i.scdn.co/image/ab67616d0000485125f943de09d072d0408617e4', 'width': 64}], 'name': 'Welcome to GStarr Vol. 1 EP', 'release_date': '2020-07-17', 'release_date_precision': 'day', 'total_tracks': 6, 'type': 'album', 'uri': 'spotify:album:3EImpNqOe0VteNjthjChQz'}, {'album_type': 'single', 'artists': [{'external_urls': {'spotify': 'https://open.spotify.com/artist/2qxJFvFYMEDqd7ui6kSAcq'}, 'href': 'https://api.spotify.com/v1/artists/2qxJFvFYMEDqd7ui6kSAcq', 'id': '2qxJFvFYMEDqd7ui6kSAcq', 'name': 'Zedd', 'type': 'artist', 'uri': 'spotify:artist:2qxJFvFYMEDqd7ui6kSAcq'}, {'external_urls': {'spotify': 'https://open.spotify.com/artist/2TL8gYTNgD6nXkyuUdDrMg'}, 'href': 'https://api.spotify.com/v1/artists/2TL8gYTNgD6nXkyuUdDrMg', 'id': '2TL8gYTNgD6nXkyuUdDrMg', 'name': 'Jasmine Thompson', 'type': 'artist', 'uri': 'spotify:artist:2TL8gYTNgD6nXkyuUdDrMg'}], 'available_markets': ['AD', 'AE', 'AL', 'AR', 'AT', 'AU', 'BA', 'BE', 'BG', 'BH', 'BO', 'BR', 'BY', 'CA', 'CH', 'CL', 'CO', 'CR', 'CY', 'CZ', 'DE', 'DK', 'DO', 'DZ', 'EC', 'EE', 'EG', 'ES', 'FI', 'FR', 'GB', 'GR', 'GT', 'HK', 'HN', 'HR', 'HU', 'ID', 'IE', 'IL', 'IN', 'IS', 'IT', 'JO', 'JP', 'KW', 'KZ', 'LB', 'LI', 'LT', 'LU', 'LV', 'MA', 'MC', 'MD', 'ME', 'MK', 'MT', 'MX', 'MY', 'NI', 'NL', 'NO', 'NZ', 'OM', 'PA', 'PE', 'PH', 'PL', 'PS', 'PT', 'PY', 'QA', 'RO', 'RS', 'RU', 'SA', 'SE', 'SG', 'SI', 'SK', 'SV', 'TH', 'TN', 'TR', 'TW', 'UA', 'US', 'UY', 'VN', 'XK', 'ZA'], 'external_urls': {'spotify': 'https://open.spotify.com/album/5Q8Uyc3KUlPhPtMQDY5SWm'}, 'href': 'https://api.spotify.com/v1/albums/5Q8Uyc3KUlPhPtMQDY5SWm', 'id': '5Q8Uyc3KUlPhPtMQDY5SWm', 'images': [{'height': 640, 'url': 'https://i.scdn.co/image/ab67616d0000b2738046020d2ba421ea91423419', 'width': 640}, {'height': 300, 'url': 'https://i.scdn.co/image/ab67616d00001e028046020d2ba421ea91423419', 'width': 300}, {'height': 64, 'url': 'https://i.scdn.co/image/ab67616d000048518046020d2ba421ea91423419', 'width': 64}], 'name': 'Funny', 'release_date': '2020-07-16', 'release_date_precision': 'day', 'total_tracks': 1, 'type': 'album', 'uri': 'spotify:album:5Q8Uyc3KUlPhPtMQDY5SWm'}, {'album_type': 'single', 'artists': [{'external_urls': {'spotify': 'https://open.spotify.com/artist/3WGpXCj9YhhfX11TToZcXP'}, 'href': 'https://api.spotify.com/v1/artists/3WGpXCj9YhhfX11TToZcXP', 'id': '3WGpXCj9YhhfX11TToZcXP', 'name': 'Troye Sivan', 'type': 'artist', 'uri': 'spotify:artist:3WGpXCj9YhhfX11TToZcXP'}], 'available_markets': ['AD', 'AE', 'AL', 'AR', 'AT', 'AU', 'BA', 'BE', 'BG', 'BH', 'BO', 'BR', 'BY', 'CA', 'CH', 'CL', 'CO', 'CR', 'CY', 'CZ', 'DE', 'DK', 'DO', 'DZ', 'EC', 'EE', 'EG', 'ES', 'FI', 'FR', 'GB', 'GR', 'GT', 'HK', 'HN', 'HR', 'HU', 'ID', 'IE', 'IL', 'IN', 'IS', 'IT', 'JO', 'JP', 'KW', 'KZ', 'LB', 'LI', 'LT', 'LU', 'LV', 'MA', 'MC', 'MD', 'ME', 'MK', 'MT', 'MX', 'MY', 'NI', 'NL', 'NO', 'NZ', 'OM', 'PA', 'PE', 'PH', 'PL', 'PS', 'PT', 'PY', 'QA', 'RO', 'RS', 'RU', 'SA', 'SE', 'SG', 'SI', 'SK', 'SV', 'TH', 'TN', 'TR', 'TW', 'UA', 'US', 'UY', 'VN', 'XK', 'ZA'], 'external_urls': {'spotify': 'https://open.spotify.com/album/25bVTJuPSWiiwdxgjJGRUi'}, 'href': 'https://api.spotify.com/v1/albums/25bVTJuPSWiiwdxgjJGRUi', 'id': '25bVTJuPSWiiwdxgjJGRUi', 'images': [{'height': 640, 'url': 'https://i.scdn.co/image/ab67616d0000b273acd22b93c9521a25e0210109', 'width': 640}, {'height': 300, 'url': 'https://i.scdn.co/image/ab67616d00001e02acd22b93c9521a25e0210109', 'width': 300}, {'height': 64, 'url': 'https://i.scdn.co/image/ab67616d00004851acd22b93c9521a25e0210109', 'width': 64}], 'name': 'Easy', 'release_date': '2020-07-15', 'release_date_precision': 'day', 'total_tracks': 2, 'type': 'album', 'uri': 'spotify:album:25bVTJuPSWiiwdxgjJGRUi'}, {'album_type': 'single', 'artists': [{'external_urls': {'spotify': 'https://open.spotify.com/artist/1Cs0zKBU1kc0i8ypK3B9ai'}, 'href': 'https://api.spotify.com/v1/artists/1Cs0zKBU1kc0i8ypK3B9ai', 'id': '1Cs0zKBU1kc0i8ypK3B9ai', 'name': 'David Guetta', 'type': 'artist', 'uri': 'spotify:artist:1Cs0zKBU1kc0i8ypK3B9ai'}, {'external_urls': {'spotify': 'https://open.spotify.com/artist/19HFRWmRCl27kTk6LeqAO8'}, 'href': 'https://api.spotify.com/v1/artists/19HFRWmRCl27kTk6LeqAO8', 'id': '19HFRWmRCl27kTk6LeqAO8', 'name': 'MORTEN', 'type': 'artist', 'uri': 'spotify:artist:19HFRWmRCl27kTk6LeqAO8'}], 'available_markets': ['AD', 'AE', 'AL', 'AR', 'AT', 'AU', 'BA', 'BE', 'BG', 'BH', 'BO', 'BR', 'BY', 'CA', 'CH', 'CL', 'CO', 'CR', 'CY', 'CZ', 'DE', 'DK', 'DO', 'DZ', 'EC', 'EE', 'EG', 'ES', 'FI', 'FR', 'GB', 'GR', 'GT', 'HK', 'HN', 'HR', 'HU', 'ID', 'IE', 'IL', 'IN', 'IS', 'IT', 'JO', 'JP', 'KW', 'KZ', 'LB', 'LI', 'LT', 'LU', 'LV', 'MA', 'MC', 'MD', 'ME', 'MK', 'MT', 'MX', 'MY', 'NI', 'NL', 'NO', 'NZ', 'OM', 'PA', 'PE', 'PH', 'PL', 'PS', 'PT', 'PY', 'QA', 'RO', 'RS', 'RU', 'SA', 'SE', 'SG', 'SI', 'SK', 'SV', 'TH', 'TN', 'TR', 'TW', 'UA', 'US', 'UY', 'VN', 'XK', 'ZA'], 'external_urls': {'spotify': 'https://open.spotify.com/album/0fKU8zzmBjXNAJp5Uo2dml'}, 'href': 'https://api.spotify.com/v1/albums/0fKU8zzmBjXNAJp5Uo2dml', 'id': '0fKU8zzmBjXNAJp5Uo2dml', 'images': [{'height': 640, 'url': 'https://i.scdn.co/image/ab67616d0000b273d036cdc7102e5fd3ac7affe5', 'width': 640}, {'height': 300, 'url': 'https://i.scdn.co/image/ab67616d00001e02d036cdc7102e5fd3ac7affe5', 'width': 300}, {'height': 64, 'url': 'https://i.scdn.co/image/ab67616d00004851d036cdc7102e5fd3ac7affe5', 'width': 64}], 'name': 'New Rave', 'release_date': '2020-07-17', 'release_date_precision': 'day', 'total_tracks': 4, 'type': 'album', 'uri': 'spotify:album:0fKU8zzmBjXNAJp5Uo2dml'}, {'album_type': 'single', 'artists': [{'external_urls': {'spotify': 'https://open.spotify.com/artist/1W7FNibLa0O0b572tB2w7t'}, 'href': 'https://api.spotify.com/v1/artists/1W7FNibLa0O0b572tB2w7t', 'id': '1W7FNibLa0O0b572tB2w7t', 'name': 'Pink Sweat$', 'type': 'artist', 'uri': 'spotify:artist:1W7FNibLa0O0b572tB2w7t'}], 'available_markets': ['AD', 'AE', 'AL', 'AR', 'AT', 'AU', 'BA', 'BE', 'BG', 'BH', 'BO', 'BR', 'BY', 'CA', 'CH', 'CL', 'CO', 'CR', 'CY', 'CZ', 'DE', 'DK', 'DO', 'DZ', 'EC', 'EE', 'EG', 'ES', 'FI', 'FR', 'GB', 'GR', 'GT', 'HK', 'HN', 'HR', 'HU', 'ID', 'IE', 'IL', 'IN', 'IS', 'IT', 'JO', 'JP', 'KW', 'KZ', 'LB', 'LI', 'LT', 'LU', 'LV', 'MA', 'MC', 'MD', 'ME', 'MK', 'MT', 'MX', 'MY', 'NI', 'NL', 'NO', 'NZ', 'OM', 'PA', 'PE', 'PH', 'PL', 'PS', 'PT', 'PY', 'QA', 'RO', 'RS', 'RU', 'SA', 'SE', 'SG', 'SI', 'SK', 'SV', 'TH', 'TN', 'TR', 'TW', 'UA', 'US', 'UY', 'VN', 'XK', 'ZA'], 'external_urls': {'spotify': 'https://open.spotify.com/album/3Qj2vsFzmaB8jcH6Q60WIG'}, 'href': 'https://api.spotify.com/v1/albums/3Qj2vsFzmaB8jcH6Q60WIG', 'id': '3Qj2vsFzmaB8jcH6Q60WIG', 'images': [{'height': 640, 'url': 'https://i.scdn.co/image/ab67616d0000b273e99f7b031daf4e3bc1c275e5', 'width': 640}, {'height': 300, 'url': 'https://i.scdn.co/image/ab67616d00001e02e99f7b031daf4e3bc1c275e5', 'width': 300}, {'height': 64, 'url': 'https://i.scdn.co/image/ab67616d00004851e99f7b031daf4e3bc1c275e5', 'width': 64}], 'name': 'The Prelude', 'release_date': '2020-07-17', 'release_date_precision': 'day', 'total_tracks': 6, 'type': 'album', 'uri': 'spotify:album:3Qj2vsFzmaB8jcH6Q60WIG'}, {'album_type': 'single', 'artists': [{'external_urls': {'spotify': 'https://open.spotify.com/artist/35l9BRT7MXmM8bv2WDQiyB'}, 'href': 'https://api.spotify.com/v1/artists/35l9BRT7MXmM8bv2WDQiyB', 'id': '35l9BRT7MXmM8bv2WDQiyB', 'name': 'beabadoobee', 'type': 'artist', 'uri': 'spotify:artist:35l9BRT7MXmM8bv2WDQiyB'}], 'available_markets': ['AD', 'AE', 'AL', 'AR', 'AT', 'AU', 'BA', 'BE', 'BG', 'BH', 'BO', 'BR', 'BY', 'CA', 'CH', 'CL', 'CO', 'CR', 'CY', 'CZ', 'DE', 'DK', 'DO', 'DZ', 'EC', 'EE', 'EG', 'ES', 'FI', 'FR', 'GB', 'GR', 'GT', 'HK', 'HN', 'HR', 'HU', 'ID', 'IE', 'IL', 'IN', 'IS', 'IT', 'JO', 'JP', 'KW', 'KZ', 'LB', 'LI', 'LT', 'LU', 'LV', 'MA', 'MC', 'MD', 'ME', 'MK', 'MT', 'MX', 'MY', 'NI', 'NL', 'NO', 'NZ', 'OM', 'PA', 'PE', 'PH', 'PL', 'PS', 'PT', 'PY', 'QA', 'RO', 'RS', 'RU', 'SA', 'SE', 'SG', 'SI', 'SK', 'SV', 'TH', 'TN', 'TR', 'TW', 'UA', 'US', 'UY', 'VN', 'XK', 'ZA'], 'external_urls': {'spotify': 'https://open.spotify.com/album/51fkPPsTPpZdFEGr3o5dCt'}, 'href': 'https://api.spotify.com/v1/albums/51fkPPsTPpZdFEGr3o5dCt', 'id': '51fkPPsTPpZdFEGr3o5dCt', 'images': [{'height': 640, 'url': 'https://i.scdn.co/image/ab67616d0000b273b694c6e4dd1f247401d758a8', 'width': 640}, {'height': 300, 'url': 'https://i.scdn.co/image/ab67616d00001e02b694c6e4dd1f247401d758a8', 'width': 300}, {'height': 64, 'url': 'https://i.scdn.co/image/ab67616d00004851b694c6e4dd1f247401d758a8', 'width': 64}], 'name': 'Care', 'release_date': '2020-07-15', 'release_date_precision': 'day', 'total_tracks': 1, 'type': 'album', 'uri': 'spotify:album:51fkPPsTPpZdFEGr3o5dCt'}, {'album_type': 'album', 'artists': [{'external_urls': {'spotify': 'https://open.spotify.com/artist/1XLWox9w1Yvbodui0SRhUQ'}, 'href': 'https://api.spotify.com/v1/artists/1XLWox9w1Yvbodui0SRhUQ', 'id': '1XLWox9w1Yvbodui0SRhUQ', 'name': 'StaySolidRocky', 'type': 'artist', 'uri': 'spotify:artist:1XLWox9w1Yvbodui0SRhUQ'}], 'available_markets': ['AD', 'AE', 'AL', 'AR', 'AT', 'AU', 'BA', 'BE', 'BG', 'BH', 'BO', 'BR', 'BY', 'CA', 'CH', 'CL', 'CO', 'CR', 'CY', 'CZ', 'DE', 'DK', 'DO', 'DZ', 'EC', 'EE', 'EG', 'ES', 'FI', 'FR', 'GB', 'GR', 'GT', 'HK', 'HN', 'HR', 'HU', 'ID', 'IE', 'IL', 'IN', 'IS', 'IT', 'JO', 'JP', 'KW', 'KZ', 'LB', 'LI', 'LT', 'LU', 'LV', 'MA', 'MC', 'MD', 'ME', 'MK', 'MT', 'MX', 'MY', 'NI', 'NL', 'NO', 'NZ', 'OM', 'PA', 'PE', 'PH', 'PL', 'PS', 'PT', 'PY', 'QA', 'RO', 'RS', 'RU', 'SA', 'SE', 'SG', 'SI', 'SK', 'SV', 'TH', 'TN', 'TR', 'TW', 'UA', 'US', 'UY', 'VN', 'XK', 'ZA'], 'external_urls': {'spotify': 'https://open.spotify.com/album/4ZZOKHnGnpvVKHkwexxhPL'}, 'href': 'https://api.spotify.com/v1/albums/4ZZOKHnGnpvVKHkwexxhPL', 'id': '4ZZOKHnGnpvVKHkwexxhPL', 'images': [{'height': 640, 'url': 'https://i.scdn.co/image/ab67616d0000b27373debb36ac6edd90c7f4c6a8', 'width': 640}, {'height': 300, 'url': 'https://i.scdn.co/image/ab67616d00001e0273debb36ac6edd90c7f4c6a8', 'width': 300}, {'height': 64, 'url': 'https://i.scdn.co/image/ab67616d0000485173debb36ac6edd90c7f4c6a8', 'width': 64}], 'name': \"Fallin'\", 'release_date': '2020-07-17', 'release_date_precision': 'day', 'total_tracks': 7, 'type': 'album', 'uri': 'spotify:album:4ZZOKHnGnpvVKHkwexxhPL'}, {'album_type': 'album', 'artists': [{'external_urls': {'spotify': 'https://open.spotify.com/artist/2wUjUUtkb5lvLKcGKsKqsR'}, 'href': 'https://api.spotify.com/v1/artists/2wUjUUtkb5lvLKcGKsKqsR', 'id': '2wUjUUtkb5lvLKcGKsKqsR', 'name': 'Alessia Cara', 'type': 'artist', 'uri': 'spotify:artist:2wUjUUtkb5lvLKcGKsKqsR'}], 'available_markets': ['AD', 'AE', 'AL', 'AR', 'AT', 'AU', 'BA', 'BE', 'BG', 'BH', 'BO', 'BR', 'BY', 'CA', 'CH', 'CL', 'CO', 'CR', 'CY', 'CZ', 'DE', 'DK', 'DO', 'DZ', 'EC', 'EE', 'EG', 'ES', 'FI', 'FR', 'GB', 'GR', 'GT', 'HK', 'HN', 'HR', 'HU', 'ID', 'IE', 'IL', 'IN', 'IS', 'IT', 'JO', 'JP', 'KW', 'KZ', 'LB', 'LI', 'LT', 'LU', 'LV', 'MA', 'MC', 'MD', 'ME', 'MK', 'MT', 'MX', 'MY', 'NI', 'NL', 'NO', 'NZ', 'OM', 'PA', 'PE', 'PH', 'PL', 'PS', 'PT', 'PY', 'QA', 'RO', 'RS', 'RU', 'SA', 'SE', 'SG', 'SI', 'SK', 'SV', 'TH', 'TN', 'TR', 'TW', 'UA', 'US', 'UY', 'VN', 'XK', 'ZA'], 'external_urls': {'spotify': 'https://open.spotify.com/album/5f4wj5QGE753r1IcZbiKS3'}, 'href': 'https://api.spotify.com/v1/albums/5f4wj5QGE753r1IcZbiKS3', 'id': '5f4wj5QGE753r1IcZbiKS3', 'images': [{'height': 640, 'url': 'https://i.scdn.co/image/ab67616d0000b27385c7af5b879dc405b14856f3', 'width': 640}, {'height': 300, 'url': 'https://i.scdn.co/image/ab67616d00001e0285c7af5b879dc405b14856f3', 'width': 300}, {'height': 64, 'url': 'https://i.scdn.co/image/ab67616d0000485185c7af5b879dc405b14856f3', 'width': 64}], 'name': 'This Summer: Live Off The Floor', 'release_date': '2020-07-17', 'release_date_precision': 'day', 'total_tracks': 10, 'type': 'album', 'uri': 'spotify:album:5f4wj5QGE753r1IcZbiKS3'}, {'album_type': 'album', 'artists': [{'external_urls': {'spotify': 'https://open.spotify.com/artist/2RP4pPHTXlQpDnO9LvR7Yt'}, 'href': 'https://api.spotify.com/v1/artists/2RP4pPHTXlQpDnO9LvR7Yt', 'id': '2RP4pPHTXlQpDnO9LvR7Yt', 'name': 'Lianne La Havas', 'type': 'artist', 'uri': 'spotify:artist:2RP4pPHTXlQpDnO9LvR7Yt'}], 'available_markets': ['AD', 'AE', 'AL', 'AR', 'AT', 'AU', 'BA', 'BE', 'BG', 'BH', 'BO', 'BR', 'BY', 'CA', 'CH', 'CL', 'CO', 'CR', 'CY', 'CZ', 'DE', 'DK', 'DO', 'DZ', 'EC', 'EE', 'EG', 'ES', 'FI', 'FR', 'GB', 'GR', 'GT', 'HK', 'HN', 'HR', 'HU', 'ID', 'IE', 'IL', 'IN', 'IS', 'IT', 'JO', 'JP', 'KW', 'KZ', 'LB', 'LI', 'LT', 'LU', 'LV', 'MA', 'MC', 'MD', 'ME', 'MK', 'MT', 'MX', 'MY', 'NI', 'NL', 'NO', 'NZ', 'OM', 'PA', 'PE', 'PH', 'PL', 'PS', 'PT', 'PY', 'QA', 'RO', 'RS', 'RU', 'SA', 'SE', 'SG', 'SI', 'SK', 'SV', 'TH', 'TN', 'TR', 'TW', 'UA', 'US', 'UY', 'VN', 'XK', 'ZA'], 'external_urls': {'spotify': 'https://open.spotify.com/album/6JwtB0zzNYy4qANDrJtrJy'}, 'href': 'https://api.spotify.com/v1/albums/6JwtB0zzNYy4qANDrJtrJy', 'id': '6JwtB0zzNYy4qANDrJtrJy', 'images': [{'height': 640, 'url': 'https://i.scdn.co/image/ab67616d0000b273e4e22468cc1f1e4b9b9a9acc', 'width': 640}, {'height': 300, 'url': 'https://i.scdn.co/image/ab67616d00001e02e4e22468cc1f1e4b9b9a9acc', 'width': 300}, {'height': 64, 'url': 'https://i.scdn.co/image/ab67616d00004851e4e22468cc1f1e4b9b9a9acc', 'width': 64}], 'name': 'Lianne La Havas', 'release_date': '2020-07-17', 'release_date_precision': 'day', 'total_tracks': 12, 'type': 'album', 'uri': 'spotify:album:6JwtB0zzNYy4qANDrJtrJy'}, {'album_type': 'single', 'artists': [{'external_urls': {'spotify': 'https://open.spotify.com/artist/23fqKkggKUBHNkbKtXEls4'}, 'href': 'https://api.spotify.com/v1/artists/23fqKkggKUBHNkbKtXEls4', 'id': '23fqKkggKUBHNkbKtXEls4', 'name': 'Kygo', 'type': 'artist', 'uri': 'spotify:artist:23fqKkggKUBHNkbKtXEls4'}, {'external_urls': {'spotify': 'https://open.spotify.com/artist/1zuJe6b1roixEKMOtyrEak'}, 'href': 'https://api.spotify.com/v1/artists/1zuJe6b1roixEKMOtyrEak', 'id': '1zuJe6b1roixEKMOtyrEak', 'name': 'Tina Turner', 'type': 'artist', 'uri': 'spotify:artist:1zuJe6b1roixEKMOtyrEak'}], 'available_markets': ['AD', 'AE', 'AL', 'AR', 'AT', 'AU', 'BA', 'BE', 'BG', 'BH', 'BO', 'BR', 'BY', 'CA', 'CH', 'CL', 'CO', 'CR', 'CY', 'CZ', 'DE', 'DK', 'DO', 'DZ', 'EC', 'EE', 'EG', 'ES', 'FI', 'FR', 'GB', 'GR', 'GT', 'HK', 'HN', 'HR', 'HU', 'ID', 'IE', 'IL', 'IN', 'IS', 'IT', 'JO', 'JP', 'KW', 'KZ', 'LB', 'LI', 'LT', 'LU', 'LV', 'MA', 'MC', 'MD', 'ME', 'MK', 'MT', 'MX', 'MY', 'NI', 'NL', 'NO', 'NZ', 'OM', 'PA', 'PE', 'PH', 'PL', 'PS', 'PT', 'PY', 'QA', 'RO', 'RS', 'RU', 'SA', 'SE', 'SG', 'SI', 'SK', 'SV', 'TH', 'TN', 'TR', 'TW', 'UA', 'US', 'UY', 'VN', 'XK', 'ZA'], 'external_urls': {'spotify': 'https://open.spotify.com/album/1JFKchcdu3ewuhA5PIHWno'}, 'href': 'https://api.spotify.com/v1/albums/1JFKchcdu3ewuhA5PIHWno', 'id': '1JFKchcdu3ewuhA5PIHWno', 'images': [{'height': 640, 'url': 'https://i.scdn.co/image/ab67616d0000b273f0b43fee481f279a186dff20', 'width': 640}, {'height': 300, 'url': 'https://i.scdn.co/image/ab67616d00001e02f0b43fee481f279a186dff20', 'width': 300}, {'height': 64, 'url': 'https://i.scdn.co/image/ab67616d00004851f0b43fee481f279a186dff20', 'width': 64}], 'name': \"What's Love Got to Do with It\", 'release_date': '2020-07-17', 'release_date_precision': 'day', 'total_tracks': 1, 'type': 'album', 'uri': 'spotify:album:1JFKchcdu3ewuhA5PIHWno'}, {'album_type': 'album', 'artists': [{'external_urls': {'spotify': 'https://open.spotify.com/artist/00XhexlJEXQstHimpZN910'}, 'href': 'https://api.spotify.com/v1/artists/00XhexlJEXQstHimpZN910', 'id': '00XhexlJEXQstHimpZN910', 'name': 'Brytiago', 'type': 'artist', 'uri': 'spotify:artist:00XhexlJEXQstHimpZN910'}], 'available_markets': ['AD', 'AE', 'AL', 'AR', 'AT', 'AU', 'BA', 'BE', 'BG', 'BH', 'BO', 'BR', 'BY', 'CA', 'CH', 'CL', 'CO', 'CR', 'CY', 'CZ', 'DE', 'DK', 'DO', 'DZ', 'EC', 'EE', 'EG', 'ES', 'FI', 'FR', 'GB', 'GR', 'GT', 'HK', 'HN', 'HR', 'HU', 'ID', 'IE', 'IL', 'IN', 'IS', 'IT', 'JO', 'JP', 'KW', 'KZ', 'LB', 'LI', 'LT', 'LU', 'LV', 'MA', 'MC', 'MD', 'ME', 'MK', 'MT', 'MX', 'MY', 'NI', 'NL', 'NO', 'NZ', 'OM', 'PA', 'PE', 'PH', 'PL', 'PS', 'PT', 'PY', 'QA', 'RO', 'RS', 'RU', 'SA', 'SE', 'SG', 'SI', 'SK', 'SV', 'TH', 'TN', 'TR', 'TW', 'UA', 'US', 'UY', 'VN', 'XK', 'ZA'], 'external_urls': {'spotify': 'https://open.spotify.com/album/4sAj704PbYTvBF2fFa88a1'}, 'href': 'https://api.spotify.com/v1/albums/4sAj704PbYTvBF2fFa88a1', 'id': '4sAj704PbYTvBF2fFa88a1', 'images': [{'height': 640, 'url': 'https://i.scdn.co/image/ab67616d0000b2735faa613b419bdd41a4d82f44', 'width': 640}, {'height': 300, 'url': 'https://i.scdn.co/image/ab67616d00001e025faa613b419bdd41a4d82f44', 'width': 300}, {'height': 64, 'url': 'https://i.scdn.co/image/ab67616d000048515faa613b419bdd41a4d82f44', 'width': 64}], 'name': 'Orgánico', 'release_date': '2020-07-17', 'release_date_precision': 'day', 'total_tracks': 16, 'type': 'album', 'uri': 'spotify:album:4sAj704PbYTvBF2fFa88a1'}, {'album_type': 'album', 'artists': [{'external_urls': {'spotify': 'https://open.spotify.com/artist/6TLwD7HPWuiOzvXEa3oCNe'}, 'href': 'https://api.spotify.com/v1/artists/6TLwD7HPWuiOzvXEa3oCNe', 'id': '6TLwD7HPWuiOzvXEa3oCNe', 'name': 'Oliver Tree', 'type': 'artist', 'uri': 'spotify:artist:6TLwD7HPWuiOzvXEa3oCNe'}], 'available_markets': ['AD', 'AE', 'AL', 'AR', 'AT', 'AU', 'BA', 'BE', 'BG', 'BH', 'BO', 'BR', 'BY', 'CA', 'CH', 'CL', 'CO', 'CR', 'CY', 'CZ', 'DE', 'DK', 'DO', 'DZ', 'EC', 'EE', 'EG', 'ES', 'FI', 'FR', 'GB', 'GR', 'GT', 'HK', 'HN', 'HR', 'HU', 'ID', 'IE', 'IL', 'IN', 'IS', 'IT', 'JO', 'JP', 'KW', 'KZ', 'LB', 'LI', 'LT', 'LU', 'LV', 'MA', 'MC', 'MD', 'ME', 'MK', 'MT', 'MX', 'MY', 'NI', 'NL', 'NO', 'NZ', 'OM', 'PA', 'PE', 'PH', 'PL', 'PS', 'PT', 'PY', 'QA', 'RO', 'RS', 'RU', 'SA', 'SE', 'SG', 'SI', 'SK', 'SV', 'TH', 'TN', 'TR', 'TW', 'UA', 'US', 'UY', 'VN', 'XK', 'ZA'], 'external_urls': {'spotify': 'https://open.spotify.com/album/1HmWQo43Gt8BR2dylfv3o4'}, 'href': 'https://api.spotify.com/v1/albums/1HmWQo43Gt8BR2dylfv3o4', 'id': '1HmWQo43Gt8BR2dylfv3o4', 'images': [{'height': 640, 'url': 'https://i.scdn.co/image/ab67616d0000b273e46d181f0fa342ee2ef38eb3', 'width': 640}, {'height': 300, 'url': 'https://i.scdn.co/image/ab67616d00001e02e46d181f0fa342ee2ef38eb3', 'width': 300}, {'height': 64, 'url': 'https://i.scdn.co/image/ab67616d00004851e46d181f0fa342ee2ef38eb3', 'width': 64}], 'name': 'Ugly is Beautiful', 'release_date': '2020-07-17', 'release_date_precision': 'day', 'total_tracks': 14, 'type': 'album', 'uri': 'spotify:album:1HmWQo43Gt8BR2dylfv3o4'}, {'album_type': 'single', 'artists': [{'external_urls': {'spotify': 'https://open.spotify.com/artist/6Ad91Jof8Niiw0lGLLi3NW'}, 'href': 'https://api.spotify.com/v1/artists/6Ad91Jof8Niiw0lGLLi3NW', 'id': '6Ad91Jof8Niiw0lGLLi3NW', 'name': 'YUNGBLUD', 'type': 'artist', 'uri': 'spotify:artist:6Ad91Jof8Niiw0lGLLi3NW'}], 'available_markets': ['AD', 'AE', 'AL', 'AR', 'AT', 'AU', 'BA', 'BE', 'BG', 'BH', 'BO', 'BR', 'BY', 'CA', 'CH', 'CL', 'CO', 'CR', 'CY', 'CZ', 'DE', 'DK', 'DO', 'DZ', 'EC', 'EE', 'EG', 'ES', 'FI', 'FR', 'GB', 'GR', 'GT', 'HK', 'HN', 'HR', 'HU', 'ID', 'IE', 'IL', 'IN', 'IS', 'IT', 'JO', 'JP', 'KW', 'KZ', 'LB', 'LI', 'LT', 'LU', 'LV', 'MA', 'MC', 'MD', 'ME', 'MK', 'MT', 'MX', 'MY', 'NI', 'NL', 'NO', 'NZ', 'OM', 'PA', 'PE', 'PH', 'PL', 'PS', 'PT', 'PY', 'QA', 'RO', 'RS', 'RU', 'SA', 'SE', 'SG', 'SI', 'SK', 'SV', 'TH', 'TN', 'TR', 'TW', 'UA', 'US', 'UY', 'VN', 'XK', 'ZA'], 'external_urls': {'spotify': 'https://open.spotify.com/album/6Il4NZgMll7LH4Gb4fcR3E'}, 'href': 'https://api.spotify.com/v1/albums/6Il4NZgMll7LH4Gb4fcR3E', 'id': '6Il4NZgMll7LH4Gb4fcR3E', 'images': [{'height': 640, 'url': 'https://i.scdn.co/image/ab67616d0000b2736e80151360335feefacb90d9', 'width': 640}, {'height': 300, 'url': 'https://i.scdn.co/image/ab67616d00001e026e80151360335feefacb90d9', 'width': 300}, {'height': 64, 'url': 'https://i.scdn.co/image/ab67616d000048516e80151360335feefacb90d9', 'width': 64}], 'name': 'Strawberry Lipstick', 'release_date': '2020-07-16', 'release_date_precision': 'day', 'total_tracks': 1, 'type': 'album', 'uri': 'spotify:album:6Il4NZgMll7LH4Gb4fcR3E'}, {'album_type': 'single', 'artists': [{'external_urls': {'spotify': 'https://open.spotify.com/artist/45TgXXqMDdF8BkjA83OM7z'}, 'href': 'https://api.spotify.com/v1/artists/45TgXXqMDdF8BkjA83OM7z', 'id': '45TgXXqMDdF8BkjA83OM7z', 'name': 'Rod Wave', 'type': 'artist', 'uri': 'spotify:artist:45TgXXqMDdF8BkjA83OM7z'}], 'available_markets': ['AD', 'AE', 'AL', 'AR', 'AT', 'AU', 'BA', 'BE', 'BG', 'BH', 'BO', 'BR', 'BY', 'CA', 'CH', 'CL', 'CO', 'CR', 'CY', 'CZ', 'DE', 'DK', 'DO', 'DZ', 'EC', 'EE', 'EG', 'ES', 'FI', 'FR', 'GB', 'GR', 'GT', 'HK', 'HN', 'HR', 'HU', 'ID', 'IE', 'IL', 'IN', 'IS', 'IT', 'JO', 'JP', 'KW', 'KZ', 'LB', 'LI', 'LT', 'LU', 'LV', 'MA', 'MC', 'MD', 'ME', 'MK', 'MT', 'MX', 'MY', 'NI', 'NL', 'NO', 'NZ', 'OM', 'PA', 'PE', 'PH', 'PL', 'PS', 'PT', 'PY', 'QA', 'RO', 'RS', 'RU', 'SA', 'SE', 'SG', 'SI', 'SK', 'SV', 'TH', 'TN', 'TR', 'TW', 'UA', 'US', 'UY', 'VN', 'XK', 'ZA'], 'external_urls': {'spotify': 'https://open.spotify.com/album/09T2PrA53cKeUvGalQHmf9'}, 'href': 'https://api.spotify.com/v1/albums/09T2PrA53cKeUvGalQHmf9', 'id': '09T2PrA53cKeUvGalQHmf9', 'images': [{'height': 640, 'url': 'https://i.scdn.co/image/ab67616d0000b27337850efe2b4d62bddb33a847', 'width': 640}, {'height': 300, 'url': 'https://i.scdn.co/image/ab67616d00001e0237850efe2b4d62bddb33a847', 'width': 300}, {'height': 64, 'url': 'https://i.scdn.co/image/ab67616d0000485137850efe2b4d62bddb33a847', 'width': 64}], 'name': 'Through The Wire', 'release_date': '2020-07-12', 'release_date_precision': 'day', 'total_tracks': 1, 'type': 'album', 'uri': 'spotify:album:09T2PrA53cKeUvGalQHmf9'}, {'album_type': 'single', 'artists': [{'external_urls': {'spotify': 'https://open.spotify.com/artist/2P5sC9cVZDToPxyomzF1UH'}, 'href': 'https://api.spotify.com/v1/artists/2P5sC9cVZDToPxyomzF1UH', 'id': '2P5sC9cVZDToPxyomzF1UH', 'name': 'Joey Bada$$', 'type': 'artist', 'uri': 'spotify:artist:2P5sC9cVZDToPxyomzF1UH'}], 'available_markets': ['AD', 'AE', 'AL', 'AR', 'AT', 'AU', 'BA', 'BE', 'BG', 'BH', 'BO', 'BR', 'BY', 'CA', 'CH', 'CL', 'CO', 'CR', 'CY', 'CZ', 'DE', 'DK', 'DO', 'DZ', 'EC', 'EE', 'EG', 'ES', 'FI', 'FR', 'GB', 'GR', 'GT', 'HK', 'HN', 'HR', 'HU', 'ID', 'IE', 'IL', 'IN', 'IS', 'IT', 'JO', 'JP', 'KW', 'KZ', 'LB', 'LI', 'LT', 'LU', 'LV', 'MA', 'MC', 'MD', 'ME', 'MK', 'MT', 'MX', 'MY', 'NI', 'NL', 'NO', 'NZ', 'OM', 'PA', 'PE', 'PH', 'PL', 'PS', 'PT', 'PY', 'QA', 'RO', 'RS', 'RU', 'SA', 'SE', 'SG', 'SI', 'SK', 'SV', 'TH', 'TN', 'TR', 'TW', 'UA', 'US', 'UY', 'VN', 'XK', 'ZA'], 'external_urls': {'spotify': 'https://open.spotify.com/album/14EzA7MWoKYPjzjeT4gtj3'}, 'href': 'https://api.spotify.com/v1/albums/14EzA7MWoKYPjzjeT4gtj3', 'id': '14EzA7MWoKYPjzjeT4gtj3', 'images': [{'height': 640, 'url': 'https://i.scdn.co/image/ab67616d0000b27363d3d88060ff940456b89719', 'width': 640}, {'height': 300, 'url': 'https://i.scdn.co/image/ab67616d00001e0263d3d88060ff940456b89719', 'width': 300}, {'height': 64, 'url': 'https://i.scdn.co/image/ab67616d0000485163d3d88060ff940456b89719', 'width': 64}], 'name': 'The Light Pack', 'release_date': '2020-07-17', 'release_date_precision': 'day', 'total_tracks': 3, 'type': 'album', 'uri': 'spotify:album:14EzA7MWoKYPjzjeT4gtj3'}, {'album_type': 'album', 'artists': [{'external_urls': {'spotify': 'https://open.spotify.com/artist/78SHxLdtysAXgywQ4vE0Oa'}, 'href': 'https://api.spotify.com/v1/artists/78SHxLdtysAXgywQ4vE0Oa', 'id': '78SHxLdtysAXgywQ4vE0Oa', 'name': 'Bush', 'type': 'artist', 'uri': 'spotify:artist:78SHxLdtysAXgywQ4vE0Oa'}], 'available_markets': ['AD', 'AE', 'AL', 'AR', 'AT', 'AU', 'BA', 'BE', 'BG', 'BH', 'BO', 'BR', 'BY', 'CA', 'CH', 'CL', 'CO', 'CR', 'CY', 'CZ', 'DE', 'DK', 'DO', 'DZ', 'EC', 'EE', 'EG', 'ES', 'FI', 'FR', 'GB', 'GR', 'GT', 'HK', 'HN', 'HR', 'HU', 'ID', 'IE', 'IL', 'IS', 'IT', 'JO', 'JP', 'KW', 'KZ', 'LB', 'LI', 'LT', 'LU', 'LV', 'MA', 'MC', 'MD', 'ME', 'MK', 'MT', 'MX', 'MY', 'NI', 'NL', 'NO', 'NZ', 'OM', 'PA', 'PE', 'PH', 'PL', 'PS', 'PT', 'PY', 'QA', 'RO', 'RS', 'RU', 'SA', 'SE', 'SG', 'SI', 'SK', 'SV', 'TH', 'TN', 'TR', 'TW', 'UA', 'US', 'UY', 'VN', 'XK', 'ZA'], 'external_urls': {'spotify': 'https://open.spotify.com/album/1IduB3mfHISAtpV1zQHpef'}, 'href': 'https://api.spotify.com/v1/albums/1IduB3mfHISAtpV1zQHpef', 'id': '1IduB3mfHISAtpV1zQHpef', 'images': [{'height': 640, 'url': 'https://i.scdn.co/image/ab67616d0000b273000dc224c449d83b0679f6a2', 'width': 640}, {'height': 300, 'url': 'https://i.scdn.co/image/ab67616d00001e02000dc224c449d83b0679f6a2', 'width': 300}, {'height': 64, 'url': 'https://i.scdn.co/image/ab67616d00004851000dc224c449d83b0679f6a2', 'width': 64}], 'name': 'The Kingdom', 'release_date': '2020-07-17', 'release_date_precision': 'day', 'total_tracks': 12, 'type': 'album', 'uri': 'spotify:album:1IduB3mfHISAtpV1zQHpef'}]\n"
     ]
    }
   ],
   "source": [
    "# write code here. add more cells as needed.\n",
    "albums=list(new_releases['albums']['items'])\n",
    "\n",
    "\n",
    "# dump here\n",
    "print(albums)"
   ]
  },
  {
   "cell_type": "code",
   "execution_count": 4,
   "metadata": {},
   "outputs": [
    {
     "name": "stdout",
     "output_type": "stream",
     "text": [
      "[{'album_type': 'single', 'artists': [{'external_urls': {'spotify': 'https://open.spotify.com/artist/0QHgL1lAIqAw0HtD7YldmP'}, 'href': 'https://api.spotify.com/v1/artists/0QHgL1lAIqAw0HtD7YldmP', 'id': '0QHgL1lAIqAw0HtD7YldmP', 'name': 'DJ Khaled', 'type': 'artist', 'uri': 'spotify:artist:0QHgL1lAIqAw0HtD7YldmP'}, {'external_urls': {'spotify': 'https://open.spotify.com/artist/3TVXtAsR1Inumwj472S9r4'}, 'href': 'https://api.spotify.com/v1/artists/3TVXtAsR1Inumwj472S9r4', 'id': '3TVXtAsR1Inumwj472S9r4', 'name': 'Drake', 'type': 'artist', 'uri': 'spotify:artist:3TVXtAsR1Inumwj472S9r4'}], 'available_markets': ['AD', 'AE', 'AL', 'AR', 'AT', 'AU', 'BA', 'BE', 'BG', 'BH', 'BO', 'BR', 'BY', 'CA', 'CH', 'CL', 'CO', 'CR', 'CY', 'CZ', 'DE', 'DK', 'DO', 'DZ', 'EC', 'EE', 'EG', 'ES', 'FI', 'FR', 'GB', 'GR', 'GT', 'HK', 'HN', 'HR', 'HU', 'ID', 'IE', 'IL', 'IN', 'IS', 'IT', 'JO', 'JP', 'KW', 'KZ', 'LB', 'LI', 'LT', 'LU', 'LV', 'MA', 'MC', 'MD', 'ME', 'MK', 'MT', 'MX', 'MY', 'NI', 'NL', 'NO', 'NZ', 'OM', 'PA', 'PE', 'PH', 'PL', 'PS', 'PT', 'PY', 'QA', 'RO', 'RS', 'RU', 'SA', 'SE', 'SG', 'SI', 'SK', 'SV', 'TH', 'TN', 'TR', 'TW', 'UA', 'US', 'UY', 'VN', 'XK', 'ZA'], 'external_urls': {'spotify': 'https://open.spotify.com/album/5nNtpPsSUgb9Hlb3dF1gXa'}, 'href': 'https://api.spotify.com/v1/albums/5nNtpPsSUgb9Hlb3dF1gXa', 'id': '5nNtpPsSUgb9Hlb3dF1gXa', 'images': [{'height': 640, 'url': 'https://i.scdn.co/image/ab67616d0000b273efaecb4b9cbae7c120d14617', 'width': 640}, {'height': 300, 'url': 'https://i.scdn.co/image/ab67616d00001e02efaecb4b9cbae7c120d14617', 'width': 300}, {'height': 64, 'url': 'https://i.scdn.co/image/ab67616d00004851efaecb4b9cbae7c120d14617', 'width': 64}], 'name': 'POPSTAR (feat. Drake)', 'release_date': '2020-07-17', 'release_date_precision': 'day', 'total_tracks': 1, 'type': 'album', 'uri': 'spotify:album:5nNtpPsSUgb9Hlb3dF1gXa'}, {'album_type': 'album', 'artists': [{'external_urls': {'spotify': 'https://open.spotify.com/artist/0X2BH1fck6amBIoJhDVmmJ'}, 'href': 'https://api.spotify.com/v1/artists/0X2BH1fck6amBIoJhDVmmJ', 'id': '0X2BH1fck6amBIoJhDVmmJ', 'name': 'Ellie Goulding', 'type': 'artist', 'uri': 'spotify:artist:0X2BH1fck6amBIoJhDVmmJ'}], 'available_markets': ['AD', 'AE', 'AL', 'AR', 'AT', 'AU', 'BA', 'BE', 'BG', 'BH', 'BO', 'BR', 'BY', 'CA', 'CH', 'CL', 'CO', 'CR', 'CY', 'CZ', 'DE', 'DK', 'DO', 'DZ', 'EC', 'EE', 'EG', 'ES', 'FI', 'FR', 'GB', 'GR', 'GT', 'HK', 'HN', 'HR', 'HU', 'ID', 'IE', 'IL', 'IN', 'IS', 'IT', 'JO', 'JP', 'KW', 'KZ', 'LB', 'LI', 'LT', 'LU', 'LV', 'MA', 'MC', 'MD', 'ME', 'MK', 'MT', 'MX', 'MY', 'NI', 'NL', 'NO', 'NZ', 'OM', 'PA', 'PE', 'PH', 'PL', 'PS', 'PT', 'PY', 'QA', 'RO', 'RS', 'RU', 'SA', 'SE', 'SG', 'SI', 'SK', 'SV', 'TH', 'TN', 'TR', 'TW', 'UA', 'US', 'UY', 'VN', 'XK', 'ZA'], 'external_urls': {'spotify': 'https://open.spotify.com/album/7hCfgsycCFH4bBjEfUwh3S'}, 'href': 'https://api.spotify.com/v1/albums/7hCfgsycCFH4bBjEfUwh3S', 'id': '7hCfgsycCFH4bBjEfUwh3S', 'images': [{'height': 640, 'url': 'https://i.scdn.co/image/ab67616d0000b2735f76dbd311a0782823550b30', 'width': 640}, {'height': 300, 'url': 'https://i.scdn.co/image/ab67616d00001e025f76dbd311a0782823550b30', 'width': 300}, {'height': 64, 'url': 'https://i.scdn.co/image/ab67616d000048515f76dbd311a0782823550b30', 'width': 64}], 'name': 'Brightest Blue', 'release_date': '2020-07-17', 'release_date_precision': 'day', 'total_tracks': 18, 'type': 'album', 'uri': 'spotify:album:7hCfgsycCFH4bBjEfUwh3S'}, {'album_type': 'single', 'artists': [{'external_urls': {'spotify': 'https://open.spotify.com/artist/6jlWj6y00bMQt8XoKuCjyZ'}, 'href': 'https://api.spotify.com/v1/artists/6jlWj6y00bMQt8XoKuCjyZ', 'id': '6jlWj6y00bMQt8XoKuCjyZ', 'name': 'Emily King', 'type': 'artist', 'uri': 'spotify:artist:6jlWj6y00bMQt8XoKuCjyZ'}], 'available_markets': ['AE', 'BH', 'CY', 'EG', 'HK', 'ID', 'IL', 'IN', 'JO', 'KW', 'KZ', 'LB', 'MY', 'OM', 'PH', 'PS', 'QA', 'SA', 'SG', 'TH', 'TR', 'TW', 'VN', 'ZA', 'DZ', 'MA', 'TN', 'AR', 'BR', 'UY', 'BO', 'CL', 'DO', 'PY', 'CO', 'EC', 'MX', 'PA', 'PE', 'CR', 'GT', 'HN', 'NI', 'SV'], 'external_urls': {'spotify': 'https://open.spotify.com/album/7jdh1K9Sl0dPElH6Ecb3Xs'}, 'href': 'https://api.spotify.com/v1/albums/7jdh1K9Sl0dPElH6Ecb3Xs', 'id': '7jdh1K9Sl0dPElH6Ecb3Xs', 'images': [{'height': 640, 'url': 'https://i.scdn.co/image/ab67616d0000b273b45a0de85b5bb6cdbcb7247e', 'width': 640}, {'height': 300, 'url': 'https://i.scdn.co/image/ab67616d00001e02b45a0de85b5bb6cdbcb7247e', 'width': 300}, {'height': 64, 'url': 'https://i.scdn.co/image/ab67616d00004851b45a0de85b5bb6cdbcb7247e', 'width': 64}], 'name': 'Spotify Singles', 'release_date': '2020-07-22', 'release_date_precision': 'day', 'total_tracks': 2, 'type': 'album', 'uri': 'spotify:album:7jdh1K9Sl0dPElH6Ecb3Xs'}, {'album_type': 'album', 'artists': [{'external_urls': {'spotify': 'https://open.spotify.com/artist/25IG9fa7cbdmCIy3OnuH57'}, 'href': 'https://api.spotify.com/v1/artists/25IG9fa7cbdmCIy3OnuH57', 'id': '25IG9fa7cbdmCIy3OnuH57', 'name': 'The Chicks', 'type': 'artist', 'uri': 'spotify:artist:25IG9fa7cbdmCIy3OnuH57'}], 'available_markets': ['AD', 'AE', 'AL', 'AR', 'AT', 'AU', 'BA', 'BE', 'BG', 'BH', 'BO', 'BR', 'BY', 'CA', 'CH', 'CL', 'CO', 'CR', 'CY', 'CZ', 'DE', 'DK', 'DO', 'DZ', 'EC', 'EE', 'EG', 'ES', 'FI', 'FR', 'GB', 'GR', 'GT', 'HK', 'HN', 'HR', 'HU', 'ID', 'IE', 'IL', 'IN', 'IS', 'IT', 'JO', 'JP', 'KW', 'KZ', 'LB', 'LI', 'LT', 'LU', 'LV', 'MA', 'MC', 'MD', 'ME', 'MK', 'MT', 'MX', 'MY', 'NI', 'NL', 'NO', 'NZ', 'OM', 'PA', 'PE', 'PH', 'PL', 'PS', 'PT', 'PY', 'QA', 'RO', 'RS', 'RU', 'SA', 'SE', 'SG', 'SI', 'SK', 'SV', 'TH', 'TN', 'TR', 'TW', 'UA', 'US', 'UY', 'VN', 'XK', 'ZA'], 'external_urls': {'spotify': 'https://open.spotify.com/album/1YV5Rh6n8dLOycCqWcUSq4'}, 'href': 'https://api.spotify.com/v1/albums/1YV5Rh6n8dLOycCqWcUSq4', 'id': '1YV5Rh6n8dLOycCqWcUSq4', 'images': [{'height': 640, 'url': 'https://i.scdn.co/image/ab67616d0000b273d3836964e3eb4ee83eaca288', 'width': 640}, {'height': 300, 'url': 'https://i.scdn.co/image/ab67616d00001e02d3836964e3eb4ee83eaca288', 'width': 300}, {'height': 64, 'url': 'https://i.scdn.co/image/ab67616d00004851d3836964e3eb4ee83eaca288', 'width': 64}], 'name': 'Gaslighter', 'release_date': '2020-07-17', 'release_date_precision': 'day', 'total_tracks': 12, 'type': 'album', 'uri': 'spotify:album:1YV5Rh6n8dLOycCqWcUSq4'}, {'album_type': 'single', 'artists': [{'external_urls': {'spotify': 'https://open.spotify.com/artist/2eqoJbzUGDwys5ENUkbT3h'}, 'href': 'https://api.spotify.com/v1/artists/2eqoJbzUGDwys5ENUkbT3h', 'id': '2eqoJbzUGDwys5ENUkbT3h', 'name': 'J.I the Prince of N.Y', 'type': 'artist', 'uri': 'spotify:artist:2eqoJbzUGDwys5ENUkbT3h'}], 'available_markets': ['AD', 'AE', 'AL', 'AR', 'AT', 'AU', 'BA', 'BE', 'BG', 'BH', 'BO', 'BR', 'BY', 'CA', 'CH', 'CL', 'CO', 'CR', 'CY', 'CZ', 'DE', 'DK', 'DO', 'DZ', 'EC', 'EE', 'EG', 'ES', 'FI', 'FR', 'GB', 'GR', 'GT', 'HK', 'HN', 'HR', 'HU', 'ID', 'IE', 'IL', 'IN', 'IS', 'IT', 'JO', 'JP', 'KW', 'KZ', 'LB', 'LI', 'LT', 'LU', 'LV', 'MA', 'MC', 'MD', 'ME', 'MK', 'MT', 'MX', 'MY', 'NI', 'NL', 'NO', 'NZ', 'OM', 'PA', 'PE', 'PH', 'PL', 'PS', 'PT', 'PY', 'QA', 'RO', 'RS', 'RU', 'SA', 'SE', 'SG', 'SI', 'SK', 'SV', 'TH', 'TN', 'TR', 'TW', 'UA', 'US', 'UY', 'VN', 'XK', 'ZA'], 'external_urls': {'spotify': 'https://open.spotify.com/album/3EImpNqOe0VteNjthjChQz'}, 'href': 'https://api.spotify.com/v1/albums/3EImpNqOe0VteNjthjChQz', 'id': '3EImpNqOe0VteNjthjChQz', 'images': [{'height': 640, 'url': 'https://i.scdn.co/image/ab67616d0000b27325f943de09d072d0408617e4', 'width': 640}, {'height': 300, 'url': 'https://i.scdn.co/image/ab67616d00001e0225f943de09d072d0408617e4', 'width': 300}, {'height': 64, 'url': 'https://i.scdn.co/image/ab67616d0000485125f943de09d072d0408617e4', 'width': 64}], 'name': 'Welcome to GStarr Vol. 1 EP', 'release_date': '2020-07-17', 'release_date_precision': 'day', 'total_tracks': 6, 'type': 'album', 'uri': 'spotify:album:3EImpNqOe0VteNjthjChQz'}, {'album_type': 'single', 'artists': [{'external_urls': {'spotify': 'https://open.spotify.com/artist/2qxJFvFYMEDqd7ui6kSAcq'}, 'href': 'https://api.spotify.com/v1/artists/2qxJFvFYMEDqd7ui6kSAcq', 'id': '2qxJFvFYMEDqd7ui6kSAcq', 'name': 'Zedd', 'type': 'artist', 'uri': 'spotify:artist:2qxJFvFYMEDqd7ui6kSAcq'}, {'external_urls': {'spotify': 'https://open.spotify.com/artist/2TL8gYTNgD6nXkyuUdDrMg'}, 'href': 'https://api.spotify.com/v1/artists/2TL8gYTNgD6nXkyuUdDrMg', 'id': '2TL8gYTNgD6nXkyuUdDrMg', 'name': 'Jasmine Thompson', 'type': 'artist', 'uri': 'spotify:artist:2TL8gYTNgD6nXkyuUdDrMg'}], 'available_markets': ['AD', 'AE', 'AL', 'AR', 'AT', 'AU', 'BA', 'BE', 'BG', 'BH', 'BO', 'BR', 'BY', 'CA', 'CH', 'CL', 'CO', 'CR', 'CY', 'CZ', 'DE', 'DK', 'DO', 'DZ', 'EC', 'EE', 'EG', 'ES', 'FI', 'FR', 'GB', 'GR', 'GT', 'HK', 'HN', 'HR', 'HU', 'ID', 'IE', 'IL', 'IN', 'IS', 'IT', 'JO', 'JP', 'KW', 'KZ', 'LB', 'LI', 'LT', 'LU', 'LV', 'MA', 'MC', 'MD', 'ME', 'MK', 'MT', 'MX', 'MY', 'NI', 'NL', 'NO', 'NZ', 'OM', 'PA', 'PE', 'PH', 'PL', 'PS', 'PT', 'PY', 'QA', 'RO', 'RS', 'RU', 'SA', 'SE', 'SG', 'SI', 'SK', 'SV', 'TH', 'TN', 'TR', 'TW', 'UA', 'US', 'UY', 'VN', 'XK', 'ZA'], 'external_urls': {'spotify': 'https://open.spotify.com/album/5Q8Uyc3KUlPhPtMQDY5SWm'}, 'href': 'https://api.spotify.com/v1/albums/5Q8Uyc3KUlPhPtMQDY5SWm', 'id': '5Q8Uyc3KUlPhPtMQDY5SWm', 'images': [{'height': 640, 'url': 'https://i.scdn.co/image/ab67616d0000b2738046020d2ba421ea91423419', 'width': 640}, {'height': 300, 'url': 'https://i.scdn.co/image/ab67616d00001e028046020d2ba421ea91423419', 'width': 300}, {'height': 64, 'url': 'https://i.scdn.co/image/ab67616d000048518046020d2ba421ea91423419', 'width': 64}], 'name': 'Funny', 'release_date': '2020-07-16', 'release_date_precision': 'day', 'total_tracks': 1, 'type': 'album', 'uri': 'spotify:album:5Q8Uyc3KUlPhPtMQDY5SWm'}, {'album_type': 'single', 'artists': [{'external_urls': {'spotify': 'https://open.spotify.com/artist/3WGpXCj9YhhfX11TToZcXP'}, 'href': 'https://api.spotify.com/v1/artists/3WGpXCj9YhhfX11TToZcXP', 'id': '3WGpXCj9YhhfX11TToZcXP', 'name': 'Troye Sivan', 'type': 'artist', 'uri': 'spotify:artist:3WGpXCj9YhhfX11TToZcXP'}], 'available_markets': ['AD', 'AE', 'AL', 'AR', 'AT', 'AU', 'BA', 'BE', 'BG', 'BH', 'BO', 'BR', 'BY', 'CA', 'CH', 'CL', 'CO', 'CR', 'CY', 'CZ', 'DE', 'DK', 'DO', 'DZ', 'EC', 'EE', 'EG', 'ES', 'FI', 'FR', 'GB', 'GR', 'GT', 'HK', 'HN', 'HR', 'HU', 'ID', 'IE', 'IL', 'IN', 'IS', 'IT', 'JO', 'JP', 'KW', 'KZ', 'LB', 'LI', 'LT', 'LU', 'LV', 'MA', 'MC', 'MD', 'ME', 'MK', 'MT', 'MX', 'MY', 'NI', 'NL', 'NO', 'NZ', 'OM', 'PA', 'PE', 'PH', 'PL', 'PS', 'PT', 'PY', 'QA', 'RO', 'RS', 'RU', 'SA', 'SE', 'SG', 'SI', 'SK', 'SV', 'TH', 'TN', 'TR', 'TW', 'UA', 'US', 'UY', 'VN', 'XK', 'ZA'], 'external_urls': {'spotify': 'https://open.spotify.com/album/25bVTJuPSWiiwdxgjJGRUi'}, 'href': 'https://api.spotify.com/v1/albums/25bVTJuPSWiiwdxgjJGRUi', 'id': '25bVTJuPSWiiwdxgjJGRUi', 'images': [{'height': 640, 'url': 'https://i.scdn.co/image/ab67616d0000b273acd22b93c9521a25e0210109', 'width': 640}, {'height': 300, 'url': 'https://i.scdn.co/image/ab67616d00001e02acd22b93c9521a25e0210109', 'width': 300}, {'height': 64, 'url': 'https://i.scdn.co/image/ab67616d00004851acd22b93c9521a25e0210109', 'width': 64}], 'name': 'Easy', 'release_date': '2020-07-15', 'release_date_precision': 'day', 'total_tracks': 2, 'type': 'album', 'uri': 'spotify:album:25bVTJuPSWiiwdxgjJGRUi'}, {'album_type': 'single', 'artists': [{'external_urls': {'spotify': 'https://open.spotify.com/artist/1Cs0zKBU1kc0i8ypK3B9ai'}, 'href': 'https://api.spotify.com/v1/artists/1Cs0zKBU1kc0i8ypK3B9ai', 'id': '1Cs0zKBU1kc0i8ypK3B9ai', 'name': 'David Guetta', 'type': 'artist', 'uri': 'spotify:artist:1Cs0zKBU1kc0i8ypK3B9ai'}, {'external_urls': {'spotify': 'https://open.spotify.com/artist/19HFRWmRCl27kTk6LeqAO8'}, 'href': 'https://api.spotify.com/v1/artists/19HFRWmRCl27kTk6LeqAO8', 'id': '19HFRWmRCl27kTk6LeqAO8', 'name': 'MORTEN', 'type': 'artist', 'uri': 'spotify:artist:19HFRWmRCl27kTk6LeqAO8'}], 'available_markets': ['AD', 'AE', 'AL', 'AR', 'AT', 'AU', 'BA', 'BE', 'BG', 'BH', 'BO', 'BR', 'BY', 'CA', 'CH', 'CL', 'CO', 'CR', 'CY', 'CZ', 'DE', 'DK', 'DO', 'DZ', 'EC', 'EE', 'EG', 'ES', 'FI', 'FR', 'GB', 'GR', 'GT', 'HK', 'HN', 'HR', 'HU', 'ID', 'IE', 'IL', 'IN', 'IS', 'IT', 'JO', 'JP', 'KW', 'KZ', 'LB', 'LI', 'LT', 'LU', 'LV', 'MA', 'MC', 'MD', 'ME', 'MK', 'MT', 'MX', 'MY', 'NI', 'NL', 'NO', 'NZ', 'OM', 'PA', 'PE', 'PH', 'PL', 'PS', 'PT', 'PY', 'QA', 'RO', 'RS', 'RU', 'SA', 'SE', 'SG', 'SI', 'SK', 'SV', 'TH', 'TN', 'TR', 'TW', 'UA', 'US', 'UY', 'VN', 'XK', 'ZA'], 'external_urls': {'spotify': 'https://open.spotify.com/album/0fKU8zzmBjXNAJp5Uo2dml'}, 'href': 'https://api.spotify.com/v1/albums/0fKU8zzmBjXNAJp5Uo2dml', 'id': '0fKU8zzmBjXNAJp5Uo2dml', 'images': [{'height': 640, 'url': 'https://i.scdn.co/image/ab67616d0000b273d036cdc7102e5fd3ac7affe5', 'width': 640}, {'height': 300, 'url': 'https://i.scdn.co/image/ab67616d00001e02d036cdc7102e5fd3ac7affe5', 'width': 300}, {'height': 64, 'url': 'https://i.scdn.co/image/ab67616d00004851d036cdc7102e5fd3ac7affe5', 'width': 64}], 'name': 'New Rave', 'release_date': '2020-07-17', 'release_date_precision': 'day', 'total_tracks': 4, 'type': 'album', 'uri': 'spotify:album:0fKU8zzmBjXNAJp5Uo2dml'}, {'album_type': 'single', 'artists': [{'external_urls': {'spotify': 'https://open.spotify.com/artist/1W7FNibLa0O0b572tB2w7t'}, 'href': 'https://api.spotify.com/v1/artists/1W7FNibLa0O0b572tB2w7t', 'id': '1W7FNibLa0O0b572tB2w7t', 'name': 'Pink Sweat$', 'type': 'artist', 'uri': 'spotify:artist:1W7FNibLa0O0b572tB2w7t'}], 'available_markets': ['AD', 'AE', 'AL', 'AR', 'AT', 'AU', 'BA', 'BE', 'BG', 'BH', 'BO', 'BR', 'BY', 'CA', 'CH', 'CL', 'CO', 'CR', 'CY', 'CZ', 'DE', 'DK', 'DO', 'DZ', 'EC', 'EE', 'EG', 'ES', 'FI', 'FR', 'GB', 'GR', 'GT', 'HK', 'HN', 'HR', 'HU', 'ID', 'IE', 'IL', 'IN', 'IS', 'IT', 'JO', 'JP', 'KW', 'KZ', 'LB', 'LI', 'LT', 'LU', 'LV', 'MA', 'MC', 'MD', 'ME', 'MK', 'MT', 'MX', 'MY', 'NI', 'NL', 'NO', 'NZ', 'OM', 'PA', 'PE', 'PH', 'PL', 'PS', 'PT', 'PY', 'QA', 'RO', 'RS', 'RU', 'SA', 'SE', 'SG', 'SI', 'SK', 'SV', 'TH', 'TN', 'TR', 'TW', 'UA', 'US', 'UY', 'VN', 'XK', 'ZA'], 'external_urls': {'spotify': 'https://open.spotify.com/album/3Qj2vsFzmaB8jcH6Q60WIG'}, 'href': 'https://api.spotify.com/v1/albums/3Qj2vsFzmaB8jcH6Q60WIG', 'id': '3Qj2vsFzmaB8jcH6Q60WIG', 'images': [{'height': 640, 'url': 'https://i.scdn.co/image/ab67616d0000b273e99f7b031daf4e3bc1c275e5', 'width': 640}, {'height': 300, 'url': 'https://i.scdn.co/image/ab67616d00001e02e99f7b031daf4e3bc1c275e5', 'width': 300}, {'height': 64, 'url': 'https://i.scdn.co/image/ab67616d00004851e99f7b031daf4e3bc1c275e5', 'width': 64}], 'name': 'The Prelude', 'release_date': '2020-07-17', 'release_date_precision': 'day', 'total_tracks': 6, 'type': 'album', 'uri': 'spotify:album:3Qj2vsFzmaB8jcH6Q60WIG'}, {'album_type': 'single', 'artists': [{'external_urls': {'spotify': 'https://open.spotify.com/artist/35l9BRT7MXmM8bv2WDQiyB'}, 'href': 'https://api.spotify.com/v1/artists/35l9BRT7MXmM8bv2WDQiyB', 'id': '35l9BRT7MXmM8bv2WDQiyB', 'name': 'beabadoobee', 'type': 'artist', 'uri': 'spotify:artist:35l9BRT7MXmM8bv2WDQiyB'}], 'available_markets': ['AD', 'AE', 'AL', 'AR', 'AT', 'AU', 'BA', 'BE', 'BG', 'BH', 'BO', 'BR', 'BY', 'CA', 'CH', 'CL', 'CO', 'CR', 'CY', 'CZ', 'DE', 'DK', 'DO', 'DZ', 'EC', 'EE', 'EG', 'ES', 'FI', 'FR', 'GB', 'GR', 'GT', 'HK', 'HN', 'HR', 'HU', 'ID', 'IE', 'IL', 'IN', 'IS', 'IT', 'JO', 'JP', 'KW', 'KZ', 'LB', 'LI', 'LT', 'LU', 'LV', 'MA', 'MC', 'MD', 'ME', 'MK', 'MT', 'MX', 'MY', 'NI', 'NL', 'NO', 'NZ', 'OM', 'PA', 'PE', 'PH', 'PL', 'PS', 'PT', 'PY', 'QA', 'RO', 'RS', 'RU', 'SA', 'SE', 'SG', 'SI', 'SK', 'SV', 'TH', 'TN', 'TR', 'TW', 'UA', 'US', 'UY', 'VN', 'XK', 'ZA'], 'external_urls': {'spotify': 'https://open.spotify.com/album/51fkPPsTPpZdFEGr3o5dCt'}, 'href': 'https://api.spotify.com/v1/albums/51fkPPsTPpZdFEGr3o5dCt', 'id': '51fkPPsTPpZdFEGr3o5dCt', 'images': [{'height': 640, 'url': 'https://i.scdn.co/image/ab67616d0000b273b694c6e4dd1f247401d758a8', 'width': 640}, {'height': 300, 'url': 'https://i.scdn.co/image/ab67616d00001e02b694c6e4dd1f247401d758a8', 'width': 300}, {'height': 64, 'url': 'https://i.scdn.co/image/ab67616d00004851b694c6e4dd1f247401d758a8', 'width': 64}], 'name': 'Care', 'release_date': '2020-07-15', 'release_date_precision': 'day', 'total_tracks': 1, 'type': 'album', 'uri': 'spotify:album:51fkPPsTPpZdFEGr3o5dCt'}, {'album_type': 'album', 'artists': [{'external_urls': {'spotify': 'https://open.spotify.com/artist/1XLWox9w1Yvbodui0SRhUQ'}, 'href': 'https://api.spotify.com/v1/artists/1XLWox9w1Yvbodui0SRhUQ', 'id': '1XLWox9w1Yvbodui0SRhUQ', 'name': 'StaySolidRocky', 'type': 'artist', 'uri': 'spotify:artist:1XLWox9w1Yvbodui0SRhUQ'}], 'available_markets': ['AD', 'AE', 'AL', 'AR', 'AT', 'AU', 'BA', 'BE', 'BG', 'BH', 'BO', 'BR', 'BY', 'CA', 'CH', 'CL', 'CO', 'CR', 'CY', 'CZ', 'DE', 'DK', 'DO', 'DZ', 'EC', 'EE', 'EG', 'ES', 'FI', 'FR', 'GB', 'GR', 'GT', 'HK', 'HN', 'HR', 'HU', 'ID', 'IE', 'IL', 'IN', 'IS', 'IT', 'JO', 'JP', 'KW', 'KZ', 'LB', 'LI', 'LT', 'LU', 'LV', 'MA', 'MC', 'MD', 'ME', 'MK', 'MT', 'MX', 'MY', 'NI', 'NL', 'NO', 'NZ', 'OM', 'PA', 'PE', 'PH', 'PL', 'PS', 'PT', 'PY', 'QA', 'RO', 'RS', 'RU', 'SA', 'SE', 'SG', 'SI', 'SK', 'SV', 'TH', 'TN', 'TR', 'TW', 'UA', 'US', 'UY', 'VN', 'XK', 'ZA'], 'external_urls': {'spotify': 'https://open.spotify.com/album/4ZZOKHnGnpvVKHkwexxhPL'}, 'href': 'https://api.spotify.com/v1/albums/4ZZOKHnGnpvVKHkwexxhPL', 'id': '4ZZOKHnGnpvVKHkwexxhPL', 'images': [{'height': 640, 'url': 'https://i.scdn.co/image/ab67616d0000b27373debb36ac6edd90c7f4c6a8', 'width': 640}, {'height': 300, 'url': 'https://i.scdn.co/image/ab67616d00001e0273debb36ac6edd90c7f4c6a8', 'width': 300}, {'height': 64, 'url': 'https://i.scdn.co/image/ab67616d0000485173debb36ac6edd90c7f4c6a8', 'width': 64}], 'name': \"Fallin'\", 'release_date': '2020-07-17', 'release_date_precision': 'day', 'total_tracks': 7, 'type': 'album', 'uri': 'spotify:album:4ZZOKHnGnpvVKHkwexxhPL'}, {'album_type': 'album', 'artists': [{'external_urls': {'spotify': 'https://open.spotify.com/artist/2wUjUUtkb5lvLKcGKsKqsR'}, 'href': 'https://api.spotify.com/v1/artists/2wUjUUtkb5lvLKcGKsKqsR', 'id': '2wUjUUtkb5lvLKcGKsKqsR', 'name': 'Alessia Cara', 'type': 'artist', 'uri': 'spotify:artist:2wUjUUtkb5lvLKcGKsKqsR'}], 'available_markets': ['AD', 'AE', 'AL', 'AR', 'AT', 'AU', 'BA', 'BE', 'BG', 'BH', 'BO', 'BR', 'BY', 'CA', 'CH', 'CL', 'CO', 'CR', 'CY', 'CZ', 'DE', 'DK', 'DO', 'DZ', 'EC', 'EE', 'EG', 'ES', 'FI', 'FR', 'GB', 'GR', 'GT', 'HK', 'HN', 'HR', 'HU', 'ID', 'IE', 'IL', 'IN', 'IS', 'IT', 'JO', 'JP', 'KW', 'KZ', 'LB', 'LI', 'LT', 'LU', 'LV', 'MA', 'MC', 'MD', 'ME', 'MK', 'MT', 'MX', 'MY', 'NI', 'NL', 'NO', 'NZ', 'OM', 'PA', 'PE', 'PH', 'PL', 'PS', 'PT', 'PY', 'QA', 'RO', 'RS', 'RU', 'SA', 'SE', 'SG', 'SI', 'SK', 'SV', 'TH', 'TN', 'TR', 'TW', 'UA', 'US', 'UY', 'VN', 'XK', 'ZA'], 'external_urls': {'spotify': 'https://open.spotify.com/album/5f4wj5QGE753r1IcZbiKS3'}, 'href': 'https://api.spotify.com/v1/albums/5f4wj5QGE753r1IcZbiKS3', 'id': '5f4wj5QGE753r1IcZbiKS3', 'images': [{'height': 640, 'url': 'https://i.scdn.co/image/ab67616d0000b27385c7af5b879dc405b14856f3', 'width': 640}, {'height': 300, 'url': 'https://i.scdn.co/image/ab67616d00001e0285c7af5b879dc405b14856f3', 'width': 300}, {'height': 64, 'url': 'https://i.scdn.co/image/ab67616d0000485185c7af5b879dc405b14856f3', 'width': 64}], 'name': 'This Summer: Live Off The Floor', 'release_date': '2020-07-17', 'release_date_precision': 'day', 'total_tracks': 10, 'type': 'album', 'uri': 'spotify:album:5f4wj5QGE753r1IcZbiKS3'}, {'album_type': 'album', 'artists': [{'external_urls': {'spotify': 'https://open.spotify.com/artist/2RP4pPHTXlQpDnO9LvR7Yt'}, 'href': 'https://api.spotify.com/v1/artists/2RP4pPHTXlQpDnO9LvR7Yt', 'id': '2RP4pPHTXlQpDnO9LvR7Yt', 'name': 'Lianne La Havas', 'type': 'artist', 'uri': 'spotify:artist:2RP4pPHTXlQpDnO9LvR7Yt'}], 'available_markets': ['AD', 'AE', 'AL', 'AR', 'AT', 'AU', 'BA', 'BE', 'BG', 'BH', 'BO', 'BR', 'BY', 'CA', 'CH', 'CL', 'CO', 'CR', 'CY', 'CZ', 'DE', 'DK', 'DO', 'DZ', 'EC', 'EE', 'EG', 'ES', 'FI', 'FR', 'GB', 'GR', 'GT', 'HK', 'HN', 'HR', 'HU', 'ID', 'IE', 'IL', 'IN', 'IS', 'IT', 'JO', 'JP', 'KW', 'KZ', 'LB', 'LI', 'LT', 'LU', 'LV', 'MA', 'MC', 'MD', 'ME', 'MK', 'MT', 'MX', 'MY', 'NI', 'NL', 'NO', 'NZ', 'OM', 'PA', 'PE', 'PH', 'PL', 'PS', 'PT', 'PY', 'QA', 'RO', 'RS', 'RU', 'SA', 'SE', 'SG', 'SI', 'SK', 'SV', 'TH', 'TN', 'TR', 'TW', 'UA', 'US', 'UY', 'VN', 'XK', 'ZA'], 'external_urls': {'spotify': 'https://open.spotify.com/album/6JwtB0zzNYy4qANDrJtrJy'}, 'href': 'https://api.spotify.com/v1/albums/6JwtB0zzNYy4qANDrJtrJy', 'id': '6JwtB0zzNYy4qANDrJtrJy', 'images': [{'height': 640, 'url': 'https://i.scdn.co/image/ab67616d0000b273e4e22468cc1f1e4b9b9a9acc', 'width': 640}, {'height': 300, 'url': 'https://i.scdn.co/image/ab67616d00001e02e4e22468cc1f1e4b9b9a9acc', 'width': 300}, {'height': 64, 'url': 'https://i.scdn.co/image/ab67616d00004851e4e22468cc1f1e4b9b9a9acc', 'width': 64}], 'name': 'Lianne La Havas', 'release_date': '2020-07-17', 'release_date_precision': 'day', 'total_tracks': 12, 'type': 'album', 'uri': 'spotify:album:6JwtB0zzNYy4qANDrJtrJy'}, {'album_type': 'single', 'artists': [{'external_urls': {'spotify': 'https://open.spotify.com/artist/23fqKkggKUBHNkbKtXEls4'}, 'href': 'https://api.spotify.com/v1/artists/23fqKkggKUBHNkbKtXEls4', 'id': '23fqKkggKUBHNkbKtXEls4', 'name': 'Kygo', 'type': 'artist', 'uri': 'spotify:artist:23fqKkggKUBHNkbKtXEls4'}, {'external_urls': {'spotify': 'https://open.spotify.com/artist/1zuJe6b1roixEKMOtyrEak'}, 'href': 'https://api.spotify.com/v1/artists/1zuJe6b1roixEKMOtyrEak', 'id': '1zuJe6b1roixEKMOtyrEak', 'name': 'Tina Turner', 'type': 'artist', 'uri': 'spotify:artist:1zuJe6b1roixEKMOtyrEak'}], 'available_markets': ['AD', 'AE', 'AL', 'AR', 'AT', 'AU', 'BA', 'BE', 'BG', 'BH', 'BO', 'BR', 'BY', 'CA', 'CH', 'CL', 'CO', 'CR', 'CY', 'CZ', 'DE', 'DK', 'DO', 'DZ', 'EC', 'EE', 'EG', 'ES', 'FI', 'FR', 'GB', 'GR', 'GT', 'HK', 'HN', 'HR', 'HU', 'ID', 'IE', 'IL', 'IN', 'IS', 'IT', 'JO', 'JP', 'KW', 'KZ', 'LB', 'LI', 'LT', 'LU', 'LV', 'MA', 'MC', 'MD', 'ME', 'MK', 'MT', 'MX', 'MY', 'NI', 'NL', 'NO', 'NZ', 'OM', 'PA', 'PE', 'PH', 'PL', 'PS', 'PT', 'PY', 'QA', 'RO', 'RS', 'RU', 'SA', 'SE', 'SG', 'SI', 'SK', 'SV', 'TH', 'TN', 'TR', 'TW', 'UA', 'US', 'UY', 'VN', 'XK', 'ZA'], 'external_urls': {'spotify': 'https://open.spotify.com/album/1JFKchcdu3ewuhA5PIHWno'}, 'href': 'https://api.spotify.com/v1/albums/1JFKchcdu3ewuhA5PIHWno', 'id': '1JFKchcdu3ewuhA5PIHWno', 'images': [{'height': 640, 'url': 'https://i.scdn.co/image/ab67616d0000b273f0b43fee481f279a186dff20', 'width': 640}, {'height': 300, 'url': 'https://i.scdn.co/image/ab67616d00001e02f0b43fee481f279a186dff20', 'width': 300}, {'height': 64, 'url': 'https://i.scdn.co/image/ab67616d00004851f0b43fee481f279a186dff20', 'width': 64}], 'name': \"What's Love Got to Do with It\", 'release_date': '2020-07-17', 'release_date_precision': 'day', 'total_tracks': 1, 'type': 'album', 'uri': 'spotify:album:1JFKchcdu3ewuhA5PIHWno'}, {'album_type': 'album', 'artists': [{'external_urls': {'spotify': 'https://open.spotify.com/artist/00XhexlJEXQstHimpZN910'}, 'href': 'https://api.spotify.com/v1/artists/00XhexlJEXQstHimpZN910', 'id': '00XhexlJEXQstHimpZN910', 'name': 'Brytiago', 'type': 'artist', 'uri': 'spotify:artist:00XhexlJEXQstHimpZN910'}], 'available_markets': ['AD', 'AE', 'AL', 'AR', 'AT', 'AU', 'BA', 'BE', 'BG', 'BH', 'BO', 'BR', 'BY', 'CA', 'CH', 'CL', 'CO', 'CR', 'CY', 'CZ', 'DE', 'DK', 'DO', 'DZ', 'EC', 'EE', 'EG', 'ES', 'FI', 'FR', 'GB', 'GR', 'GT', 'HK', 'HN', 'HR', 'HU', 'ID', 'IE', 'IL', 'IN', 'IS', 'IT', 'JO', 'JP', 'KW', 'KZ', 'LB', 'LI', 'LT', 'LU', 'LV', 'MA', 'MC', 'MD', 'ME', 'MK', 'MT', 'MX', 'MY', 'NI', 'NL', 'NO', 'NZ', 'OM', 'PA', 'PE', 'PH', 'PL', 'PS', 'PT', 'PY', 'QA', 'RO', 'RS', 'RU', 'SA', 'SE', 'SG', 'SI', 'SK', 'SV', 'TH', 'TN', 'TR', 'TW', 'UA', 'US', 'UY', 'VN', 'XK', 'ZA'], 'external_urls': {'spotify': 'https://open.spotify.com/album/4sAj704PbYTvBF2fFa88a1'}, 'href': 'https://api.spotify.com/v1/albums/4sAj704PbYTvBF2fFa88a1', 'id': '4sAj704PbYTvBF2fFa88a1', 'images': [{'height': 640, 'url': 'https://i.scdn.co/image/ab67616d0000b2735faa613b419bdd41a4d82f44', 'width': 640}, {'height': 300, 'url': 'https://i.scdn.co/image/ab67616d00001e025faa613b419bdd41a4d82f44', 'width': 300}, {'height': 64, 'url': 'https://i.scdn.co/image/ab67616d000048515faa613b419bdd41a4d82f44', 'width': 64}], 'name': 'OrgÃ¡nico', 'release_date': '2020-07-17', 'release_date_precision': 'day', 'total_tracks': 16, 'type': 'album', 'uri': 'spotify:album:4sAj704PbYTvBF2fFa88a1'}, {'album_type': 'album', 'artists': [{'external_urls': {'spotify': 'https://open.spotify.com/artist/6TLwD7HPWuiOzvXEa3oCNe'}, 'href': 'https://api.spotify.com/v1/artists/6TLwD7HPWuiOzvXEa3oCNe', 'id': '6TLwD7HPWuiOzvXEa3oCNe', 'name': 'Oliver Tree', 'type': 'artist', 'uri': 'spotify:artist:6TLwD7HPWuiOzvXEa3oCNe'}], 'available_markets': ['AD', 'AE', 'AL', 'AR', 'AT', 'AU', 'BA', 'BE', 'BG', 'BH', 'BO', 'BR', 'BY', 'CA', 'CH', 'CL', 'CO', 'CR', 'CY', 'CZ', 'DE', 'DK', 'DO', 'DZ', 'EC', 'EE', 'EG', 'ES', 'FI', 'FR', 'GB', 'GR', 'GT', 'HK', 'HN', 'HR', 'HU', 'ID', 'IE', 'IL', 'IN', 'IS', 'IT', 'JO', 'JP', 'KW', 'KZ', 'LB', 'LI', 'LT', 'LU', 'LV', 'MA', 'MC', 'MD', 'ME', 'MK', 'MT', 'MX', 'MY', 'NI', 'NL', 'NO', 'NZ', 'OM', 'PA', 'PE', 'PH', 'PL', 'PS', 'PT', 'PY', 'QA', 'RO', 'RS', 'RU', 'SA', 'SE', 'SG', 'SI', 'SK', 'SV', 'TH', 'TN', 'TR', 'TW', 'UA', 'US', 'UY', 'VN', 'XK', 'ZA'], 'external_urls': {'spotify': 'https://open.spotify.com/album/1HmWQo43Gt8BR2dylfv3o4'}, 'href': 'https://api.spotify.com/v1/albums/1HmWQo43Gt8BR2dylfv3o4', 'id': '1HmWQo43Gt8BR2dylfv3o4', 'images': [{'height': 640, 'url': 'https://i.scdn.co/image/ab67616d0000b273e46d181f0fa342ee2ef38eb3', 'width': 640}, {'height': 300, 'url': 'https://i.scdn.co/image/ab67616d00001e02e46d181f0fa342ee2ef38eb3', 'width': 300}, {'height': 64, 'url': 'https://i.scdn.co/image/ab67616d00004851e46d181f0fa342ee2ef38eb3', 'width': 64}], 'name': 'Ugly is Beautiful', 'release_date': '2020-07-17', 'release_date_precision': 'day', 'total_tracks': 14, 'type': 'album', 'uri': 'spotify:album:1HmWQo43Gt8BR2dylfv3o4'}, {'album_type': 'single', 'artists': [{'external_urls': {'spotify': 'https://open.spotify.com/artist/6Ad91Jof8Niiw0lGLLi3NW'}, 'href': 'https://api.spotify.com/v1/artists/6Ad91Jof8Niiw0lGLLi3NW', 'id': '6Ad91Jof8Niiw0lGLLi3NW', 'name': 'YUNGBLUD', 'type': 'artist', 'uri': 'spotify:artist:6Ad91Jof8Niiw0lGLLi3NW'}], 'available_markets': ['AD', 'AE', 'AL', 'AR', 'AT', 'AU', 'BA', 'BE', 'BG', 'BH', 'BO', 'BR', 'BY', 'CA', 'CH', 'CL', 'CO', 'CR', 'CY', 'CZ', 'DE', 'DK', 'DO', 'DZ', 'EC', 'EE', 'EG', 'ES', 'FI', 'FR', 'GB', 'GR', 'GT', 'HK', 'HN', 'HR', 'HU', 'ID', 'IE', 'IL', 'IN', 'IS', 'IT', 'JO', 'JP', 'KW', 'KZ', 'LB', 'LI', 'LT', 'LU', 'LV', 'MA', 'MC', 'MD', 'ME', 'MK', 'MT', 'MX', 'MY', 'NI', 'NL', 'NO', 'NZ', 'OM', 'PA', 'PE', 'PH', 'PL', 'PS', 'PT', 'PY', 'QA', 'RO', 'RS', 'RU', 'SA', 'SE', 'SG', 'SI', 'SK', 'SV', 'TH', 'TN', 'TR', 'TW', 'UA', 'US', 'UY', 'VN', 'XK', 'ZA'], 'external_urls': {'spotify': 'https://open.spotify.com/album/6Il4NZgMll7LH4Gb4fcR3E'}, 'href': 'https://api.spotify.com/v1/albums/6Il4NZgMll7LH4Gb4fcR3E', 'id': '6Il4NZgMll7LH4Gb4fcR3E', 'images': [{'height': 640, 'url': 'https://i.scdn.co/image/ab67616d0000b2736e80151360335feefacb90d9', 'width': 640}, {'height': 300, 'url': 'https://i.scdn.co/image/ab67616d00001e026e80151360335feefacb90d9', 'width': 300}, {'height': 64, 'url': 'https://i.scdn.co/image/ab67616d000048516e80151360335feefacb90d9', 'width': 64}], 'name': 'Strawberry Lipstick', 'release_date': '2020-07-16', 'release_date_precision': 'day', 'total_tracks': 1, 'type': 'album', 'uri': 'spotify:album:6Il4NZgMll7LH4Gb4fcR3E'}, {'album_type': 'single', 'artists': [{'external_urls': {'spotify': 'https://open.spotify.com/artist/45TgXXqMDdF8BkjA83OM7z'}, 'href': 'https://api.spotify.com/v1/artists/45TgXXqMDdF8BkjA83OM7z', 'id': '45TgXXqMDdF8BkjA83OM7z', 'name': 'Rod Wave', 'type': 'artist', 'uri': 'spotify:artist:45TgXXqMDdF8BkjA83OM7z'}], 'available_markets': ['AD', 'AE', 'AL', 'AR', 'AT', 'AU', 'BA', 'BE', 'BG', 'BH', 'BO', 'BR', 'BY', 'CA', 'CH', 'CL', 'CO', 'CR', 'CY', 'CZ', 'DE', 'DK', 'DO', 'DZ', 'EC', 'EE', 'EG', 'ES', 'FI', 'FR', 'GB', 'GR', 'GT', 'HK', 'HN', 'HR', 'HU', 'ID', 'IE', 'IL', 'IN', 'IS', 'IT', 'JO', 'JP', 'KW', 'KZ', 'LB', 'LI', 'LT', 'LU', 'LV', 'MA', 'MC', 'MD', 'ME', 'MK', 'MT', 'MX', 'MY', 'NI', 'NL', 'NO', 'NZ', 'OM', 'PA', 'PE', 'PH', 'PL', 'PS', 'PT', 'PY', 'QA', 'RO', 'RS', 'RU', 'SA', 'SE', 'SG', 'SI', 'SK', 'SV', 'TH', 'TN', 'TR', 'TW', 'UA', 'US', 'UY', 'VN', 'XK', 'ZA'], 'external_urls': {'spotify': 'https://open.spotify.com/album/09T2PrA53cKeUvGalQHmf9'}, 'href': 'https://api.spotify.com/v1/albums/09T2PrA53cKeUvGalQHmf9', 'id': '09T2PrA53cKeUvGalQHmf9', 'images': [{'height': 640, 'url': 'https://i.scdn.co/image/ab67616d0000b27337850efe2b4d62bddb33a847', 'width': 640}, {'height': 300, 'url': 'https://i.scdn.co/image/ab67616d00001e0237850efe2b4d62bddb33a847', 'width': 300}, {'height': 64, 'url': 'https://i.scdn.co/image/ab67616d0000485137850efe2b4d62bddb33a847', 'width': 64}], 'name': 'Through The Wire', 'release_date': '2020-07-12', 'release_date_precision': 'day', 'total_tracks': 1, 'type': 'album', 'uri': 'spotify:album:09T2PrA53cKeUvGalQHmf9'}, {'album_type': 'single', 'artists': [{'external_urls': {'spotify': 'https://open.spotify.com/artist/2P5sC9cVZDToPxyomzF1UH'}, 'href': 'https://api.spotify.com/v1/artists/2P5sC9cVZDToPxyomzF1UH', 'id': '2P5sC9cVZDToPxyomzF1UH', 'name': 'Joey Bada$$', 'type': 'artist', 'uri': 'spotify:artist:2P5sC9cVZDToPxyomzF1UH'}], 'available_markets': ['AD', 'AE', 'AL', 'AR', 'AT', 'AU', 'BA', 'BE', 'BG', 'BH', 'BO', 'BR', 'BY', 'CA', 'CH', 'CL', 'CO', 'CR', 'CY', 'CZ', 'DE', 'DK', 'DO', 'DZ', 'EC', 'EE', 'EG', 'ES', 'FI', 'FR', 'GB', 'GR', 'GT', 'HK', 'HN', 'HR', 'HU', 'ID', 'IE', 'IL', 'IN', 'IS', 'IT', 'JO', 'JP', 'KW', 'KZ', 'LB', 'LI', 'LT', 'LU', 'LV', 'MA', 'MC', 'MD', 'ME', 'MK', 'MT', 'MX', 'MY', 'NI', 'NL', 'NO', 'NZ', 'OM', 'PA', 'PE', 'PH', 'PL', 'PS', 'PT', 'PY', 'QA', 'RO', 'RS', 'RU', 'SA', 'SE', 'SG', 'SI', 'SK', 'SV', 'TH', 'TN', 'TR', 'TW', 'UA', 'US', 'UY', 'VN', 'XK', 'ZA'], 'external_urls': {'spotify': 'https://open.spotify.com/album/14EzA7MWoKYPjzjeT4gtj3'}, 'href': 'https://api.spotify.com/v1/albums/14EzA7MWoKYPjzjeT4gtj3', 'id': '14EzA7MWoKYPjzjeT4gtj3', 'images': [{'height': 640, 'url': 'https://i.scdn.co/image/ab67616d0000b27363d3d88060ff940456b89719', 'width': 640}, {'height': 300, 'url': 'https://i.scdn.co/image/ab67616d00001e0263d3d88060ff940456b89719', 'width': 300}, {'height': 64, 'url': 'https://i.scdn.co/image/ab67616d0000485163d3d88060ff940456b89719', 'width': 64}], 'name': 'The Light Pack', 'release_date': '2020-07-17', 'release_date_precision': 'day', 'total_tracks': 3, 'type': 'album', 'uri': 'spotify:album:14EzA7MWoKYPjzjeT4gtj3'}, {'album_type': 'album', 'artists': [{'external_urls': {'spotify': 'https://open.spotify.com/artist/78SHxLdtysAXgywQ4vE0Oa'}, 'href': 'https://api.spotify.com/v1/artists/78SHxLdtysAXgywQ4vE0Oa', 'id': '78SHxLdtysAXgywQ4vE0Oa', 'name': 'Bush', 'type': 'artist', 'uri': 'spotify:artist:78SHxLdtysAXgywQ4vE0Oa'}], 'available_markets': ['AD', 'AE', 'AL', 'AR', 'AT', 'AU', 'BA', 'BE', 'BG', 'BH', 'BO', 'BR', 'BY', 'CA', 'CH', 'CL', 'CO', 'CR', 'CY', 'CZ', 'DE', 'DK', 'DO', 'DZ', 'EC', 'EE', 'EG', 'ES', 'FI', 'FR', 'GB', 'GR', 'GT', 'HK', 'HN', 'HR', 'HU', 'ID', 'IE', 'IL', 'IS', 'IT', 'JO', 'JP', 'KW', 'KZ', 'LB', 'LI', 'LT', 'LU', 'LV', 'MA', 'MC', 'MD', 'ME', 'MK', 'MT', 'MX', 'MY', 'NI', 'NL', 'NO', 'NZ', 'OM', 'PA', 'PE', 'PH', 'PL', 'PS', 'PT', 'PY', 'QA', 'RO', 'RS', 'RU', 'SA', 'SE', 'SG', 'SI', 'SK', 'SV', 'TH', 'TN', 'TR', 'TW', 'UA', 'US', 'UY', 'VN', 'XK', 'ZA'], 'external_urls': {'spotify': 'https://open.spotify.com/album/1IduB3mfHISAtpV1zQHpef'}, 'href': 'https://api.spotify.com/v1/albums/1IduB3mfHISAtpV1zQHpef', 'id': '1IduB3mfHISAtpV1zQHpef', 'images': [{'height': 640, 'url': 'https://i.scdn.co/image/ab67616d0000b273000dc224c449d83b0679f6a2', 'width': 640}, {'height': 300, 'url': 'https://i.scdn.co/image/ab67616d00001e02000dc224c449d83b0679f6a2', 'width': 300}, {'height': 64, 'url': 'https://i.scdn.co/image/ab67616d00004851000dc224c449d83b0679f6a2', 'width': 64}], 'name': 'The Kingdom', 'release_date': '2020-07-17', 'release_date_precision': 'day', 'total_tracks': 12, 'type': 'album', 'uri': 'spotify:album:1IduB3mfHISAtpV1zQHpef'}]\n"
     ]
    }
   ],
   "source": [
    "#Testing\n",
    "albums=list(new_releases['albums']['items'])\n",
    "\n",
    "print(albums)"
   ]
  },
  {
   "cell_type": "markdown",
   "metadata": {},
   "source": [
    "#### 2.\n",
    "\n",
    "#### 2.a.\n",
    "\n",
    "Using **one line** of code, generate a list of names of artists for each album in `albums`. Save this list to a new variable named `artist_names`. If there are multiple artists, get the first one only.\n",
    "\n",
    "Dump this new list"
   ]
  },
  {
   "cell_type": "code",
   "execution_count": 12,
   "metadata": {},
   "outputs": [
    {
     "name": "stdout",
     "output_type": "stream",
     "text": [
      "['DJ Khaled', 'Ellie Goulding', 'Emily King', 'The Chicks', 'J.I the Prince of N.Y', 'Zedd', 'Troye Sivan', 'David Guetta', 'Pink Sweat$', 'beabadoobee', 'StaySolidRocky', 'Alessia Cara', 'Lianne La Havas', 'Kygo', 'Brytiago', 'Oliver Tree', 'YUNGBLUD', 'Rod Wave', 'Joey Bada$$', 'Bush']\n"
     ]
    }
   ],
   "source": [
    "# write code here. add more cells as needed.\n",
    "artist_names=[album['artists'][0]['name'] for album in albums]\n",
    "\n",
    "\n",
    "\n",
    "# sample output\n",
    "print(artist_names)"
   ]
  },
  {
   "cell_type": "code",
   "execution_count": 6,
   "metadata": {},
   "outputs": [
    {
     "name": "stdout",
     "output_type": "stream",
     "text": [
      "['DJ Khaled', 'Ellie Goulding', 'Emily King', 'The Chicks', 'J.I the Prince of N.Y', 'Zedd', 'Troye Sivan', 'David Guetta', 'Pink Sweat$', 'beabadoobee', 'StaySolidRocky', 'Alessia Cara', 'Lianne La Havas', 'Kygo', 'Brytiago', 'Oliver Tree', 'YUNGBLUD', 'Rod Wave', 'Joey Bada$$', 'Bush']\n"
     ]
    }
   ],
   "source": [
    "#Testing\n",
    "artist_names=[album['artists'][0]['name'] for album in albums]\n",
    "print(artist_names)"
   ]
  },
  {
   "cell_type": "code",
   "execution_count": null,
   "metadata": {},
   "outputs": [],
   "source": []
  }
 ],
 "metadata": {
  "kernelspec": {
   "display_name": "Python 3",
   "language": "python",
   "name": "python3"
  },
  "language_info": {
   "codemirror_mode": {
    "name": "ipython",
    "version": 3
   },
   "file_extension": ".py",
   "mimetype": "text/x-python",
   "name": "python",
   "nbconvert_exporter": "python",
   "pygments_lexer": "ipython3",
   "version": "3.7.6"
  }
 },
 "nbformat": 4,
 "nbformat_minor": 2
}
